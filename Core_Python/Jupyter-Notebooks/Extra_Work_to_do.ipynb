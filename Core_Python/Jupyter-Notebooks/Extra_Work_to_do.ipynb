{
 "cells": [
  {
   "cell_type": "code",
   "execution_count": 1,
   "metadata": {
    "collapsed": true
   },
   "outputs": [],
   "source": [
    "f = open('test.txt')\n",
    "data  = f.read()\n",
    "f.close()"
   ]
  },
  {
   "cell_type": "code",
   "execution_count": 2,
   "metadata": {},
   "outputs": [
    {
     "data": {
      "text/plain": [
       "'name\\tmath\\tscience\\tenglish\\tHindi\\nram\\t65\\t75\\t85\\t67\\nshyam\\t70\\t80\\t77\\t80\\nhari\\t55\\t56\\t85\\t67\\nmohan\\t87\\t76\\t67\\t78\\nbharat\\t45\\t34\\t67\\t67\\nparth\\t78\\t23\\t23\\t34\\nsamridhi\\t00\\t78\\t67\\t23\\nsonali\\t23\\t80\\t56\\t87\\nsachin\\t67\\t56\\t56\\t46\\nrajat\\t46\\t78\\t65\\t57\\nnaveen\\t78\\t36\\t45\\t45\\nabhishek\\t87\\t79\\t10\\t55\\nchitrank\\t87\\t56\\t35\\t66\\naman\\t35\\t36\\t67\\t65\\n'"
      ]
     },
     "execution_count": 2,
     "metadata": {},
     "output_type": "execute_result"
    }
   ],
   "source": [
    "data"
   ]
  },
  {
   "cell_type": "code",
   "execution_count": 3,
   "metadata": {
    "collapsed": true
   },
   "outputs": [],
   "source": [
    "lines  = data.split('\\n')"
   ]
  },
  {
   "cell_type": "code",
   "execution_count": 23,
   "metadata": {},
   "outputs": [
    {
     "data": {
      "text/plain": [
       "['name\\tmath\\tscience\\tenglish\\tHindi',\n",
       " 'ram\\t65\\t75\\t85\\t67',\n",
       " 'shyam\\t70\\t80\\t77\\t80',\n",
       " 'hari\\t55\\t56\\t85\\t67',\n",
       " 'mohan\\t87\\t76\\t67\\t78',\n",
       " 'bharat\\t45\\t34\\t67\\t67',\n",
       " 'parth\\t78\\t23\\t23\\t34',\n",
       " 'samridhi\\t00\\t78\\t67\\t23',\n",
       " 'sonali\\t23\\t80\\t56\\t87',\n",
       " 'sachin\\t67\\t56\\t56\\t46',\n",
       " 'rajat\\t46\\t78\\t65\\t57',\n",
       " 'naveen\\t78\\t36\\t45\\t45',\n",
       " 'abhishek\\t87\\t79\\t10\\t55',\n",
       " 'chitrank\\t87\\t56\\t35\\t66',\n",
       " 'aman\\t35\\t36\\t67\\t65',\n",
       " '']"
      ]
     },
     "execution_count": 23,
     "metadata": {},
     "output_type": "execute_result"
    }
   ],
   "source": [
    "lines"
   ]
  },
  {
   "cell_type": "code",
   "execution_count": 5,
   "metadata": {
    "collapsed": true
   },
   "outputs": [],
   "source": [
    "values = []\n",
    "for line in lines :\n",
    "    d  = line.split('\\t')\n",
    "    values.append(d)"
   ]
  },
  {
   "cell_type": "code",
   "execution_count": 26,
   "metadata": {},
   "outputs": [
    {
     "data": {
      "text/plain": [
       "[['name', 'math', 'science', 'english', 'Hindi'],\n",
       " ['ram', '65', '75', '85', '67'],\n",
       " ['shyam', '70', '80', '77', '80'],\n",
       " ['hari', '55', '56', '85', '67'],\n",
       " ['mohan', '87', '76', '67', '78'],\n",
       " ['bharat', '45', '34', '67', '67'],\n",
       " ['parth', '78', '23', '23', '34'],\n",
       " ['samridhi', '00', '78', '67', '23'],\n",
       " ['sonali', '23', '80', '56', '87'],\n",
       " ['sachin', '67', '56', '56', '46'],\n",
       " ['rajat', '46', '78', '65', '57'],\n",
       " ['naveen', '78', '36', '45', '45'],\n",
       " ['abhishek', '87', '79', '10', '55'],\n",
       " ['chitrank', '87', '56', '35', '66'],\n",
       " ['aman', '35', '36', '67', '65'],\n",
       " ['']]"
      ]
     },
     "execution_count": 26,
     "metadata": {},
     "output_type": "execute_result"
    }
   ],
   "source": [
    "values"
   ]
  },
  {
   "cell_type": "code",
   "execution_count": 27,
   "metadata": {
    "collapsed": true
   },
   "outputs": [],
   "source": [
    "col_name = values[0]"
   ]
  },
  {
   "cell_type": "code",
   "execution_count": 28,
   "metadata": {},
   "outputs": [
    {
     "data": {
      "text/plain": [
       "['name', 'math', 'science', 'english', 'Hindi']"
      ]
     },
     "execution_count": 28,
     "metadata": {},
     "output_type": "execute_result"
    }
   ],
   "source": [
    "col_name"
   ]
  },
  {
   "cell_type": "code",
   "execution_count": 36,
   "metadata": {},
   "outputs": [],
   "source": [
    "user_name = []\n",
    "user_marks = []\n",
    "for data in values[1:] :\n",
    "    user_name.append(data[0])\n",
    "    user_marks.append(sum(list(map(int,data[1:])))/4)\n",
    "    "
   ]
  },
  {
   "cell_type": "code",
   "execution_count": 37,
   "metadata": {},
   "outputs": [
    {
     "name": "stdout",
     "output_type": "stream",
     "text": [
      "['ram', 'shyam', 'hari', 'mohan', 'bharat', 'parth', 'samridhi', 'sonali', 'sachin', 'rajat', 'naveen', 'abhishek', 'chitrank', 'aman', '']\n",
      "[73.0, 76.75, 65.75, 77.0, 53.25, 39.5, 42.0, 61.5, 56.25, 61.5, 51.0, 57.75, 61.0, 50.75, 0.0]\n"
     ]
    }
   ],
   "source": [
    "print(user_name)\n",
    "print(user_marks)"
   ]
  },
  {
   "cell_type": "code",
   "execution_count": 38,
   "metadata": {
    "collapsed": true
   },
   "outputs": [],
   "source": [
    "user_marks.insert(0,'Percentage')"
   ]
  },
  {
   "cell_type": "code",
   "execution_count": 40,
   "metadata": {},
   "outputs": [
    {
     "name": "stdout",
     "output_type": "stream",
     "text": [
      "['Percentage', 73.0, 76.75, 65.75, 77.0, 53.25, 39.5, 42.0, 61.5, 56.25, 61.5, 51.0, 57.75, 61.0, 50.75, 0.0]\n",
      "[['name', 'math', 'science', 'english', 'Hindi'], ['ram', '65', '75', '85', '67'], ['shyam', '70', '80', '77', '80'], ['hari', '55', '56', '85', '67'], ['mohan', '87', '76', '67', '78'], ['bharat', '45', '34', '67', '67'], ['parth', '78', '23', '23', '34'], ['samridhi', '00', '78', '67', '23'], ['sonali', '23', '80', '56', '87'], ['sachin', '67', '56', '56', '46'], ['rajat', '46', '78', '65', '57'], ['naveen', '78', '36', '45', '45'], ['abhishek', '87', '79', '10', '55'], ['chitrank', '87', '56', '35', '66'], ['aman', '35', '36', '67', '65'], ['']]\n"
     ]
    }
   ],
   "source": [
    "print(user_marks)\n",
    "print(values)"
   ]
  },
  {
   "cell_type": "code",
   "execution_count": 41,
   "metadata": {
    "collapsed": true
   },
   "outputs": [],
   "source": [
    "for line in range(0,len(lines)) :\n",
    "    values[line].append(str(user_marks[line]))"
   ]
  },
  {
   "cell_type": "code",
   "execution_count": 42,
   "metadata": {},
   "outputs": [
    {
     "data": {
      "text/plain": [
       "[['name', 'math', 'science', 'english', 'Hindi', 'Percentage'],\n",
       " ['ram', '65', '75', '85', '67', '73.0'],\n",
       " ['shyam', '70', '80', '77', '80', '76.75'],\n",
       " ['hari', '55', '56', '85', '67', '65.75'],\n",
       " ['mohan', '87', '76', '67', '78', '77.0'],\n",
       " ['bharat', '45', '34', '67', '67', '53.25'],\n",
       " ['parth', '78', '23', '23', '34', '39.5'],\n",
       " ['samridhi', '00', '78', '67', '23', '42.0'],\n",
       " ['sonali', '23', '80', '56', '87', '61.5'],\n",
       " ['sachin', '67', '56', '56', '46', '56.25'],\n",
       " ['rajat', '46', '78', '65', '57', '61.5'],\n",
       " ['naveen', '78', '36', '45', '45', '51.0'],\n",
       " ['abhishek', '87', '79', '10', '55', '57.75'],\n",
       " ['chitrank', '87', '56', '35', '66', '61.0'],\n",
       " ['aman', '35', '36', '67', '65', '50.75'],\n",
       " ['', '0.0']]"
      ]
     },
     "execution_count": 42,
     "metadata": {},
     "output_type": "execute_result"
    }
   ],
   "source": [
    "values"
   ]
  },
  {
   "cell_type": "code",
   "execution_count": 44,
   "metadata": {},
   "outputs": [],
   "source": [
    "new_data = []\n",
    "for line in values:\n",
    "    new_data.append('\\t'.join(line))\n",
    "    "
   ]
  },
  {
   "cell_type": "code",
   "execution_count": 46,
   "metadata": {},
   "outputs": [],
   "source": [
    "new_str = '\\n'.join(new_data)"
   ]
  },
  {
   "cell_type": "code",
   "execution_count": 47,
   "metadata": {},
   "outputs": [
    {
     "data": {
      "text/plain": [
       "'name\\tmath\\tscience\\tenglish\\tHindi\\tPercentage\\nram\\t65\\t75\\t85\\t67\\t73.0\\nshyam\\t70\\t80\\t77\\t80\\t76.75\\nhari\\t55\\t56\\t85\\t67\\t65.75\\nmohan\\t87\\t76\\t67\\t78\\t77.0\\nbharat\\t45\\t34\\t67\\t67\\t53.25\\nparth\\t78\\t23\\t23\\t34\\t39.5\\nsamridhi\\t00\\t78\\t67\\t23\\t42.0\\nsonali\\t23\\t80\\t56\\t87\\t61.5\\nsachin\\t67\\t56\\t56\\t46\\t56.25\\nrajat\\t46\\t78\\t65\\t57\\t61.5\\nnaveen\\t78\\t36\\t45\\t45\\t51.0\\nabhishek\\t87\\t79\\t10\\t55\\t57.75\\nchitrank\\t87\\t56\\t35\\t66\\t61.0\\naman\\t35\\t36\\t67\\t65\\t50.75\\n\\t0.0'"
      ]
     },
     "execution_count": 47,
     "metadata": {},
     "output_type": "execute_result"
    }
   ],
   "source": [
    "new_str"
   ]
  },
  {
   "cell_type": "code",
   "execution_count": 48,
   "metadata": {
    "collapsed": true
   },
   "outputs": [],
   "source": [
    "f  = open('result.txt','w')\n",
    "f.write(new_str)\n",
    "f.close()"
   ]
  },
  {
   "cell_type": "code",
   "execution_count": 59,
   "metadata": {},
   "outputs": [],
   "source": [
    "import pandas as pd\n",
    "data = pd.read_csv('test.txt',sep='\\t')"
   ]
  },
  {
   "cell_type": "code",
   "execution_count": 60,
   "metadata": {},
   "outputs": [
    {
     "data": {
      "text/html": [
       "<div>\n",
       "<style scoped>\n",
       "    .dataframe tbody tr th:only-of-type {\n",
       "        vertical-align: middle;\n",
       "    }\n",
       "\n",
       "    .dataframe tbody tr th {\n",
       "        vertical-align: top;\n",
       "    }\n",
       "\n",
       "    .dataframe thead th {\n",
       "        text-align: right;\n",
       "    }\n",
       "</style>\n",
       "<table border=\"1\" class=\"dataframe\">\n",
       "  <thead>\n",
       "    <tr style=\"text-align: right;\">\n",
       "      <th></th>\n",
       "      <th>name</th>\n",
       "      <th>math</th>\n",
       "      <th>science</th>\n",
       "      <th>english</th>\n",
       "      <th>Hindi</th>\n",
       "    </tr>\n",
       "  </thead>\n",
       "  <tbody>\n",
       "    <tr>\n",
       "      <th>0</th>\n",
       "      <td>ram</td>\n",
       "      <td>65</td>\n",
       "      <td>75</td>\n",
       "      <td>85</td>\n",
       "      <td>67</td>\n",
       "    </tr>\n",
       "    <tr>\n",
       "      <th>1</th>\n",
       "      <td>shyam</td>\n",
       "      <td>70</td>\n",
       "      <td>80</td>\n",
       "      <td>77</td>\n",
       "      <td>80</td>\n",
       "    </tr>\n",
       "    <tr>\n",
       "      <th>2</th>\n",
       "      <td>hari</td>\n",
       "      <td>55</td>\n",
       "      <td>56</td>\n",
       "      <td>85</td>\n",
       "      <td>67</td>\n",
       "    </tr>\n",
       "    <tr>\n",
       "      <th>3</th>\n",
       "      <td>mohan</td>\n",
       "      <td>87</td>\n",
       "      <td>76</td>\n",
       "      <td>67</td>\n",
       "      <td>78</td>\n",
       "    </tr>\n",
       "    <tr>\n",
       "      <th>4</th>\n",
       "      <td>bharat</td>\n",
       "      <td>45</td>\n",
       "      <td>34</td>\n",
       "      <td>67</td>\n",
       "      <td>67</td>\n",
       "    </tr>\n",
       "    <tr>\n",
       "      <th>5</th>\n",
       "      <td>parth</td>\n",
       "      <td>78</td>\n",
       "      <td>23</td>\n",
       "      <td>23</td>\n",
       "      <td>34</td>\n",
       "    </tr>\n",
       "    <tr>\n",
       "      <th>6</th>\n",
       "      <td>samridhi</td>\n",
       "      <td>0</td>\n",
       "      <td>78</td>\n",
       "      <td>67</td>\n",
       "      <td>23</td>\n",
       "    </tr>\n",
       "    <tr>\n",
       "      <th>7</th>\n",
       "      <td>sonali</td>\n",
       "      <td>23</td>\n",
       "      <td>80</td>\n",
       "      <td>56</td>\n",
       "      <td>87</td>\n",
       "    </tr>\n",
       "    <tr>\n",
       "      <th>8</th>\n",
       "      <td>sachin</td>\n",
       "      <td>67</td>\n",
       "      <td>56</td>\n",
       "      <td>56</td>\n",
       "      <td>46</td>\n",
       "    </tr>\n",
       "    <tr>\n",
       "      <th>9</th>\n",
       "      <td>rajat</td>\n",
       "      <td>46</td>\n",
       "      <td>78</td>\n",
       "      <td>65</td>\n",
       "      <td>57</td>\n",
       "    </tr>\n",
       "    <tr>\n",
       "      <th>10</th>\n",
       "      <td>naveen</td>\n",
       "      <td>78</td>\n",
       "      <td>36</td>\n",
       "      <td>45</td>\n",
       "      <td>45</td>\n",
       "    </tr>\n",
       "    <tr>\n",
       "      <th>11</th>\n",
       "      <td>abhishek</td>\n",
       "      <td>87</td>\n",
       "      <td>79</td>\n",
       "      <td>10</td>\n",
       "      <td>55</td>\n",
       "    </tr>\n",
       "    <tr>\n",
       "      <th>12</th>\n",
       "      <td>chitrank</td>\n",
       "      <td>87</td>\n",
       "      <td>56</td>\n",
       "      <td>35</td>\n",
       "      <td>66</td>\n",
       "    </tr>\n",
       "    <tr>\n",
       "      <th>13</th>\n",
       "      <td>aman</td>\n",
       "      <td>35</td>\n",
       "      <td>36</td>\n",
       "      <td>67</td>\n",
       "      <td>65</td>\n",
       "    </tr>\n",
       "  </tbody>\n",
       "</table>\n",
       "</div>"
      ],
      "text/plain": [
       "        name  math  science  english  Hindi\n",
       "0        ram    65       75       85     67\n",
       "1      shyam    70       80       77     80\n",
       "2       hari    55       56       85     67\n",
       "3      mohan    87       76       67     78\n",
       "4     bharat    45       34       67     67\n",
       "5      parth    78       23       23     34\n",
       "6   samridhi     0       78       67     23\n",
       "7     sonali    23       80       56     87\n",
       "8     sachin    67       56       56     46\n",
       "9      rajat    46       78       65     57\n",
       "10    naveen    78       36       45     45\n",
       "11  abhishek    87       79       10     55\n",
       "12  chitrank    87       56       35     66\n",
       "13      aman    35       36       67     65"
      ]
     },
     "execution_count": 60,
     "metadata": {},
     "output_type": "execute_result"
    }
   ],
   "source": [
    "data"
   ]
  },
  {
   "cell_type": "code",
   "execution_count": 61,
   "metadata": {},
   "outputs": [
    {
     "data": {
      "text/plain": [
       "math       58.785714\n",
       "science    60.214286\n",
       "english    57.500000\n",
       "Hindi      59.785714\n",
       "dtype: float64"
      ]
     },
     "execution_count": 61,
     "metadata": {},
     "output_type": "execute_result"
    }
   ],
   "source": [
    "data.mean()"
   ]
  },
  {
   "cell_type": "code",
   "execution_count": 63,
   "metadata": {},
   "outputs": [
    {
     "data": {
      "text/plain": [
       "math       66.0\n",
       "science    65.5\n",
       "english    66.0\n",
       "Hindi      65.5\n",
       "dtype: float64"
      ]
     },
     "execution_count": 63,
     "metadata": {},
     "output_type": "execute_result"
    }
   ],
   "source": [
    "data.median()"
   ]
  },
  {
   "cell_type": "code",
   "execution_count": 64,
   "metadata": {},
   "outputs": [
    {
     "data": {
      "text/plain": [
       "math       26.353159\n",
       "science    20.632978\n",
       "english    22.228706\n",
       "Hindi      17.889312\n",
       "dtype: float64"
      ]
     },
     "execution_count": 64,
     "metadata": {},
     "output_type": "execute_result"
    }
   ],
   "source": [
    "data.std()"
   ]
  },
  {
   "cell_type": "code",
   "execution_count": null,
   "metadata": {
    "collapsed": true
   },
   "outputs": [],
   "source": []
  }
 ],
 "metadata": {
  "kernelspec": {
   "display_name": "Python 3",
   "language": "python",
   "name": "python3"
  },
  "language_info": {
   "codemirror_mode": {
    "name": "ipython",
    "version": 3
   },
   "file_extension": ".py",
   "mimetype": "text/x-python",
   "name": "python",
   "nbconvert_exporter": "python",
   "pygments_lexer": "ipython3",
   "version": "3.6.3"
  }
 },
 "nbformat": 4,
 "nbformat_minor": 2
}
