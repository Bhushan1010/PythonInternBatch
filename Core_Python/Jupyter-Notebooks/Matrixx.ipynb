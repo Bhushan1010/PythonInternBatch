{
 "cells": [
  {
   "cell_type": "code",
   "execution_count": 1,
   "metadata": {},
   "outputs": [
    {
     "name": "stdout",
     "output_type": "stream",
     "text": [
      "Enter n : 2\n",
      "Enter m : 3\n",
      "1 2 3\n",
      "4 5 6\n",
      "A[2][3]7\n",
      "A[2][3]8\n",
      "A[2][3]9\n",
      "A[2][3]10\n",
      "A[2][3]11\n",
      "A[2][3]12\n",
      "[[1, 2, 3], [4, 5, 6]]\n",
      "[[7, 8, 9], [10, 11, 12]]\n"
     ]
    }
   ],
   "source": [
    "n = int(input(\"Enter n : \"))\n",
    "m = int(input(\"Enter m : \"))\n",
    "def get_matrix():\n",
    "    A = []\n",
    "    for row in range(n):\n",
    "        t = list(map(int,input().split()))\n",
    "        A.append(t)\n",
    "    return A\n",
    "def old_get():\n",
    "    A = [] \n",
    "    for row in range(n):\n",
    "        t = []\n",
    "        for col in range(m):\n",
    "            t.append(int(input(\"A[{}][{}]\".format(n,m))))\n",
    "        A.append(t)\n",
    "    return A\n",
    "A = get_matrix()\n",
    "B = old_get()\n",
    "print(A)\n",
    "print(B)\n",
    "\n",
    "\n"
   ]
  },
  {
   "cell_type": "code",
   "execution_count": 3,
   "metadata": {},
   "outputs": [
    {
     "name": "stdout",
     "output_type": "stream",
     "text": [
      "Enter matrix dimension m n : 3 4\n",
      "Please Give matrix A : \n",
      "\t1 2 3 4\n",
      "\t5 6 7 8\n",
      "\t9 10 11\n",
      "Please Give matrix B : \n",
      "\t12 13 14 15\n",
      "\t16 17 18 19\n",
      "\t20 21 22 23 \n",
      "Matrix A is : \n",
      "\t          1         2         3         4\n",
      "\t          5         6         7         8\n",
      "\t          9        10        11\n",
      "Matrix B is : \n",
      "\t         12        13        14        15\n",
      "\t         16        17        18        19\n",
      "\t         20        21        22        23\n"
     ]
    }
   ],
   "source": [
    "n,m = map(int,input(\"Enter matrix dimension m n : \").lower().split())\n",
    "#A = [ [ int(input(\"A[{}][{}] = \".format(row,col))) for col in range(m) ] for row in range(n) ]\n",
    "def show(X):\n",
    "    for var in X:\n",
    "        s = '{:10}'*len(var)\n",
    "        print('\\t',s.format(*var))\n",
    "\n",
    "print(\"Please Give matrix A : \")\n",
    "A = [ list(map(int,input('\\t').split())) for var in range(n) ]\n",
    "print(\"Please Give matrix B : \")\n",
    "B = [ list(map(int,input('\\t').split())) for var in range(n) ]\n",
    "print(\"Matrix A is : \")\n",
    "show(A)\n",
    "print(\"Matrix B is : \")\n",
    "show(B)\n"
   ]
  },
  {
   "cell_type": "markdown",
   "metadata": {},
   "source": []
  }
 ],
 "metadata": {
  "kernelspec": {
   "display_name": "Python 3",
   "language": "python",
   "name": "python3"
  },
  "language_info": {
   "codemirror_mode": {
    "name": "ipython",
    "version": 3
   },
   "file_extension": ".py",
   "mimetype": "text/x-python",
   "name": "python",
   "nbconvert_exporter": "python",
   "pygments_lexer": "ipython3",
   "version": "3.6.3"
  }
 },
 "nbformat": 4,
 "nbformat_minor": 2
}
