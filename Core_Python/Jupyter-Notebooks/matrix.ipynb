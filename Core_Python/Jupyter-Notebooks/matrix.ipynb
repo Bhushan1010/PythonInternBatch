{
 "cells": [
  {
   "cell_type": "code",
   "execution_count": null,
   "metadata": {
    "collapsed": true
   },
   "outputs": [],
   "source": [
    "n,m = map(int,input(\"Enter matrix dimension m n : \").lower().split())\n",
    "#A = [ [ int(input(\"A[{}][{}] = \".format(row,col))) for col in range(m) ] for row in range(n) ]\n",
    "def show(X):\n",
    "    for var in X:\n",
    "        s = '{:10}'*len(var)\n",
    "        print('\\t',s.format(*var))\n",
    "\n",
    "print(\"Please Give matrix A : \")\n",
    "A = [ list(map(int,input('\\t').split())) for var in range(n) ]\n",
    "print(\"Please Give matrix B : \")\n",
    "B = [ list(map(int,input('\\t').split())) for var in range(n) ]\n",
    "print(\"Matrix A is : \")\n",
    "show(A)\n",
    "print(\"Matrix B is : \")\n",
    "show(B)\n"
   ]
  }
 ],
 "metadata": {
  "kernelspec": {
   "display_name": "Python 3",
   "language": "python",
   "name": "python3"
  },
  "language_info": {
   "codemirror_mode": {
    "name": "ipython",
    "version": 3
   },
   "file_extension": ".py",
   "mimetype": "text/x-python",
   "name": "python",
   "nbconvert_exporter": "python",
   "pygments_lexer": "ipython3",
   "version": "3.6.3"
  }
 },
 "nbformat": 4,
 "nbformat_minor": 2
}
