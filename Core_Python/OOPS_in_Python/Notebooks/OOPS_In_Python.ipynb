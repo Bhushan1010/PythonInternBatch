{
 "cells": [
  {
   "cell_type": "markdown",
   "metadata": {},
   "source": [
    "# OOP'S in PYTHON"
   ]
  },
  {
   "cell_type": "code",
   "execution_count": 5,
   "metadata": {
    "collapsed": true
   },
   "outputs": [],
   "source": [
    "class MyClass:\n",
    "    \"\"\" doc string \"\"\"\n",
    "    x = \"HI I am class Variable\"\n",
    "    def method1(self):\n",
    "        self.y = 0 #HI I will be object variable\n",
    "        pass\n",
    "    def method2(self):\n",
    "        pass\n",
    "    def method3(self):\n",
    "        pass\n",
    "\n",
    "obj1 = MyClass() #object instantiation or invoking of class constructor\n",
    "obj2 = MyClass() #this is object 2\n",
    "obj1.method1() #obj1 calling method 1 of class\n",
    "obj2.method3() #obj2 is callinng method3 of class myclass"
   ]
  },
  {
   "cell_type": "code",
   "execution_count": 6,
   "metadata": {},
   "outputs": [
    {
     "name": "stdout",
     "output_type": "stream",
     "text": [
      "0\n",
      "HI I am class Variable\n"
     ]
    }
   ],
   "source": [
    "print(obj1.y)\n",
    "print(obj1.x)"
   ]
  },
  {
   "cell_type": "code",
   "execution_count": 9,
   "metadata": {},
   "outputs": [
    {
     "name": "stdout",
     "output_type": "stream",
     "text": [
      "HI I am class Variable\n",
      "0\n",
      "['__class__', '__delattr__', '__dict__', '__dir__', '__doc__', '__eq__', '__format__', '__ge__', '__getattribute__', '__gt__', '__hash__', '__init__', '__init_subclass__', '__le__', '__lt__', '__module__', '__ne__', '__new__', '__reduce__', '__reduce_ex__', '__repr__', '__setattr__', '__sizeof__', '__str__', '__subclasshook__', '__weakref__', 'method1', 'method2', 'method3', 'x']\n"
     ]
    }
   ],
   "source": [
    "print(obj2.x)\n",
    "obj2.method1()\n",
    "print(obj2.y)\n",
    "print(dir(MyClass))"
   ]
  },
  {
   "cell_type": "code",
   "execution_count": 11,
   "metadata": {},
   "outputs": [
    {
     "name": "stdout",
     "output_type": "stream",
     "text": [
      "['__class__', '__delattr__', '__dict__', '__dir__', '__doc__', '__eq__', '__format__', '__ge__', '__getattribute__', '__gt__', '__hash__', '__init__', '__init_subclass__', '__le__', '__lt__', '__module__', '__ne__', '__new__', '__reduce__', '__reduce_ex__', '__repr__', '__setattr__', '__sizeof__', '__str__', '__subclasshook__', '__weakref__', 'method1', 'method2', 'method3', 'x', 'y']\n",
      " doc string \n",
      " doc string \n"
     ]
    }
   ],
   "source": [
    "print(dir(obj1))\n",
    "print(MyClass.__doc__)\n",
    "print(obj1.__doc__)\n",
    "    "
   ]
  },
  {
   "cell_type": "code",
   "execution_count": 40,
   "metadata": {
    "collapsed": true
   },
   "outputs": [],
   "source": [
    "class Robot(object):\n",
    "    \"\"\"HI I am Robot. Make do your Work.\"\"\"\n",
    "    common = \"Hi I am Common to all Robots.\"\n",
    "    def __init__(self,name,work):\n",
    "        \"\"\" HI i am constructor\"\"\"\n",
    "        self.name = name\n",
    "        self.work = work\n",
    "    def show(self):\n",
    "        \" HI I am show function to show details of robot.\"\n",
    "        print(\"Name = \",self.name)\n",
    "        print(\"Work = \",self.work)\n",
    "    def change(self,name,work):\n",
    "        \"Hi I am change function to change attributes.\"\n",
    "        self.name = name\n",
    "        self.work = work\n",
    "    def common_msg(self):\n",
    "        \"This is Group Chat Messege\"\n",
    "        print(\"Common Message = \",Robot.common)\n",
    "    def send_msg(self,msg):\n",
    "        \"This is to send Messege\"\n",
    "        Robot.common = msg\n",
    "\n",
    "    "
   ]
  },
  {
   "cell_type": "code",
   "execution_count": 41,
   "metadata": {
    "collapsed": true
   },
   "outputs": [],
   "source": [
    "robot1 = Robot('jony','music')\n",
    "robot2 = Robot('python','language')"
   ]
  },
  {
   "cell_type": "code",
   "execution_count": 42,
   "metadata": {},
   "outputs": [
    {
     "name": "stdout",
     "output_type": "stream",
     "text": [
      "Common Message =  Hi I am Common to all Robots.\n"
     ]
    }
   ],
   "source": [
    "robot1.common_msg()\n",
    "robot1.send_msg(\"Hey I am robot 1\")"
   ]
  },
  {
   "cell_type": "code",
   "execution_count": 21,
   "metadata": {},
   "outputs": [
    {
     "name": "stdout",
     "output_type": "stream",
     "text": [
      "Common Message =  Hey I am robot 1\n"
     ]
    }
   ],
   "source": [
    "robot2.common_msg()"
   ]
  },
  {
   "cell_type": "code",
   "execution_count": 23,
   "metadata": {},
   "outputs": [
    {
     "name": "stdout",
     "output_type": "stream",
     "text": [
      "Name =  jony\n",
      "Work =  music\n",
      "\n",
      "Name =  python\n",
      "Work =  language\n"
     ]
    }
   ],
   "source": [
    "robot1.show()\n",
    "print()\n",
    "robot2.show()"
   ]
  },
  {
   "cell_type": "code",
   "execution_count": 24,
   "metadata": {
    "collapsed": true
   },
   "outputs": [],
   "source": [
    "class Person:\n",
    "    def entry(self,name,work):\n",
    "        self.name = name\n",
    "        self.work = work\n",
    "    def show(self):\n",
    "        print(\"Name = \",self.name)\n",
    "        print(\"Work = \",self.work)"
   ]
  },
  {
   "cell_type": "code",
   "execution_count": 25,
   "metadata": {
    "collapsed": true
   },
   "outputs": [],
   "source": [
    "p1 = Person()\n",
    "p2 = Person()\n"
   ]
  },
  {
   "cell_type": "code",
   "execution_count": 27,
   "metadata": {},
   "outputs": [
    {
     "name": "stdout",
     "output_type": "stream",
     "text": [
      "Name =  person1\n",
      "Work =  teacher\n",
      "\n",
      "Name =  person2\n",
      "Work =  dancer\n"
     ]
    }
   ],
   "source": [
    "p1.entry('person1','teacher')\n",
    "p2.entry('person2','dancer')\n",
    "p1.show()\n",
    "print()\n",
    "p2.show()"
   ]
  },
  {
   "cell_type": "code",
   "execution_count": 31,
   "metadata": {
    "collapsed": true
   },
   "outputs": [],
   "source": [
    "class Human(Person):\n",
    "    def __init__(self,name,work):\n",
    "        super().entry(name,work)\n",
    "    \n",
    "        "
   ]
  },
  {
   "cell_type": "code",
   "execution_count": 32,
   "metadata": {},
   "outputs": [
    {
     "name": "stdout",
     "output_type": "stream",
     "text": [
      "Name =  person1\n",
      "Work =  something\n",
      "\n",
      "Name =  person2\n",
      "Work =  teacher\n"
     ]
    }
   ],
   "source": [
    "p1 = Human('person1','something')\n",
    "p2 = Human('person2','teacher')\n",
    "p1.show()\n",
    "print()\n",
    "p2.show()"
   ]
  },
  {
   "cell_type": "code",
   "execution_count": 39,
   "metadata": {},
   "outputs": [
    {
     "name": "stdout",
     "output_type": "stream",
     "text": [
      "I am Parent 2\n"
     ]
    }
   ],
   "source": [
    "class P1:\n",
    "    def show(self):\n",
    "        print(\"I am Parent 1\")\n",
    "class P2:\n",
    "    def show(self):\n",
    "        print(\"I am Parent 2\")\n",
    "class c(P2,P1):\n",
    "    pass\n",
    "obj = c()\n",
    "obj.show()"
   ]
  },
  {
   "cell_type": "code",
   "execution_count": 35,
   "metadata": {},
   "outputs": [
    {
     "name": "stdout",
     "output_type": "stream",
     "text": [
      "['__class__', '__delattr__', '__dict__', '__dir__', '__doc__', '__eq__', '__format__', '__ge__', '__getattribute__', '__gt__', '__hash__', '__init__', '__init_subclass__', '__le__', '__lt__', '__module__', '__ne__', '__new__', '__reduce__', '__reduce_ex__', '__repr__', '__setattr__', '__sizeof__', '__str__', '__subclasshook__', '__weakref__']\n"
     ]
    }
   ],
   "source": [
    "print(dir(obj))"
   ]
  },
  {
   "cell_type": "code",
   "execution_count": 56,
   "metadata": {
    "collapsed": true
   },
   "outputs": [],
   "source": [
    "class Car(object):\n",
    "    \"\"\"Hi This is Car Class\"\"\"\n",
    "    name = \"CAR\"\n",
    "    def __init__(self,model,brand,color):\n",
    "        self.model = model\n",
    "        self.brand = brand\n",
    "        self.color = color\n",
    "    def show(self):\n",
    "        print(\"Brand = \",self.brand)\n",
    "        print(\"Model = \",self.model)\n",
    "        print(\"Color = \",self.color)\n",
    "    def change(self,brand,color,model):\n",
    "        self.brand = brand\n",
    "        self.color = color\n",
    "        self.model = model\n",
    "    def __str__(self):\n",
    "        return \"Hi I am {}\".format(self.name)\n",
    "    "
   ]
  },
  {
   "cell_type": "code",
   "execution_count": 57,
   "metadata": {
    "collapsed": true
   },
   "outputs": [],
   "source": [
    "nano = Car(2018,'TATA','red')\n",
    "swift = Car(2016,'Maruti','white')"
   ]
  },
  {
   "cell_type": "code",
   "execution_count": 64,
   "metadata": {},
   "outputs": [
    {
     "name": "stdout",
     "output_type": "stream",
     "text": [
      "Brand =  Maruti\n",
      "Model =  1996\n",
      "Color =  green\n",
      "\n",
      "Brand =  Maruti\n",
      "Model =  2016\n",
      "Color =  white\n"
     ]
    }
   ],
   "source": [
    "nano.show()\n",
    "print()\n",
    "swift.show()"
   ]
  },
  {
   "cell_type": "code",
   "execution_count": 59,
   "metadata": {
    "collapsed": true
   },
   "outputs": [],
   "source": [
    "nano.change('Maruti','green',2017)"
   ]
  },
  {
   "cell_type": "code",
   "execution_count": 60,
   "metadata": {},
   "outputs": [
    {
     "name": "stdout",
     "output_type": "stream",
     "text": [
      "Hi I am CAR\n",
      "Hi I am CAR\n"
     ]
    }
   ],
   "source": [
    "print(nano)\n",
    "print(swift)"
   ]
  },
  {
   "cell_type": "code",
   "execution_count": 61,
   "metadata": {},
   "outputs": [
    {
     "data": {
      "text/plain": [
       "2017"
      ]
     },
     "execution_count": 61,
     "metadata": {},
     "output_type": "execute_result"
    }
   ],
   "source": [
    "nano.model"
   ]
  },
  {
   "cell_type": "code",
   "execution_count": 63,
   "metadata": {
    "collapsed": true
   },
   "outputs": [],
   "source": [
    "nano.model = 1996"
   ]
  },
  {
   "cell_type": "code",
   "execution_count": 67,
   "metadata": {
    "collapsed": true
   },
   "outputs": [],
   "source": [
    "getattr(nano,'model')\n",
    "setattr(nano,'name','Nano')"
   ]
  },
  {
   "cell_type": "code",
   "execution_count": 68,
   "metadata": {},
   "outputs": [
    {
     "data": {
      "text/plain": [
       "'Nano'"
      ]
     },
     "execution_count": 68,
     "metadata": {},
     "output_type": "execute_result"
    }
   ],
   "source": [
    "nano.name"
   ]
  },
  {
   "cell_type": "code",
   "execution_count": 70,
   "metadata": {},
   "outputs": [
    {
     "data": {
      "text/plain": [
       "False"
      ]
     },
     "execution_count": 70,
     "metadata": {},
     "output_type": "execute_result"
    }
   ],
   "source": [
    "hasattr(nano,'speed')"
   ]
  },
  {
   "cell_type": "code",
   "execution_count": 71,
   "metadata": {},
   "outputs": [
    {
     "data": {
      "text/plain": [
       "True"
      ]
     },
     "execution_count": 71,
     "metadata": {},
     "output_type": "execute_result"
    }
   ],
   "source": [
    "hasattr(nano,'model')"
   ]
  },
  {
   "cell_type": "code",
   "execution_count": 73,
   "metadata": {},
   "outputs": [
    {
     "name": "stdout",
     "output_type": "stream",
     "text": [
      "['__class__', '__delattr__', '__dict__', '__dir__', '__doc__', '__eq__', '__format__', '__ge__', '__getattribute__', '__gt__', '__hash__', '__init__', '__init_subclass__', '__le__', '__lt__', '__module__', '__ne__', '__new__', '__reduce__', '__reduce_ex__', '__repr__', '__setattr__', '__sizeof__', '__str__', '__subclasshook__', '__weakref__', 'brand', 'change', 'color', 'model', 'name', 'show']\n"
     ]
    }
   ],
   "source": [
    "print(dir(nano))"
   ]
  },
  {
   "cell_type": "code",
   "execution_count": 74,
   "metadata": {},
   "outputs": [
    {
     "data": {
      "text/plain": [
       "{'brand': 'Maruti', 'color': 'green', 'model': 1996, 'name': 'Nano'}"
      ]
     },
     "execution_count": 74,
     "metadata": {},
     "output_type": "execute_result"
    }
   ],
   "source": [
    "nano.__dict__"
   ]
  },
  {
   "cell_type": "code",
   "execution_count": 75,
   "metadata": {},
   "outputs": [
    {
     "data": {
      "text/plain": [
       "{'brand': 'Maruti', 'color': 'white', 'model': 2016}"
      ]
     },
     "execution_count": 75,
     "metadata": {},
     "output_type": "execute_result"
    }
   ],
   "source": [
    "swift.__dict__"
   ]
  },
  {
   "cell_type": "code",
   "execution_count": 76,
   "metadata": {},
   "outputs": [
    {
     "data": {
      "text/plain": [
       "mappingproxy({'__dict__': <attribute '__dict__' of 'Car' objects>,\n",
       "              '__doc__': 'Hi This is Car Class',\n",
       "              '__init__': <function __main__.Car.__init__>,\n",
       "              '__module__': '__main__',\n",
       "              '__str__': <function __main__.Car.__str__>,\n",
       "              '__weakref__': <attribute '__weakref__' of 'Car' objects>,\n",
       "              'change': <function __main__.Car.change>,\n",
       "              'name': 'CAR',\n",
       "              'show': <function __main__.Car.show>})"
      ]
     },
     "execution_count": 76,
     "metadata": {},
     "output_type": "execute_result"
    }
   ],
   "source": [
    "Car.__dict__"
   ]
  },
  {
   "cell_type": "code",
   "execution_count": 93,
   "metadata": {
    "collapsed": true
   },
   "outputs": [],
   "source": [
    "import time\n",
    "class NewCar(Car):\n",
    "    def __init__(self,brand,model,color,name,speed,gear):\n",
    "        Car.__init__(self,model,brand,color)\n",
    "        self.name = name\n",
    "        self.speed = speed\n",
    "        self.gear = gear\n",
    "    def show(self):\n",
    "        print(\"Name = \",self.name)\n",
    "        Car.show(self)\n",
    "        print(\"Speed = \",self.speed)\n",
    "        print(\"Gears = \",self.gear)\n",
    "    def __str__(self):\n",
    "        return \"HI I am {}\".format(self.name)\n",
    "    def __del__(self):\n",
    "        print(\"Deleting \",self.name)\n",
    "        time.sleep(2)\n",
    "        print(\"Deleting \",self.brand)\n",
    "        time.sleep(2)\n",
    "        print(\"Deleting \",self.model)\n",
    "        del self"
   ]
  },
  {
   "cell_type": "code",
   "execution_count": 94,
   "metadata": {},
   "outputs": [
    {
     "name": "stdout",
     "output_type": "stream",
     "text": [
      "Deleting  nano123\n",
      "Deleting  TATA\n",
      "Deleting  1999\n",
      "Deleting  swift desire\n",
      "Deleting  Maruti\n",
      "Deleting  2006\n"
     ]
    }
   ],
   "source": [
    "nano = NewCar('TATA',1999,'blue','nano123','80kmph',4)\n",
    "swift = NewCar('Maruti',2006,'white','swift desire','120kmph',5)"
   ]
  },
  {
   "cell_type": "code",
   "execution_count": 96,
   "metadata": {},
   "outputs": [
    {
     "name": "stdout",
     "output_type": "stream",
     "text": [
      "Name =  nano123\n",
      "Brand =  TATA\n",
      "Model =  1999\n",
      "Color =  blue\n",
      "Speed =  80kmph\n",
      "Gears =  4\n"
     ]
    }
   ],
   "source": [
    "nano.show()\n"
   ]
  },
  {
   "cell_type": "code",
   "execution_count": 97,
   "metadata": {},
   "outputs": [
    {
     "name": "stdout",
     "output_type": "stream",
     "text": [
      "Name =  swift desire\n",
      "Brand =  Maruti\n",
      "Model =  2006\n",
      "Color =  white\n",
      "Speed =  120kmph\n",
      "Gears =  5\n"
     ]
    }
   ],
   "source": [
    "swift.show()"
   ]
  },
  {
   "cell_type": "code",
   "execution_count": 98,
   "metadata": {},
   "outputs": [
    {
     "name": "stdout",
     "output_type": "stream",
     "text": [
      "HI I am nano123\n",
      "HI I am swift desire\n"
     ]
    }
   ],
   "source": [
    "print(nano)\n",
    "print(swift)"
   ]
  },
  {
   "cell_type": "code",
   "execution_count": 99,
   "metadata": {},
   "outputs": [
    {
     "name": "stdout",
     "output_type": "stream",
     "text": [
      "Deleting  nano123\n",
      "Deleting  TATA\n",
      "Deleting  1999\n",
      "Deleting  swift desire\n",
      "Deleting  Maruti\n",
      "Deleting  2006\n"
     ]
    }
   ],
   "source": [
    "del nano\n",
    "del swift"
   ]
  },
  {
   "cell_type": "code",
   "execution_count": 100,
   "metadata": {},
   "outputs": [
    {
     "ename": "NameError",
     "evalue": "name 'nano' is not defined",
     "output_type": "error",
     "traceback": [
      "\u001b[1;31m---------------------------------------------------------------------------\u001b[0m",
      "\u001b[1;31mNameError\u001b[0m                                 Traceback (most recent call last)",
      "\u001b[1;32m<ipython-input-100-e0dceb9d9d0c>\u001b[0m in \u001b[0;36m<module>\u001b[1;34m()\u001b[0m\n\u001b[1;32m----> 1\u001b[1;33m \u001b[0mnano\u001b[0m\u001b[1;33m\u001b[0m\u001b[0m\n\u001b[0m",
      "\u001b[1;31mNameError\u001b[0m: name 'nano' is not defined"
     ]
    }
   ],
   "source": [
    "nano"
   ]
  },
  {
   "cell_type": "code",
   "execution_count": 103,
   "metadata": {
    "collapsed": true
   },
   "outputs": [],
   "source": [
    "class A:\n",
    "    x = \"hello world\"\n",
    "    def set_attr(self,kuch):\n",
    "        self.x = kuch\n",
    "    def get_attr(self):\n",
    "        print(\"X = \",self.x)\n",
    "    def get_class(self):\n",
    "        print(\"X = \",A.x)\n",
    "    def set_class(self,value):\n",
    "        A.x = value\n",
    "        "
   ]
  },
  {
   "cell_type": "code",
   "execution_count": 106,
   "metadata": {
    "collapsed": true
   },
   "outputs": [],
   "source": [
    "obj1 = A()\n",
    "obj1.set_attr(100)"
   ]
  },
  {
   "cell_type": "code",
   "execution_count": 107,
   "metadata": {},
   "outputs": [
    {
     "data": {
      "text/plain": [
       "100"
      ]
     },
     "execution_count": 107,
     "metadata": {},
     "output_type": "execute_result"
    }
   ],
   "source": [
    "obj1.x\n"
   ]
  },
  {
   "cell_type": "code",
   "execution_count": 108,
   "metadata": {},
   "outputs": [
    {
     "name": "stdout",
     "output_type": "stream",
     "text": [
      "X =  hello world\n"
     ]
    }
   ],
   "source": [
    "obj1.get_class()\n"
   ]
  },
  {
   "cell_type": "code",
   "execution_count": 111,
   "metadata": {},
   "outputs": [
    {
     "data": {
      "text/plain": [
       "{'x': 100}"
      ]
     },
     "execution_count": 111,
     "metadata": {},
     "output_type": "execute_result"
    }
   ],
   "source": [
    "obj1.__dict__"
   ]
  },
  {
   "cell_type": "code",
   "execution_count": 112,
   "metadata": {},
   "outputs": [
    {
     "data": {
      "text/plain": [
       "mappingproxy({'__dict__': <attribute '__dict__' of 'A' objects>,\n",
       "              '__doc__': None,\n",
       "              '__module__': '__main__',\n",
       "              '__weakref__': <attribute '__weakref__' of 'A' objects>,\n",
       "              'get_attr': <function __main__.A.get_attr>,\n",
       "              'get_class': <function __main__.A.get_class>,\n",
       "              'set_attr': <function __main__.A.set_attr>,\n",
       "              'set_class': <function __main__.A.set_class>,\n",
       "              'x': 'hello world'})"
      ]
     },
     "execution_count": 112,
     "metadata": {},
     "output_type": "execute_result"
    }
   ],
   "source": [
    "A.__dict__"
   ]
  },
  {
   "cell_type": "code",
   "execution_count": 118,
   "metadata": {
    "collapsed": true
   },
   "outputs": [],
   "source": [
    "class A:\n",
    "    x = 10 \n",
    "    _y = 20\n",
    "    __z = 30 \n",
    "    def __init__(self,name):\n",
    "        self.name = name\n",
    "    def show(self):\n",
    "        print(\"Name = \",self.name)"
   ]
  },
  {
   "cell_type": "code",
   "execution_count": 122,
   "metadata": {},
   "outputs": [
    {
     "ename": "AttributeError",
     "evalue": "'A' object has no attribute '__z'",
     "output_type": "error",
     "traceback": [
      "\u001b[1;31m---------------------------------------------------------------------------\u001b[0m",
      "\u001b[1;31mAttributeError\u001b[0m                            Traceback (most recent call last)",
      "\u001b[1;32m<ipython-input-122-d58b14bf0b08>\u001b[0m in \u001b[0;36m<module>\u001b[1;34m()\u001b[0m\n\u001b[0;32m      1\u001b[0m \u001b[0mobj1\u001b[0m\u001b[1;33m.\u001b[0m\u001b[0mx\u001b[0m\u001b[1;33m\u001b[0m\u001b[0m\n\u001b[0;32m      2\u001b[0m \u001b[0mobj1\u001b[0m\u001b[1;33m.\u001b[0m\u001b[0m_y\u001b[0m\u001b[1;33m\u001b[0m\u001b[0m\n\u001b[1;32m----> 3\u001b[1;33m \u001b[0mobj1\u001b[0m\u001b[1;33m.\u001b[0m\u001b[0m__z\u001b[0m\u001b[1;33m\u001b[0m\u001b[0m\n\u001b[0m",
      "\u001b[1;31mAttributeError\u001b[0m: 'A' object has no attribute '__z'"
     ]
    }
   ],
   "source": [
    "obj1.x\n",
    "obj1._y\n",
    "obj1.__z"
   ]
  },
  {
   "cell_type": "code",
   "execution_count": 119,
   "metadata": {
    "collapsed": true
   },
   "outputs": [],
   "source": [
    "obj1 = A('hello')\n",
    "obj2 = A('bye')"
   ]
  },
  {
   "cell_type": "code",
   "execution_count": 117,
   "metadata": {},
   "outputs": [
    {
     "name": "stdout",
     "output_type": "stream",
     "text": [
      "HI Hello\n",
      "\n",
      "Bye Challo\n"
     ]
    }
   ],
   "source": [
    "print(obj1.name)\n",
    "print()\n",
    "print(obj2.name)"
   ]
  },
  {
   "cell_type": "code",
   "execution_count": 116,
   "metadata": {
    "collapsed": true
   },
   "outputs": [],
   "source": [
    "obj1.name = \"HI Hello\"\n",
    "obj2.name = \"Bye Challo\""
   ]
  },
  {
   "cell_type": "code",
   "execution_count": 123,
   "metadata": {},
   "outputs": [
    {
     "name": "stdout",
     "output_type": "stream",
     "text": [
      "{'__module__': '__main__', 'x': 10, '_y': 20, '_A__z': 30, '__init__': <function A.__init__ at 0x00000213A15E8048>, 'show': <function A.show at 0x00000213A15E8F28>, '__dict__': <attribute '__dict__' of 'A' objects>, '__weakref__': <attribute '__weakref__' of 'A' objects>, '__doc__': None}\n"
     ]
    }
   ],
   "source": [
    "#name mangling\n",
    "print(A.__dict__)"
   ]
  },
  {
   "cell_type": "code",
   "execution_count": 124,
   "metadata": {},
   "outputs": [
    {
     "data": {
      "text/plain": [
       "30"
      ]
     },
     "execution_count": 124,
     "metadata": {},
     "output_type": "execute_result"
    }
   ],
   "source": [
    "obj1._A__z"
   ]
  },
  {
   "cell_type": "code",
   "execution_count": 1,
   "metadata": {
    "collapsed": true
   },
   "outputs": [],
   "source": [
    "class MyClass:\n",
    "    x = 0\n",
    "    _y = 0\n",
    "    __z = 0\n",
    "    def __init__(self,x,y,z):\n",
    "        MyClass.x = x #these are class variable\n",
    "        MyClass._y = y #Shared Variables among all objects\n",
    "        MyClass.__z = z\n",
    "    def show(self,):\n",
    "        print(\"Class x = \",MyClass.x)\n",
    "        print(\"Class _y = \",MyClass._y)\n",
    "        print(\"Class __z = \",MyClass.__z)\n",
    "    def change(self,p,q,r):\n",
    "        MyClass.x = p\n",
    "        MyClass._y = q\n",
    "        MyClass.__z = r\n"
   ]
  },
  {
   "cell_type": "code",
   "execution_count": 3,
   "metadata": {},
   "outputs": [
    {
     "name": "stdout",
     "output_type": "stream",
     "text": [
      "True\n",
      "True\n",
      "False\n"
     ]
    }
   ],
   "source": [
    "x = hasattr(MyClass,'x')\n",
    "y = hasattr(MyClass,'_y')\n",
    "z = hasattr(MyClass,'__z')\n",
    "print(x)\n",
    "print(y)\n",
    "print(z)"
   ]
  },
  {
   "cell_type": "code",
   "execution_count": 4,
   "metadata": {},
   "outputs": [
    {
     "name": "stdout",
     "output_type": "stream",
     "text": [
      "['_MyClass__z', '__class__', '__delattr__', '__dict__', '__dir__', '__doc__', '__eq__', '__format__', '__ge__', '__getattribute__', '__gt__', '__hash__', '__init__', '__init_subclass__', '__le__', '__lt__', '__module__', '__ne__', '__new__', '__reduce__', '__reduce_ex__', '__repr__', '__setattr__', '__sizeof__', '__str__', '__subclasshook__', '__weakref__', '_y', 'change', 'show', 'x']\n"
     ]
    }
   ],
   "source": [
    "print(dir(MyClass))"
   ]
  },
  {
   "cell_type": "code",
   "execution_count": 5,
   "metadata": {
    "collapsed": true
   },
   "outputs": [],
   "source": [
    "setattr(MyClass,'__z','Hello World')"
   ]
  },
  {
   "cell_type": "code",
   "execution_count": 6,
   "metadata": {},
   "outputs": [
    {
     "data": {
      "text/plain": [
       "'Hello World'"
      ]
     },
     "execution_count": 6,
     "metadata": {},
     "output_type": "execute_result"
    }
   ],
   "source": [
    "getattr(MyClass,'__z')"
   ]
  },
  {
   "cell_type": "code",
   "execution_count": 12,
   "metadata": {},
   "outputs": [
    {
     "name": "stdout",
     "output_type": "stream",
     "text": [
      "Class x =  Hello\n",
      "Class _y =  hi\n",
      "Class __z =  how are you\n"
     ]
    }
   ],
   "source": [
    "MyClass.show('self')"
   ]
  },
  {
   "cell_type": "code",
   "execution_count": 9,
   "metadata": {},
   "outputs": [
    {
     "name": "stdout",
     "output_type": "stream",
     "text": [
      "Class x =  1\n",
      "Class _y =  2\n",
      "Class __z =  3\n"
     ]
    }
   ],
   "source": [
    "obj1 = MyClass(1,2,3)\n",
    "obj1.show()"
   ]
  },
  {
   "cell_type": "code",
   "execution_count": 11,
   "metadata": {
    "collapsed": true
   },
   "outputs": [],
   "source": [
    "obj1.change('Hello','hi','how are you')"
   ]
  },
  {
   "cell_type": "code",
   "execution_count": 13,
   "metadata": {
    "collapsed": true
   },
   "outputs": [],
   "source": [
    "obj2 = MyClass(1,2,3,)"
   ]
  },
  {
   "cell_type": "code",
   "execution_count": 36,
   "metadata": {},
   "outputs": [],
   "source": [
    "class Poly:\n",
    "    def __init__(self,no_of_side):\n",
    "        self.n = no_of_side\n",
    "        self.sides = [ 0 for var in range(no_of_side) ]\n",
    "    def name(self):\n",
    "        if self.n == 3 :\n",
    "            print(\"Hi I am Triangle\")\n",
    "        elif self.n == 4 :\n",
    "            print(\"HI I am Quadrial\")\n",
    "        elif self.n == 5 :\n",
    "            print(\"Hi I am Pentagon\")\n",
    "        elif self.n == 6 :\n",
    "            print(\"HI I am Hexagon\")\n",
    "        else :\n",
    "            print(\"Hi i am poly gon with side {}.\".format(self.n))\n",
    "    def show_sides(self):\n",
    "        c = 1\n",
    "        print()\n",
    "        self.name()\n",
    "        print()\n",
    "        for side in self.sides :\n",
    "            print(\"Side{} : {} \".format(c,side))\n",
    "            c = c + 1\n",
    "    def init_sides(self,):\n",
    "        print()\n",
    "        self.name()\n",
    "        print()\n",
    "        self.sides = [ float(input(\"side{} : \".format(var))) for var in  range(1,self.n+1)]\n",
    "    \n",
    "        \n",
    "        "
   ]
  },
  {
   "cell_type": "code",
   "execution_count": 37,
   "metadata": {
    "collapsed": true
   },
   "outputs": [],
   "source": [
    "triangle = Poly(3)\n",
    "rectangle = Poly(4)\n",
    "hexagon = Poly(6)"
   ]
  },
  {
   "cell_type": "code",
   "execution_count": 38,
   "metadata": {},
   "outputs": [
    {
     "name": "stdout",
     "output_type": "stream",
     "text": [
      "Hi I am Triangle\n",
      "HI I am Quadrial\n",
      "HI I am Hexagon\n"
     ]
    }
   ],
   "source": [
    "triangle.name()\n",
    "rectangle.name()\n",
    "hexagon.name()"
   ]
  },
  {
   "cell_type": "code",
   "execution_count": 41,
   "metadata": {},
   "outputs": [
    {
     "name": "stdout",
     "output_type": "stream",
     "text": [
      "\n",
      "Hi I am Triangle\n",
      "\n",
      "Side1 : 60.0 \n",
      "Side2 : 60.0 \n",
      "Side3 : 60.0 \n",
      "\n",
      "\n",
      "HI I am Quadrial\n",
      "\n",
      "Side1 : 56.0 \n",
      "Side2 : 67.0 \n",
      "Side3 : 89.0 \n",
      "Side4 : 100.0 \n",
      "\n",
      "\n",
      "HI I am Hexagon\n",
      "\n",
      "Side1 : 1.0 \n",
      "Side2 : 2.0 \n",
      "Side3 : 3.0 \n",
      "Side4 : 4.0 \n",
      "Side5 : 5.0 \n",
      "Side6 : 6.0 \n"
     ]
    }
   ],
   "source": [
    "triangle.show_sides()\n",
    "print()\n",
    "rectangle.show_sides()\n",
    "print()\n",
    "hexagon.show_sides()"
   ]
  },
  {
   "cell_type": "code",
   "execution_count": 40,
   "metadata": {},
   "outputs": [
    {
     "name": "stdout",
     "output_type": "stream",
     "text": [
      "\n",
      "Hi I am Triangle\n",
      "\n",
      "side1 : 60\n",
      "side2 : 60\n",
      "side3 : 60\n",
      "\n",
      "HI I am Quadrial\n",
      "\n",
      "side1 : 56\n",
      "side2 : 67\n",
      "side3 : 89\n",
      "side4 : 100\n",
      "\n",
      "HI I am Hexagon\n",
      "\n",
      "side1 : 1\n",
      "side2 : 2\n",
      "side3 : 3\n",
      "side4 : 4\n",
      "side5 : 5\n",
      "side6 : 6\n"
     ]
    }
   ],
   "source": [
    "triangle.init_sides()\n",
    "rectangle.init_sides()\n",
    "hexagon.init_sides()"
   ]
  },
  {
   "cell_type": "code",
   "execution_count": 42,
   "metadata": {
    "collapsed": true
   },
   "outputs": [],
   "source": [
    "class Area(Poly):\n",
    "    pass\n",
    "    \"\"\"your code goes here\"\"\""
   ]
  },
  {
   "cell_type": "code",
   "execution_count": 91,
   "metadata": {
    "collapsed": true
   },
   "outputs": [],
   "source": [
    "class comp :\n",
    "    def __init__(self,x,y):\n",
    "        self.real = x\n",
    "        self.image = y \n",
    "    def __str__(self):\n",
    "        return '{}+{}j'.format(self.real,self.image)\n",
    "    def __add__(self,ob2):\n",
    "        x = self.real + ob2.real\n",
    "        y = self.image + ob2.image\n",
    "        return comp(x,y)\n",
    "        "
   ]
  },
  {
   "cell_type": "code",
   "execution_count": 92,
   "metadata": {},
   "outputs": [
    {
     "name": "stdout",
     "output_type": "stream",
     "text": [
      "5+8j\n",
      "16+3j\n"
     ]
    }
   ],
   "source": [
    "c1 = comp(5,8)\n",
    "c2  = comp(16,3)\n",
    "print(c1)\n",
    "print(c2)"
   ]
  },
  {
   "cell_type": "code",
   "execution_count": 94,
   "metadata": {},
   "outputs": [
    {
     "name": "stdout",
     "output_type": "stream",
     "text": [
      "21+11j\n"
     ]
    }
   ],
   "source": [
    "x = c1 + c2\n",
    "print(x)"
   ]
  },
  {
   "cell_type": "code",
   "execution_count": 95,
   "metadata": {},
   "outputs": [
    {
     "name": "stdout",
     "output_type": "stream",
     "text": [
      "5+8j\n",
      "16+3j\n",
      "21+11j\n"
     ]
    }
   ],
   "source": [
    "print(c1)\n",
    "print(c2)\n",
    "print(x)"
   ]
  },
  {
   "cell_type": "code",
   "execution_count": 96,
   "metadata": {},
   "outputs": [
    {
     "name": "stdout",
     "output_type": "stream",
     "text": [
      "42+22j\n"
     ]
    }
   ],
   "source": [
    "print(c1+c2+x)"
   ]
  },
  {
   "cell_type": "code",
   "execution_count": null,
   "metadata": {
    "collapsed": true
   },
   "outputs": [],
   "source": []
  }
 ],
 "metadata": {
  "kernelspec": {
   "display_name": "Python 3",
   "language": "python",
   "name": "python3"
  },
  "language_info": {
   "codemirror_mode": {
    "name": "ipython",
    "version": 3
   },
   "file_extension": ".py",
   "mimetype": "text/x-python",
   "name": "python",
   "nbconvert_exporter": "python",
   "pygments_lexer": "ipython3",
   "version": "3.6.3"
  }
 },
 "nbformat": 4,
 "nbformat_minor": 2
}
