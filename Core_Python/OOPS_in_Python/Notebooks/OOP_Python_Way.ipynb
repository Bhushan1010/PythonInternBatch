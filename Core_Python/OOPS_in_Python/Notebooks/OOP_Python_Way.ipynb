{
 "cells": [
  {
   "cell_type": "code",
   "execution_count": 2,
   "metadata": {
    "collapsed": true
   },
   "outputs": [],
   "source": [
    "class Robot :\n",
    "    \"\"\" Robot Class used Print Details and Working of Objects\"\"\"\n",
    "    "
   ]
  },
  {
   "cell_type": "code",
   "execution_count": 6,
   "metadata": {},
   "outputs": [
    {
     "name": "stdout",
     "output_type": "stream",
     "text": [
      "<class 'type'>\n"
     ]
    }
   ],
   "source": [
    "print(type(Robot))\n"
   ]
  },
  {
   "cell_type": "code",
   "execution_count": 5,
   "metadata": {},
   "outputs": [
    {
     "name": "stdout",
     "output_type": "stream",
     "text": [
      "<class '__main__.Robot'>\n"
     ]
    }
   ],
   "source": [
    "r1 = Robot()\n",
    "print(type(r1))"
   ]
  },
  {
   "cell_type": "code",
   "execution_count": 9,
   "metadata": {},
   "outputs": [
    {
     "data": {
      "text/plain": [
       "' Robot Class used Print Details and Working of Objects'"
      ]
     },
     "execution_count": 9,
     "metadata": {},
     "output_type": "execute_result"
    }
   ],
   "source": [
    "r1.__doc__"
   ]
  },
  {
   "cell_type": "code",
   "execution_count": 10,
   "metadata": {
    "collapsed": true
   },
   "outputs": [],
   "source": [
    "class Robot:\n",
    "    \"\"\"Doc string your robot class\"\"\"\n",
    "    def show(self):\n",
    "        print(\"Hi I am a Robot\")"
   ]
  },
  {
   "cell_type": "code",
   "execution_count": 11,
   "metadata": {
    "collapsed": true
   },
   "outputs": [],
   "source": [
    "a1 = Robot()\n",
    "a2 = Robot()"
   ]
  },
  {
   "cell_type": "code",
   "execution_count": 12,
   "metadata": {},
   "outputs": [
    {
     "name": "stdout",
     "output_type": "stream",
     "text": [
      "Hi I am a Robot\n",
      "Hi I am a Robot\n"
     ]
    }
   ],
   "source": [
    "a1.show()\n",
    "a2.show()"
   ]
  },
  {
   "cell_type": "code",
   "execution_count": 13,
   "metadata": {
    "collapsed": true
   },
   "outputs": [],
   "source": [
    "a1.name = 'robot1'"
   ]
  },
  {
   "cell_type": "code",
   "execution_count": 14,
   "metadata": {},
   "outputs": [
    {
     "data": {
      "text/plain": [
       "'robot1'"
      ]
     },
     "execution_count": 14,
     "metadata": {},
     "output_type": "execute_result"
    }
   ],
   "source": [
    "a1.name"
   ]
  },
  {
   "cell_type": "code",
   "execution_count": 16,
   "metadata": {
    "collapsed": true
   },
   "outputs": [],
   "source": [
    "class robot:\n",
    "    def __init__(self,x,y,z,p):\n",
    "        self.name = x\n",
    "        self.height = y\n",
    "        self.weight = z\n",
    "        self.color = p\n",
    "    def show(self):\n",
    "        print(\"Name : \",self.name)\n",
    "        print(\"Height : \",self.height)\n",
    "        print(\"Weight : \",self.weight)\n",
    "        print(\"Color : \",self.color)\n",
    "    "
   ]
  },
  {
   "cell_type": "code",
   "execution_count": 18,
   "metadata": {
    "collapsed": true
   },
   "outputs": [],
   "source": [
    "robot1 = robot('robot1',5.5,60,'dark blue')\n",
    "robot2 = robot('robot2',6.5,90,'fair')\n",
    "robot3 = robot('robot3',5.10,70,'red')"
   ]
  },
  {
   "cell_type": "code",
   "execution_count": 19,
   "metadata": {},
   "outputs": [
    {
     "name": "stdout",
     "output_type": "stream",
     "text": [
      "Name :  robot1\n",
      "Height :  5.5\n",
      "Weight :  60\n",
      "Color :  dark blue\n"
     ]
    }
   ],
   "source": [
    "robot1.show()"
   ]
  },
  {
   "cell_type": "code",
   "execution_count": 20,
   "metadata": {},
   "outputs": [
    {
     "name": "stdout",
     "output_type": "stream",
     "text": [
      "Name :  robot2\n",
      "Height :  6.5\n",
      "Weight :  90\n",
      "Color :  fair\n"
     ]
    }
   ],
   "source": [
    "robot2.show()"
   ]
  },
  {
   "cell_type": "code",
   "execution_count": 21,
   "metadata": {},
   "outputs": [
    {
     "name": "stdout",
     "output_type": "stream",
     "text": [
      "Name :  robot3\n",
      "Height :  5.1\n",
      "Weight :  70\n",
      "Color :  red\n"
     ]
    }
   ],
   "source": [
    "robot3.show()"
   ]
  },
  {
   "cell_type": "code",
   "execution_count": 22,
   "metadata": {
    "collapsed": true
   },
   "outputs": [],
   "source": [
    "class robot:\n",
    "    def create(self,x,y,z,p):\n",
    "        self.name = x\n",
    "        self.height = y\n",
    "        self.weight = z\n",
    "        self.color = p\n",
    "    def show(self):\n",
    "        print(\"Name : \",self.name)\n",
    "        print(\"Height : \",self.height)\n",
    "        print(\"Weight : \",self.weight)\n",
    "        print(\"Color : \",self.color)\n",
    "    "
   ]
  },
  {
   "cell_type": "code",
   "execution_count": 23,
   "metadata": {
    "collapsed": true
   },
   "outputs": [],
   "source": [
    "r1 = robot()\n",
    "r2 = robot()"
   ]
  },
  {
   "cell_type": "code",
   "execution_count": 25,
   "metadata": {
    "collapsed": true
   },
   "outputs": [],
   "source": [
    "r1.create('robot1',6.5,80,'red')\n",
    "r2.create('robot2',7.5,90,'blue')"
   ]
  },
  {
   "cell_type": "code",
   "execution_count": 26,
   "metadata": {
    "collapsed": true
   },
   "outputs": [],
   "source": [
    "from time import sleep\n",
    "class Grras(object):\n",
    "    \"\"\"Welcome to Grras Solution Private Limited.\"\"\"\n",
    "    msg = \"Default Brodcasting Message\"\n",
    "    def __init__(self,name,course):\n",
    "        self.name = name\n",
    "        self.course = course\n",
    "    def show(self):\n",
    "        print(\"Name = \",self.name)\n",
    "        print(\"Course = \",self.course)\n",
    "    def print_msg(self):\n",
    "        print(\"Dashboard Message : \",Grras.msg)\n",
    "    def __del__(self):\n",
    "        print(\"Deleting Object \")\n",
    "        sleep(2)\n",
    "        print(\"Deleting Name \",self.name)\n",
    "        del self.name\n",
    "        sleep(1)\n",
    "        print(\"Deleting Course \",self.course)\n",
    "        del self.course\n",
    "        sleep(2)\n",
    "        print(\"Destroying The Object Complete\")\n",
    "        sleep(2)\n",
    "        del self\n",
    "        \n",
    "    "
   ]
  },
  {
   "cell_type": "code",
   "execution_count": 27,
   "metadata": {
    "collapsed": true
   },
   "outputs": [],
   "source": [
    "sachin = Grras('sachin yadav','python')\n",
    "rajat = Grras('rajat goyal','linux')\n"
   ]
  },
  {
   "cell_type": "code",
   "execution_count": 28,
   "metadata": {},
   "outputs": [
    {
     "name": "stdout",
     "output_type": "stream",
     "text": [
      "Name =  sachin yadav\n",
      "Course =  python\n"
     ]
    }
   ],
   "source": [
    "sachin.show()"
   ]
  },
  {
   "cell_type": "code",
   "execution_count": 29,
   "metadata": {},
   "outputs": [
    {
     "name": "stdout",
     "output_type": "stream",
     "text": [
      "Name =  rajat goyal\n",
      "Course =  linux\n"
     ]
    }
   ],
   "source": [
    "rajat.show()"
   ]
  },
  {
   "cell_type": "code",
   "execution_count": 30,
   "metadata": {},
   "outputs": [
    {
     "name": "stdout",
     "output_type": "stream",
     "text": [
      "Dashboard Message :  Default Brodcasting Message\n"
     ]
    }
   ],
   "source": [
    "sachin.print_msg()"
   ]
  },
  {
   "cell_type": "code",
   "execution_count": 31,
   "metadata": {},
   "outputs": [
    {
     "name": "stdout",
     "output_type": "stream",
     "text": [
      "Dashboard Message :  Default Brodcasting Message\n"
     ]
    }
   ],
   "source": [
    "rajat.print_msg()"
   ]
  },
  {
   "cell_type": "code",
   "execution_count": 32,
   "metadata": {
    "collapsed": true
   },
   "outputs": [],
   "source": [
    "Grras.msg = \"Saturday is not off!! make sure you guys take classes on that day\""
   ]
  },
  {
   "cell_type": "code",
   "execution_count": 33,
   "metadata": {},
   "outputs": [
    {
     "name": "stdout",
     "output_type": "stream",
     "text": [
      "Dashboard Message :  Saturday is not off!! make sure you guys take classes on that day\n"
     ]
    }
   ],
   "source": [
    "sachin.print_msg()"
   ]
  },
  {
   "cell_type": "code",
   "execution_count": 34,
   "metadata": {},
   "outputs": [
    {
     "name": "stdout",
     "output_type": "stream",
     "text": [
      "Dashboard Message :  Saturday is not off!! make sure you guys take classes on that day\n"
     ]
    }
   ],
   "source": [
    "rajat.print_msg()"
   ]
  },
  {
   "cell_type": "code",
   "execution_count": 35,
   "metadata": {},
   "outputs": [
    {
     "name": "stdout",
     "output_type": "stream",
     "text": [
      "Deleting Object \n",
      "Deleting Name  sachin yadav\n",
      "Deleting Course  python\n",
      "Destroying The Object Complete\n"
     ]
    }
   ],
   "source": [
    "del sachin"
   ]
  },
  {
   "cell_type": "code",
   "execution_count": 36,
   "metadata": {},
   "outputs": [
    {
     "name": "stdout",
     "output_type": "stream",
     "text": [
      "Deleting Object \n",
      "Deleting Name  rajat goyal\n",
      "Deleting Course  linux\n",
      "Destroying The Object Complete\n"
     ]
    }
   ],
   "source": [
    "del rajat"
   ]
  },
  {
   "cell_type": "code",
   "execution_count": 37,
   "metadata": {
    "collapsed": true
   },
   "outputs": [],
   "source": [
    "from time import sleep\n",
    "class Grras(object):\n",
    "    \"\"\"Welcome to Grras Solution Private Limited.\"\"\"\n",
    "    msg = \"Default Brodcasting Message\"\n",
    "    def __init__(self,name,course):\n",
    "        self.name = name\n",
    "        self.course = course\n",
    "    def show(self):\n",
    "        print(\"Name = \",self.name)\n",
    "        print(\"Course = \",self.course)\n",
    "    def print_msg(self):\n",
    "        print(\"Dashboard Message : \",Grras.msg)\n",
    "    def __del__(self):\n",
    "        print(\"Deleting Object \")\n",
    "        sleep(2)\n",
    "        print(\"Deleting Name \",self.name)\n",
    "        del self.name\n",
    "        sleep(1)\n",
    "        print(\"Deleting Course \",self.course)\n",
    "        del self.course\n",
    "        sleep(2)\n",
    "        print(\"Destroying The Object Complete\")\n",
    "        sleep(2)\n",
    "        del self"
   ]
  },
  {
   "cell_type": "code",
   "execution_count": 38,
   "metadata": {
    "collapsed": true
   },
   "outputs": [],
   "source": [
    "class Grras_Solutions(Grras):\n",
    "    def __init__(self,name,course):\n",
    "        #Grras.__init__(self,name,course)\n",
    "        super().__init__(name,course)\n",
    "    def send_msg(self,msg):\n",
    "        Grras.msg = msg\n",
    "    def change_course(self,new_course):\n",
    "        self.course = new_course"
   ]
  },
  {
   "cell_type": "code",
   "execution_count": 39,
   "metadata": {
    "collapsed": true
   },
   "outputs": [],
   "source": [
    "rajat  = Grras_Solutions('Rajat Goyal','Linux')\n",
    "sachin = Grras_Solutions('Sachin Yadav','Python')"
   ]
  },
  {
   "cell_type": "code",
   "execution_count": 40,
   "metadata": {},
   "outputs": [
    {
     "name": "stdout",
     "output_type": "stream",
     "text": [
      "Name =  Rajat Goyal\n",
      "Course =  Linux\n"
     ]
    }
   ],
   "source": [
    "rajat.show()"
   ]
  },
  {
   "cell_type": "code",
   "execution_count": 41,
   "metadata": {},
   "outputs": [
    {
     "name": "stdout",
     "output_type": "stream",
     "text": [
      "Name =  Sachin Yadav\n",
      "Course =  Python\n"
     ]
    }
   ],
   "source": [
    "sachin.show()"
   ]
  },
  {
   "cell_type": "code",
   "execution_count": 42,
   "metadata": {},
   "outputs": [
    {
     "name": "stdout",
     "output_type": "stream",
     "text": [
      "Dashboard Message :  Default Brodcasting Message\n"
     ]
    }
   ],
   "source": [
    "rajat.print_msg()"
   ]
  },
  {
   "cell_type": "code",
   "execution_count": 43,
   "metadata": {
    "collapsed": true
   },
   "outputs": [],
   "source": [
    "sachin.send_msg(\"Hi I will Unavaiable Tommorrow manage accordingly by sachin.\")"
   ]
  },
  {
   "cell_type": "code",
   "execution_count": 44,
   "metadata": {},
   "outputs": [
    {
     "name": "stdout",
     "output_type": "stream",
     "text": [
      "Dashboard Message :  Hi I will Unavaiable Tommorrow manage accordingly by sachin.\n"
     ]
    }
   ],
   "source": [
    "rajat.print_msg()"
   ]
  },
  {
   "cell_type": "code",
   "execution_count": 1,
   "metadata": {
    "collapsed": true
   },
   "outputs": [],
   "source": [
    "class Person:\n",
    "    x = 'HI I am public'\n",
    "    _y = \"Hi I am Protected\"\n",
    "    __z = \"Hi I am Private\"\n",
    "    def show(self):\n",
    "        print(\"Public = \",Person.x)\n",
    "        print(\"Protected = \",Person._y)\n",
    "        print(\"Private = \",Person.__z)\n",
    "    def change(self,x,y,z):\n",
    "        Person.x = x\n",
    "        Person._y = y\n",
    "        Person.__z = z"
   ]
  },
  {
   "cell_type": "code",
   "execution_count": 2,
   "metadata": {},
   "outputs": [
    {
     "name": "stdout",
     "output_type": "stream",
     "text": [
      "Public =  HI I am public\n",
      "Protected =  Hi I am Protected\n",
      "Private =  Hi I am Private\n",
      "Public =  HI I am public\n",
      "Protected =  Hi I am Protected\n",
      "Private =  Hi I am Private\n"
     ]
    }
   ],
   "source": [
    "one = Person()\n",
    "two = Person()\n",
    "Person.__z = \"I have Hacked You\"\n",
    "one.show()\n",
    "two.show()"
   ]
  },
  {
   "cell_type": "code",
   "execution_count": 4,
   "metadata": {},
   "outputs": [
    {
     "name": "stdout",
     "output_type": "stream",
     "text": [
      "['_Person__z', '__class__', '__delattr__', '__dict__', '__dir__', '__doc__', '__eq__', '__format__', '__ge__', '__getattribute__', '__gt__', '__hash__', '__init__', '__init_subclass__', '__le__', '__lt__', '__module__', '__ne__', '__new__', '__reduce__', '__reduce_ex__', '__repr__', '__setattr__', '__sizeof__', '__str__', '__subclasshook__', '__weakref__', '__z', '_y', 'change', 'show', 'x']\n"
     ]
    }
   ],
   "source": [
    "print(dir(Person))"
   ]
  },
  {
   "cell_type": "code",
   "execution_count": 5,
   "metadata": {
    "collapsed": true
   },
   "outputs": [],
   "source": [
    "one.change('Changed','Totally','You can see it')"
   ]
  },
  {
   "cell_type": "code",
   "execution_count": 6,
   "metadata": {},
   "outputs": [
    {
     "name": "stdout",
     "output_type": "stream",
     "text": [
      "Public =  Changed\n",
      "Protected =  Totally\n",
      "Private =  You can see it\n"
     ]
    }
   ],
   "source": [
    "two.show()"
   ]
  },
  {
   "cell_type": "code",
   "execution_count": 7,
   "metadata": {},
   "outputs": [
    {
     "data": {
      "text/plain": [
       "'I have Hacked You'"
      ]
     },
     "execution_count": 7,
     "metadata": {},
     "output_type": "execute_result"
    }
   ],
   "source": [
    "two.__z"
   ]
  },
  {
   "cell_type": "code",
   "execution_count": 8,
   "metadata": {},
   "outputs": [
    {
     "data": {
      "text/plain": [
       "'I have Hacked You'"
      ]
     },
     "execution_count": 8,
     "metadata": {},
     "output_type": "execute_result"
    }
   ],
   "source": [
    "Person.__z"
   ]
  },
  {
   "cell_type": "code",
   "execution_count": 9,
   "metadata": {},
   "outputs": [
    {
     "data": {
      "text/plain": [
       "'You can see it'"
      ]
     },
     "execution_count": 9,
     "metadata": {},
     "output_type": "execute_result"
    }
   ],
   "source": [
    "Person._Person__z"
   ]
  },
  {
   "cell_type": "code",
   "execution_count": 10,
   "metadata": {
    "collapsed": true
   },
   "outputs": [],
   "source": [
    "Person._Person__z = \"Now I Hacked from outside of the class\""
   ]
  },
  {
   "cell_type": "code",
   "execution_count": 11,
   "metadata": {},
   "outputs": [
    {
     "name": "stdout",
     "output_type": "stream",
     "text": [
      "Public =  Changed\n",
      "Protected =  Totally\n",
      "Private =  Now I Hacked from outside of the class\n"
     ]
    }
   ],
   "source": [
    "one.show()"
   ]
  },
  {
   "cell_type": "code",
   "execution_count": 12,
   "metadata": {
    "collapsed": true
   },
   "outputs": [],
   "source": [
    "one._Person__z = 'hello world'"
   ]
  },
  {
   "cell_type": "code",
   "execution_count": 13,
   "metadata": {},
   "outputs": [
    {
     "name": "stdout",
     "output_type": "stream",
     "text": [
      "Public =  Changed\n",
      "Protected =  Totally\n",
      "Private =  Now I Hacked from outside of the class\n"
     ]
    }
   ],
   "source": [
    "one.show()"
   ]
  },
  {
   "cell_type": "code",
   "execution_count": 14,
   "metadata": {},
   "outputs": [
    {
     "name": "stdout",
     "output_type": "stream",
     "text": [
      "['_Person__z', '__class__', '__delattr__', '__dict__', '__dir__', '__doc__', '__eq__', '__format__', '__ge__', '__getattribute__', '__gt__', '__hash__', '__init__', '__init_subclass__', '__le__', '__lt__', '__module__', '__ne__', '__new__', '__reduce__', '__reduce_ex__', '__repr__', '__setattr__', '__sizeof__', '__str__', '__subclasshook__', '__weakref__', '__z', '_y', 'change', 'show', 'x']\n"
     ]
    }
   ],
   "source": [
    "print(dir(two))"
   ]
  },
  {
   "cell_type": "code",
   "execution_count": 15,
   "metadata": {},
   "outputs": [
    {
     "name": "stdout",
     "output_type": "stream",
     "text": [
      "['_Person__z', '__class__', '__delattr__', '__dict__', '__dir__', '__doc__', '__eq__', '__format__', '__ge__', '__getattribute__', '__gt__', '__hash__', '__init__', '__init_subclass__', '__le__', '__lt__', '__module__', '__ne__', '__new__', '__reduce__', '__reduce_ex__', '__repr__', '__setattr__', '__sizeof__', '__str__', '__subclasshook__', '__weakref__', '__z', '_y', 'change', 'show', 'x']\n"
     ]
    }
   ],
   "source": [
    "print(dir(one))"
   ]
  },
  {
   "cell_type": "code",
   "execution_count": 16,
   "metadata": {},
   "outputs": [
    {
     "data": {
      "text/plain": [
       "'Now I Hacked from outside of the class'"
      ]
     },
     "execution_count": 16,
     "metadata": {},
     "output_type": "execute_result"
    }
   ],
   "source": [
    "two._Person__z"
   ]
  },
  {
   "cell_type": "code",
   "execution_count": 17,
   "metadata": {},
   "outputs": [
    {
     "data": {
      "text/plain": [
       "'hello world'"
      ]
     },
     "execution_count": 17,
     "metadata": {},
     "output_type": "execute_result"
    }
   ],
   "source": [
    "one._Person__z"
   ]
  },
  {
   "cell_type": "code",
   "execution_count": 18,
   "metadata": {},
   "outputs": [
    {
     "name": "stdout",
     "output_type": "stream",
     "text": [
      "Public =  Changed\n",
      "Protected =  Totally\n",
      "Private =  Now I Hacked from outside of the class\n"
     ]
    }
   ],
   "source": [
    "one.show()"
   ]
  },
  {
   "cell_type": "code",
   "execution_count": 19,
   "metadata": {},
   "outputs": [
    {
     "name": "stdout",
     "output_type": "stream",
     "text": [
      "<__main__.Person object at 0x00000233E3F59B70>\n"
     ]
    }
   ],
   "source": [
    "print(one)"
   ]
  },
  {
   "cell_type": "code",
   "execution_count": 25,
   "metadata": {
    "collapsed": true
   },
   "outputs": [],
   "source": [
    "class Test:\n",
    "    def __init__(self,name):\n",
    "        self.name = name\n",
    "    def show(self):\n",
    "        print(\"Name = \",self.name)\n",
    "    def __str__(self):\n",
    "        return \"Hi I am {}\".format(self.name)\n",
    "    "
   ]
  },
  {
   "cell_type": "code",
   "execution_count": 26,
   "metadata": {
    "collapsed": true
   },
   "outputs": [],
   "source": [
    "k = Test('object1')"
   ]
  },
  {
   "cell_type": "code",
   "execution_count": 27,
   "metadata": {},
   "outputs": [
    {
     "name": "stdout",
     "output_type": "stream",
     "text": [
      "Hi I am object1\n"
     ]
    }
   ],
   "source": [
    "print(k)"
   ]
  },
  {
   "cell_type": "code",
   "execution_count": 28,
   "metadata": {},
   "outputs": [
    {
     "name": "stdout",
     "output_type": "stream",
     "text": [
      "Name =  object1\n"
     ]
    }
   ],
   "source": [
    "k.show()"
   ]
  },
  {
   "cell_type": "code",
   "execution_count": 30,
   "metadata": {},
   "outputs": [
    {
     "data": {
      "text/plain": [
       "True"
      ]
     },
     "execution_count": 30,
     "metadata": {},
     "output_type": "execute_result"
    }
   ],
   "source": [
    "hasattr(Test,'show')"
   ]
  },
  {
   "cell_type": "code",
   "execution_count": 31,
   "metadata": {},
   "outputs": [
    {
     "data": {
      "text/plain": [
       "True"
      ]
     },
     "execution_count": 31,
     "metadata": {},
     "output_type": "execute_result"
    }
   ],
   "source": [
    "hasattr(k,'show')"
   ]
  },
  {
   "cell_type": "code",
   "execution_count": 35,
   "metadata": {},
   "outputs": [
    {
     "data": {
      "text/plain": [
       "'I am hacked'"
      ]
     },
     "execution_count": 35,
     "metadata": {},
     "output_type": "execute_result"
    }
   ],
   "source": [
    "getattr(k,'name')"
   ]
  },
  {
   "cell_type": "code",
   "execution_count": 34,
   "metadata": {
    "collapsed": true
   },
   "outputs": [],
   "source": [
    "setattr(k,'name','I am hacked')"
   ]
  },
  {
   "cell_type": "code",
   "execution_count": 36,
   "metadata": {},
   "outputs": [
    {
     "data": {
      "text/plain": [
       "'I am hacked'"
      ]
     },
     "execution_count": 36,
     "metadata": {},
     "output_type": "execute_result"
    }
   ],
   "source": [
    "k.name"
   ]
  },
  {
   "cell_type": "code",
   "execution_count": 37,
   "metadata": {
    "collapsed": true
   },
   "outputs": [],
   "source": [
    "class A:\n",
    "    pass\n",
    "class B(A):\n",
    "    pass"
   ]
  },
  {
   "cell_type": "code",
   "execution_count": 39,
   "metadata": {},
   "outputs": [
    {
     "data": {
      "text/plain": [
       "True"
      ]
     },
     "execution_count": 39,
     "metadata": {},
     "output_type": "execute_result"
    }
   ],
   "source": [
    "issubclass(B,A)"
   ]
  },
  {
   "cell_type": "code",
   "execution_count": 41,
   "metadata": {},
   "outputs": [
    {
     "data": {
      "text/plain": [
       "True"
      ]
     },
     "execution_count": 41,
     "metadata": {},
     "output_type": "execute_result"
    }
   ],
   "source": [
    "issubclass(A,object)"
   ]
  },
  {
   "cell_type": "code",
   "execution_count": 60,
   "metadata": {
    "collapsed": true
   },
   "outputs": [],
   "source": [
    "class Vector:\n",
    "    def __init__(self,x,y):\n",
    "        self.x = x\n",
    "        self.y = y\n",
    "    def __str__(self):\n",
    "        return 'Vector({},{})'.format(self.x,self.y)\n",
    "    def __add__(self,obj):\n",
    "        x = self.x + obj.x\n",
    "        y = self.y + obj.y\n",
    "        return Vector(x,y)\n",
    "    "
   ]
  },
  {
   "cell_type": "code",
   "execution_count": 61,
   "metadata": {
    "collapsed": true
   },
   "outputs": [],
   "source": [
    "v1 = Vector(5,6)\n",
    "v2 = Vector(7,10)"
   ]
  },
  {
   "cell_type": "code",
   "execution_count": 62,
   "metadata": {},
   "outputs": [
    {
     "name": "stdout",
     "output_type": "stream",
     "text": [
      "vector1 =  Vector(5,6)\n",
      "vecot2 =  Vector(7,10)\n"
     ]
    }
   ],
   "source": [
    "print(\"vector1 = \",v1)\n",
    "print(\"vecot2 = \",v2)"
   ]
  },
  {
   "cell_type": "code",
   "execution_count": 63,
   "metadata": {
    "collapsed": true
   },
   "outputs": [],
   "source": [
    "v3 = v1+v2"
   ]
  },
  {
   "cell_type": "code",
   "execution_count": 64,
   "metadata": {},
   "outputs": [
    {
     "name": "stdout",
     "output_type": "stream",
     "text": [
      "Vector(12,16)\n"
     ]
    }
   ],
   "source": [
    "print(v3)"
   ]
  },
  {
   "cell_type": "code",
   "execution_count": 65,
   "metadata": {
    "collapsed": true
   },
   "outputs": [],
   "source": [
    "v1 = v3 + v2"
   ]
  },
  {
   "cell_type": "code",
   "execution_count": 66,
   "metadata": {},
   "outputs": [
    {
     "name": "stdout",
     "output_type": "stream",
     "text": [
      "Vector(19,26)\n"
     ]
    }
   ],
   "source": [
    "print(v1)"
   ]
  },
  {
   "cell_type": "code",
   "execution_count": 68,
   "metadata": {},
   "outputs": [
    {
     "name": "stdout",
     "output_type": "stream",
     "text": [
      "Help on class Vector in module __main__:\n",
      "\n",
      "class Vector(builtins.object)\n",
      " |  Methods defined here:\n",
      " |  \n",
      " |  __add__(self, obj)\n",
      " |  \n",
      " |  __init__(self, x, y)\n",
      " |      Initialize self.  See help(type(self)) for accurate signature.\n",
      " |  \n",
      " |  __str__(self)\n",
      " |      Return str(self).\n",
      " |  \n",
      " |  ----------------------------------------------------------------------\n",
      " |  Data descriptors defined here:\n",
      " |  \n",
      " |  __dict__\n",
      " |      dictionary for instance variables (if defined)\n",
      " |  \n",
      " |  __weakref__\n",
      " |      list of weak references to the object (if defined)\n",
      "\n"
     ]
    }
   ],
   "source": [
    "help(Vector)\n"
   ]
  },
  {
   "cell_type": "code",
   "execution_count": 2,
   "metadata": {},
   "outputs": [
    {
     "name": "stdout",
     "output_type": "stream",
     "text": [
      "hello World my name is  Sachin Yadav\n"
     ]
    }
   ],
   "source": [
    "class A :\n",
    "    def __init__(self,name):\n",
    "        self.name = name\n",
    "    def show(self):\n",
    "        print(\"hello World my name is \",self.name)\n",
    "class B(A):\n",
    "    def __init__(self,name):\n",
    "        A.__init__(self,name)\n",
    "    \n",
    "b =  B('Sachin Yadav')\n",
    "b.show()"
   ]
  },
  {
   "cell_type": "code",
   "execution_count": null,
   "metadata": {
    "collapsed": true
   },
   "outputs": [],
   "source": []
  }
 ],
 "metadata": {
  "kernelspec": {
   "display_name": "Python 3",
   "language": "python",
   "name": "python3"
  },
  "language_info": {
   "codemirror_mode": {
    "name": "ipython",
    "version": 3
   },
   "file_extension": ".py",
   "mimetype": "text/x-python",
   "name": "python",
   "nbconvert_exporter": "python",
   "pygments_lexer": "ipython3",
   "version": "3.6.3"
  }
 },
 "nbformat": 4,
 "nbformat_minor": 2
}
