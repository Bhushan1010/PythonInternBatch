{
 "cells": [
  {
   "cell_type": "markdown",
   "metadata": {},
   "source": [
    "# Concepts of Classes in python"
   ]
  },
  {
   "cell_type": "code",
   "execution_count": 8,
   "metadata": {
    "collapsed": true
   },
   "outputs": [],
   "source": [
    "class Poly:\n",
    "    no_of_poly = 0\n",
    "    \"\"\"Hi i am a Polygon Class\"\"\"\n",
    "    def __init__(self,name,no_of_sides=0):\n",
    "        Poly.no_of_poly += 1\n",
    "        self.name = name\n",
    "        self.n = no_of_sides\n",
    "        self.sides = [ 0 for var in range(no_of_sides) ]\n",
    "\n",
    "    def set_Sides(self):\n",
    "        n = self.n\n",
    "        self.sides = []\n",
    "        print(\"Enter Value of Sides for \",self.name)\n",
    "        self.sides = [ float(input(\"Enter side{} : \".format(var))) for var in range(1,n+1) ]\n",
    "\n",
    "    def get_Sides(self):\n",
    "        print(\"Hi I am {} and I have My sides as :- \".format(self.name))\n",
    "        n = self.n\n",
    "        for var in range(1,n+1):\n",
    "            print(\"Side{} = {}\".format(var,self.sides[var-1]))\n",
    "    def show_Obj(self):\n",
    "        print(\"No of Polygons Till now is : \",Poly.no_of_poly)\n"
   ]
  },
  {
   "cell_type": "code",
   "execution_count": 9,
   "metadata": {},
   "outputs": [
    {
     "name": "stdout",
     "output_type": "stream",
     "text": [
      "Enter Value of Sides for  Triangle\n",
      "Enter side1 : 33\n",
      "Enter side2 : 23\n",
      "Enter side3 : 15\n",
      "Hi I am Triangle and I have My sides as :- \n",
      "Side1 = 33.0\n",
      "Side2 = 23.0\n",
      "Side3 = 15.0\n",
      "Enter Value of Sides for  Rectangle\n",
      "Enter side1 : 50\n",
      "Enter side2 : 30\n",
      "Enter side3 : 23\n",
      "Enter side4 : 68\n",
      "Hi I am Rectangle and I have My sides as :- \n",
      "Side1 = 50.0\n",
      "Side2 = 30.0\n",
      "Side3 = 23.0\n",
      "Side4 = 68.0\n",
      "No of Polygons Till now is :  3\n"
     ]
    }
   ],
   "source": [
    "triangle = Poly('Triangle',3)\n",
    "rect = Poly('Rectangle',4)\n",
    "triangle.set_Sides()\n",
    "triangle.get_Sides()\n",
    "rect.set_Sides()\n",
    "rect.get_Sides()\n",
    "hexs = Poly('Hexa',6)\n",
    "hexs.show_Obj()"
   ]
  },
  {
   "cell_type": "code",
   "execution_count": null,
   "metadata": {
    "collapsed": true
   },
   "outputs": [],
   "source": [
    "class Triangle(Poly):\n",
    "    def __init__(self,name):\n",
    "        Poly.__init__(self,name,3)\n",
    "    def Area(self):\n",
    "        a,b,c = self.sides\n",
    "        s = (a+b+c) / 2\n",
    "        from math import sqrt\n",
    "        area  = sqrt(s*(s-a)*(s-b)*(s-c))\n",
    "        return area\n",
    "    \n",
    "t1 = Triangle('Triangle1')\n",
    "t2 = Triangle('Triangle2')\n",
    "t1.set_Sides()\n",
    "t2.set_Sides()\n",
    "t1.get_Sides()\n",
    "t2.get_Sides()\n",
    "Area1 = t1.Area()\n",
    "Area2 = t2.Area()\n",
    "print(\"Area of Triangle one = %.2f \\n Area of Triangle two is\\\n",
    "= %.2f\"%(Area1,Area2))\n"
   ]
  },
  {
   "cell_type": "code",
   "execution_count": null,
   "metadata": {
    "collapsed": true
   },
   "outputs": [],
   "source": [
    "class one:\n",
    "    pvar = \"Public Variable\"\n",
    "    _prvar = \"Protected Variable\"\n",
    "    __privar = \"Private Variable\"\n",
    "    def __init__(self)"
   ]
  }
 ],
 "metadata": {
  "kernelspec": {
   "display_name": "Python 3",
   "language": "python",
   "name": "python3"
  },
  "language_info": {
   "codemirror_mode": {
    "name": "ipython",
    "version": 3
   },
   "file_extension": ".py",
   "mimetype": "text/x-python",
   "name": "python",
   "nbconvert_exporter": "python",
   "pygments_lexer": "ipython3",
   "version": "3.6.3"
  }
 },
 "nbformat": 4,
 "nbformat_minor": 2
}
