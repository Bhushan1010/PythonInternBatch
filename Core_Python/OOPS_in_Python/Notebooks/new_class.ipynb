{
 "cells": [
  {
   "cell_type": "code",
   "execution_count": 5,
   "metadata": {},
   "outputs": [
    {
     "name": "stdout",
     "output_type": "stream",
     "text": [
      "Objects Attributes are : (self variables)\n",
      "Name :  x\n",
      "Type :  default\n",
      "Objects Attributes are : (self variables)\n",
      "Name :  y\n",
      "Type :  default\n",
      "Class Attributes are : (Common or Share Variables)\n",
      "Public Variable =  Public Variable\n",
      "Protect Variable =  Protected Variable\n",
      "Private Variable =  Private Variable\n"
     ]
    }
   ],
   "source": [
    "class one:\n",
    "    \"This is class one.\"\n",
    "    pvar = \"Public Variable\" #class variable\n",
    "    _prvar = \"Protected Variable\" #clas Variable\n",
    "    __privar = \"Private Variable\" #class Variable\n",
    "    def __init__(self,x,y):\n",
    "        self.x = x #object variable\n",
    "        self.y = y #object attribute\n",
    "    def show(self):\n",
    "        print(\"Objects Attributes are : (self variables)\")\n",
    "        print(\"Name : \",self.x)\n",
    "        print(\"Type : \",self.y)\n",
    "    def class_show(self):\n",
    "        print(\"Class Attributes are : (Common or Share Variables)\")\n",
    "        print(\"Public Variable = \",one.pvar)\n",
    "        print(\"Protect Variable = \",one._prvar)\n",
    "        print(\"Private Variable = \",one.__privar)\n",
    "        \n",
    "    def set_val(self):\n",
    "        self.x = input(\"New Value for X : \")\n",
    "        self.y = input(\"New Value for y : \")\n",
    "    def set_class(self):\n",
    "        one.pvar = input(\"New Public Var : \")\n",
    "        one._prvar = input(\"New Protect Var : \")\n",
    "        one.__privar = input(\"New Private VAr : \")\n",
    "        \n",
    "\n",
    "x = one('x','default')\n",
    "y = one('y','default')\n",
    "x.show()\n",
    "y.show()\n",
    "y.class_show()"
   ]
  },
  {
   "cell_type": "code",
   "execution_count": 11,
   "metadata": {},
   "outputs": [
    {
     "name": "stdout",
     "output_type": "stream",
     "text": [
      "Vector(4,5)\n",
      "Vector(6,7)\n",
      "Vector(10,12)\n",
      "All objects are of same Class Vector\n",
      "Vector(20,32)\n"
     ]
    }
   ],
   "source": [
    "class Vector:\n",
    "    \"\"\"This is doc-string\"\"\"\n",
    "    def __init__(self,real,img): #constructor\n",
    "        self.real = real\n",
    "        self.img = img\n",
    "    def __str__(self):\n",
    "        return \"Vector({},{})\".format(self.real,self.img)\n",
    "    def __add__(self,obj):\n",
    "        return Vector(self.real+obj.real,self.img+obj.img)\n",
    "    \n",
    "one = Vector(4,5)\n",
    "print(one)\n",
    "two = Vector(6,7)\n",
    "print(two)\n",
    "three = one + two\n",
    "print(one+two)\n",
    "if dir(one) == dir(two) == dir(three) :\n",
    "    print(\"All objects are of same Class Vector\")\n",
    "four = Vector(10,20)\n",
    "print(three+four)"
   ]
  },
  {
   "cell_type": "code",
   "execution_count": 18,
   "metadata": {},
   "outputs": [
    {
     "name": "stdout",
     "output_type": "stream",
     "text": [
      "['__class__', '__delattr__', '__dict__', '__dir__', '__doc__', '__eq__', '__format__', '__ge__', '__getattribute__', '__gt__', '__hash__', '__init__', '__init_subclass__', '__le__', '__lt__', '__module__', '__ne__', '__new__', '__reduce__', '__reduce_ex__', '__repr__', '__setattr__', '__sizeof__', '__str__', '__subclasshook__', '__weakref__']\n",
      "['__class__', '__delattr__', '__dict__', '__dir__', '__doc__', '__eq__', '__format__', '__ge__', '__getattribute__', '__gt__', '__hash__', '__init__', '__init_subclass__', '__le__', '__lt__', '__module__', '__ne__', '__new__', '__reduce__', '__reduce_ex__', '__repr__', '__setattr__', '__sizeof__', '__str__', '__subclasshook__', '__weakref__']\n",
      "None\n"
     ]
    }
   ],
   "source": [
    "class x:\n",
    "    pass\n",
    "class y:\n",
    "    pass\n",
    "class z(x,y):\n",
    "    pass\n",
    "\n",
    "print(dir(z))\n",
    "a = z()\n",
    "print(dir(a))\n",
    "print(a.__init_subclass__())"
   ]
  },
  {
   "cell_type": "code",
   "execution_count": null,
   "metadata": {
    "collapsed": true
   },
   "outputs": [],
   "source": [
    "def hello():\n",
    "    try :\n",
    "        x = int(input(\"Enter a positive value : \"))\n",
    "        if x < 0 :\n",
    "            raise ValueError(\"{} is a Negative Number\\nPlease\\\n",
    "input only Positive Value Try Again \".format(x))\n",
    "        print(x,\"Good Boy\")\n",
    "        if input(\"Press something to continue : \") :\n",
    "            hello()\n",
    "    except ValueError as e :\n",
    "        print(\"Error!\",e)\n",
    "        hello()\n",
    "hello()"
   ]
  },
  {
   "cell_type": "code",
   "execution_count": null,
   "metadata": {
    "collapsed": true
   },
   "outputs": [],
   "source": [
    "def hello():\n",
    "    try : \n",
    "        x = int(input(\"Enter a Positive Value : \"))\n",
    "        assert x >= 0 , \"{} is not Positive you idiot\".format(x)\n",
    "        print(\"Good Boy \")\n",
    "        if input(\"Type something : \") :\n",
    "            hello()\n",
    "    except AssertionError as arg :\n",
    "        print(\"Error!!\",arg)\n",
    "        print(\"Try again\")\n",
    "        hello()\n",
    "hello()"
   ]
  }
 ],
 "metadata": {
  "kernelspec": {
   "display_name": "Python 3",
   "language": "python",
   "name": "python3"
  },
  "language_info": {
   "codemirror_mode": {
    "name": "ipython",
    "version": 3
   },
   "file_extension": ".py",
   "mimetype": "text/x-python",
   "name": "python",
   "nbconvert_exporter": "python",
   "pygments_lexer": "ipython3",
   "version": "3.6.3"
  }
 },
 "nbformat": 4,
 "nbformat_minor": 2
}
