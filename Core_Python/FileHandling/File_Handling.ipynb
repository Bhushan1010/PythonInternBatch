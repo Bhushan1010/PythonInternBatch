{
 "cells": [
  {
   "cell_type": "code",
   "execution_count": 1,
   "metadata": {},
   "outputs": [
    {
     "name": "stdout",
     "output_type": "stream",
     "text": [
      "['_CHUNK_SIZE', '__class__', '__del__', '__delattr__', '__dict__', '__dir__', '__doc__', '__enter__', '__eq__', '__exit__', '__format__', '__ge__', '__getattribute__', '__getstate__', '__gt__', '__hash__', '__init__', '__init_subclass__', '__iter__', '__le__', '__lt__', '__ne__', '__new__', '__next__', '__reduce__', '__reduce_ex__', '__repr__', '__setattr__', '__sizeof__', '__str__', '__subclasshook__', '_checkClosed', '_checkReadable', '_checkSeekable', '_checkWritable', '_finalizing', 'buffer', 'close', 'closed', 'detach', 'encoding', 'errors', 'fileno', 'flush', 'isatty', 'line_buffering', 'mode', 'name', 'newlines', 'read', 'readable', 'readline', 'readlines', 'seek', 'seekable', 'tell', 'truncate', 'writable', 'write', 'writelines']\n"
     ]
    }
   ],
   "source": [
    "#open is used open files\n",
    "fp = open('Functions_In_Python.ipynb')\n",
    "print(dir(fp))"
   ]
  },
  {
   "cell_type": "code",
   "execution_count": 2,
   "metadata": {},
   "outputs": [
    {
     "data": {
      "text/plain": [
       "'r'"
      ]
     },
     "execution_count": 2,
     "metadata": {},
     "output_type": "execute_result"
    }
   ],
   "source": [
    "fp.mode"
   ]
  },
  {
   "cell_type": "code",
   "execution_count": 3,
   "metadata": {},
   "outputs": [
    {
     "data": {
      "text/plain": [
       "'Functions_In_Python.ipynb'"
      ]
     },
     "execution_count": 3,
     "metadata": {},
     "output_type": "execute_result"
    }
   ],
   "source": [
    "fp.name"
   ]
  },
  {
   "cell_type": "code",
   "execution_count": 4,
   "metadata": {},
   "outputs": [
    {
     "data": {
      "text/plain": [
       "0"
      ]
     },
     "execution_count": 4,
     "metadata": {},
     "output_type": "execute_result"
    }
   ],
   "source": [
    "fp.tell()"
   ]
  },
  {
   "cell_type": "code",
   "execution_count": 6,
   "metadata": {},
   "outputs": [
    {
     "data": {
      "text/plain": [
       "True"
      ]
     },
     "execution_count": 6,
     "metadata": {},
     "output_type": "execute_result"
    }
   ],
   "source": [
    "fp.readable()"
   ]
  },
  {
   "cell_type": "code",
   "execution_count": 8,
   "metadata": {},
   "outputs": [
    {
     "data": {
      "text/plain": [
       "False"
      ]
     },
     "execution_count": 8,
     "metadata": {},
     "output_type": "execute_result"
    }
   ],
   "source": [
    "fp.writable()"
   ]
  },
  {
   "cell_type": "code",
   "execution_count": 9,
   "metadata": {
    "collapsed": true
   },
   "outputs": [],
   "source": [
    "line1 = fp.readline()"
   ]
  },
  {
   "cell_type": "code",
   "execution_count": 10,
   "metadata": {},
   "outputs": [
    {
     "data": {
      "text/plain": [
       "'{\\n'"
      ]
     },
     "execution_count": 10,
     "metadata": {},
     "output_type": "execute_result"
    }
   ],
   "source": [
    "line1"
   ]
  },
  {
   "cell_type": "code",
   "execution_count": 11,
   "metadata": {},
   "outputs": [
    {
     "data": {
      "text/plain": [
       "2"
      ]
     },
     "execution_count": 11,
     "metadata": {},
     "output_type": "execute_result"
    }
   ],
   "source": [
    "fp.tell()"
   ]
  },
  {
   "cell_type": "code",
   "execution_count": 12,
   "metadata": {
    "collapsed": true
   },
   "outputs": [],
   "source": [
    "line2 = fp.readline()"
   ]
  },
  {
   "cell_type": "code",
   "execution_count": 13,
   "metadata": {},
   "outputs": [
    {
     "data": {
      "text/plain": [
       "' \"cells\": [\\n'"
      ]
     },
     "execution_count": 13,
     "metadata": {},
     "output_type": "execute_result"
    }
   ],
   "source": [
    "line2"
   ]
  },
  {
   "cell_type": "code",
   "execution_count": 14,
   "metadata": {
    "collapsed": true
   },
   "outputs": [],
   "source": [
    "fp.seek(0)\n",
    "file_data = fp.read() "
   ]
  },
  {
   "cell_type": "code",
   "execution_count": 15,
   "metadata": {
    "collapsed": true
   },
   "outputs": [],
   "source": [
    "fp.close()"
   ]
  },
  {
   "cell_type": "code",
   "execution_count": 16,
   "metadata": {},
   "outputs": [
    {
     "data": {
      "text/plain": [
       "'{\\n \"cells\": [\\n  {\\n   \"cell_type\": \"markdown\",\\n   \"metadata\": {},\\n   \"source\": [\\n    \"# What is a Function ? \"\\n   ]\\n  },\\n  {\\n   \"cell_type\": \"markdown\",\\n   \"metadata\": {},\\n   \"source\": [\\n    \"collection of statements to slove a specific task. is that correct ? \"\\n   ]\\n  },\\n  {\\n   \"cell_type\": \"markdown\",\\n   \"metadata\": {},\\n   \"source\": [\\n    \"# Why Functions are used not Statements ? \"\\n   ]\\n  },\\n  {\\n   \"cell_type\": \"markdown\",\\n   \"metadata\": {},\\n   \"source\": [\\n    \"Beause who just want to write same code again and again ? right\\\\n\",\\n    \"so reuseability is the factor we use functions \"\\n   ]\\n  },\\n  {\\n   \"cell_type\": \"markdown\",\\n   \"metadata\": {},\\n   \"source\": [\\n    \"# How does a function really works ? \"\\n   ]\\n  },\\n  {\\n   \"cell_type\": \"markdown\",\\n   \"metadata\": {},\\n   \"source\": [\\n    \"1. Defination -> know what to do and how to do ?\\\\n\",\\n    \"2. Calling -> Repeat Defination Whenever needed  ? \\\\n\",\\n    \"3. Return -> Always get somthing whenever we call a function ? \"\\n   ]\\n  },\\n  {\\n   \"cell_type\": \"code\",\\n   \"execution_count\": 1,\\n   \"metadata\": {\\n    \"collapsed\": true\\n   },\\n   \"outputs\": [],\\n   \"source\": [\\n    \"def hello():\\\\n\",\\n    \"    print(\\\\\"Hello World\\\\\")\\\\n\",\\n    \"    \"\\n   ]\\n  },\\n  {\\n   \"cell_type\": \"code\",\\n   \"execution_count\": 2,\\n   \"metadata\": {},\\n   \"outputs\": [\\n    {\\n     \"name\": \"stdout\",\\n     \"output_type\": \"stream\",\\n     \"text\": [\\n      \"Hello World\\\\n\",\\n      \"None\\\\n\",\\n      \"None\\\\n\"\\n     ]\\n    }\\n   ],\\n   \"source\": [\\n    \"r = hello()\\\\n\",\\n    \"print(print(r))\"\\n   ]\\n  },\\n  {\\n   \"cell_type\": \"code\",\\n   \"execution_count\": 3,\\n   \"metadata\": {\\n    \"collapsed\": true\\n   },\\n   \"outputs\": [],\\n   \"source\": [\\n    \"#function can return also\\\\n\",\\n    \"def hello():\\\\n\",\\n    \"    return \\\\\"Hello World\\\\\"\"\\n   ]\\n  },\\n  {\\n   \"cell_type\": \"code\",\\n   \"execution_count\": 6,\\n   \"metadata\": {},\\n   \"outputs\": [\\n    {\\n     \"name\": \"stdout\",\\n     \"output_type\": \"stream\",\\n     \"text\": [\\n      \"Hello World\\\\n\"\\n     ]\\n    }\\n   ],\\n   \"source\": [\\n    \"#msg = hello()\\\\n\",\\n    \"print(hello())\"\\n   ]\\n  },\\n  {\\n   \"cell_type\": \"code\",\\n   \"execution_count\": 11,\\n   \"metadata\": {\\n    \"collapsed\": true\\n   },\\n   \"outputs\": [],\\n   \"source\": [\\n    \"#function can also take information to process\\\\n\",\\n    \"def hello(name): # formal arguments or formal parameters\\\\n\",\\n    \"    print(\\\\\"Hello World !\\\\\")\\\\n\",\\n    \"    print(\\\\\"Welcome user, \\\\\",name)\\\\n\",\\n    \"    return False #exit status\\\\n\",\\n    \"    \"\\n   ]\\n  },\\n  {\\n   \"cell_type\": \"code\",\\n   \"execution_count\": 12,\\n   \"metadata\": {},\\n   \"outputs\": [\\n    {\\n     \"name\": \"stdout\",\\n     \"output_type\": \"stream\",\\n     \"text\": [\\n      \"Enter your name : sachin yadav\\\\n\",\\n      \"Hello World !\\\\n\",\\n      \"Welcome user,  sachin yadav\\\\n\",\\n      \"There is an error in function \\\\n\"\\n     ]\\n    }\\n   ],\\n   \"source\": [\\n    \"if hello(input(\\\\\"Enter your name : \\\\\")) : \\\\n\",\\n    \"         print(\\\\\"Function Sucessfully Exited\\\\\")\\\\n\",\\n    \"else :\\\\n\",\\n    \"         print(\\\\\"There is an error in function \\\\\")\"\\n   ]\\n  },\\n  {\\n   \"cell_type\": \"code\",\\n   \"execution_count\": 13,\\n   \"metadata\": {\\n    \"collapsed\": true\\n   },\\n   \"outputs\": [],\\n   \"source\": [\\n    \"def prime(num):\\\\n\",\\n    \"    from math import sqrt\\\\n\",\\n    \"    check = round(sqrt(num)+1)\\\\n\",\\n    \"    for ch in range(2,check):\\\\n\",\\n    \"        if num % ch == 0 :\\\\n\",\\n    \"            return False\\\\n\",\\n    \"    return True\"\\n   ]\\n  },\\n  {\\n   \"cell_type\": \"code\",\\n   \"execution_count\": 16,\\n   \"metadata\": {\\n    \"collapsed\": true\\n   },\\n   \"outputs\": [],\\n   \"source\": [\\n    \"def main():\\\\n\",\\n    \"    num = int(input(\\\\\"Enter a Number : \\\\\"))\\\\n\",\\n    \"    if prime(num) :\\\\n\",\\n    \"        print(\\\\\"Given no. {} is a Prime Number \\\\\".format(num))\\\\n\",\\n    \"    else : \\\\n\",\\n    \"        print(\\\\\"Given no. {} is not a Prime Number \\\\\".format(num))\"\\n   ]\\n  },\\n  {\\n   \"cell_type\": \"code\",\\n   \"execution_count\": 17,\\n   \"metadata\": {},\\n   \"outputs\": [\\n    {\\n     \"name\": \"stdout\",\\n     \"output_type\": \"stream\",\\n     \"text\": [\\n      \"Enter a Number : 127\\\\n\",\\n      \"Given no. 127 is a Prime Number \\\\n\"\\n     ]\\n    }\\n   ],\\n   \"source\": [\\n    \"main()\"\\n   ]\\n  },\\n  {\\n   \"cell_type\": \"code\",\\n   \"execution_count\": 18,\\n   \"metadata\": {},\\n   \"outputs\": [\\n    {\\n     \"data\": {\\n      \"text/plain\": [\\n       \"False\"\\n      ]\\n     },\\n     \"execution_count\": 18,\\n     \"metadata\": {},\\n     \"output_type\": \"execute_result\"\\n    }\\n   ],\\n   \"source\": [\\n    \"prime(1937811)\"\\n   ]\\n  },\\n  {\\n   \"cell_type\": \"code\",\\n   \"execution_count\": 26,\\n   \"metadata\": {\\n    \"collapsed\": true\\n   },\\n   \"outputs\": [],\\n   \"source\": [\\n    \"def prime_range(start,end):\\\\n\",\\n    \"    c = 0\\\\n\",\\n    \"    for var in range(start,end+1):\\\\n\",\\n    \"        if prime(var):\\\\n\",\\n    \"            print(var,end=\\', \\')\\\\n\",\\n    \"            c = c + 1\\\\n\",\\n    \"    print(\\\\\"Total {} Prime Numbers in range({},{})\\\\\".format(c,start,end))\\\\n\",\\n    \"    print()\"\\n   ]\\n  },\\n  {\\n   \"cell_type\": \"code\",\\n   \"execution_count\": 29,\\n   \"metadata\": {},\\n   \"outputs\": [\\n    {\\n     \"name\": \"stdout\",\\n     \"output_type\": \"stream\",\\n     \"text\": [\\n      \"Enter start,end point : 1100,1200\\\\n\",\\n      \"1103, 1109, 1117, 1123, 1129, 1151, 1153, 1163, 1171, 1181, 1187, 1193, Total 12 Prime Numbers in range(1100,1200)\\\\n\",\\n      \"\\\\n\"\\n     ]\\n    }\\n   ],\\n   \"source\": [\\n    \"s,e = map(int,input(\\\\\"Enter start,end point : \\\\\").strip().split(\\',\\'))\\\\n\",\\n    \"prime_range(s,e)\"\\n   ]\\n  },\\n  {\\n   \"cell_type\": \"code\",\\n   \"execution_count\": 30,\\n   \"metadata\": {},\\n   \"outputs\": [\\n    {\\n     \"name\": \"stdout\",\\n     \"output_type\": \"stream\",\\n     \"text\": [\\n      \"Type somethingsachin,ram,shyam,hari,mohan,\\\\n\",\\n      \"<class \\'list\\'>\\\\n\",\\n      \"[\\'sachin\\', \\'ram\\', \\'shyam\\', \\'hari\\', \\'mohan\\', \\'\\']\\\\n\"\\n     ]\\n    }\\n   ],\\n   \"source\": [\\n    \"s = input(\\\\\"Type something\\\\\")\\\\n\",\\n    \"k = s.split(\\',\\')\\\\n\",\\n    \"print(type(k))\\\\n\",\\n    \"print(k)\"\\n   ]\\n  },\\n  {\\n   \"cell_type\": \"code\",\\n   \"execution_count\": 31,\\n   \"metadata\": {\\n    \"collapsed\": true\\n   },\\n   \"outputs\": [],\\n   \"source\": [\\n    \"def mymap(func,seq):\\\\n\",\\n    \"    r = []\\\\n\",\\n    \"    for var in seq : \\\\n\",\\n    \"        k = func(var)\\\\n\",\\n    \"        r.append(k)\\\\n\",\\n    \"    return r\"\\n   ]\\n  },\\n  {\\n   \"cell_type\": \"code\",\\n   \"execution_count\": 32,\\n   \"metadata\": {},\\n   \"outputs\": [\\n    {\\n     \"name\": \"stdout\",\\n     \"output_type\": \"stream\",\\n     \"text\": [\\n      \"Float values as , seprated : 123,4567.44,3446,2143.45,234464.465,23446.67\\\\n\",\\n      \"Before X =  [\\'123\\', \\'4567.44\\', \\'3446\\', \\'2143.45\\', \\'234464.465\\', \\'23446.67\\']\\\\n\",\\n      \"After X =  [123.0, 4567.44, 3446.0, 2143.45, 234464.465, 23446.67]\\\\n\"\\n     ]\\n    }\\n   ],\\n   \"source\": [\\n    \"x = input(\\\\\"Float values as , seprated : \\\\\").split(\\',\\')\\\\n\",\\n    \"print(\\\\\"Before X = \\\\\",x)\\\\n\",\\n    \"x = mymap(float,x)\\\\n\",\\n    \"print(\\\\\"After X = \\\\\",x)\"\\n   ]\\n  },\\n  {\\n   \"cell_type\": \"code\",\\n   \"execution_count\": 33,\\n   \"metadata\": {},\\n   \"outputs\": [\\n    {\\n     \"name\": \"stdout\",\\n     \"output_type\": \"stream\",\\n     \"text\": [\\n      \"Float values as , seprated : 1,2,3,4,56,7\\\\n\",\\n      \"Before X =  [\\'1\\', \\'2\\', \\'3\\', \\'4\\', \\'56\\', \\'7\\']\\\\n\",\\n      \"After X =  [1, 2, 3, 4, 56, 7]\\\\n\"\\n     ]\\n    }\\n   ],\\n   \"source\": [\\n    \"x = input(\\\\\"Float values as , seprated : \\\\\").split(\\',\\')\\\\n\",\\n    \"print(\\\\\"Before X = \\\\\",x)\\\\n\",\\n    \"x = mymap(int,x)\\\\n\",\\n    \"print(\\\\\"After X = \\\\\",x)\"\\n   ]\\n  },\\n  {\\n   \"cell_type\": \"code\",\\n   \"execution_count\": 41,\\n   \"metadata\": {\\n    \"collapsed\": true\\n   },\\n   \"outputs\": [],\\n   \"source\": [\\n    \"def area(r,b=0,c=0):\\\\n\",\\n    \"    if r and b and c :\\\\n\",\\n    \"        from math import sqrt\\\\n\",\\n    \"        s = ( r + b + c ) / 2\\\\n\",\\n    \"        A = sqrt(s*(s-r)*(s-b)*(s-c))\\\\n\",\\n    \"        return A\\\\n\",\\n    \"    elif r and b :\\\\n\",\\n    \"        return r*b\\\\n\",\\n    \"    else : \\\\n\",\\n    \"        from math import pi \\\\n\",\\n    \"        return r*r*pi\"\\n   ]\\n  },\\n  {\\n   \"cell_type\": \"code\",\\n   \"execution_count\": 42,\\n   \"metadata\": {},\\n   \"outputs\": [\\n    {\\n     \"name\": \"stdout\",\\n     \"output_type\": \"stream\",\\n     \"text\": [\\n      \"28.274333882308138\\\\n\"\\n     ]\\n    }\\n   ],\\n   \"source\": [\\n    \"print(area(3))\"\\n   ]\\n  },\\n  {\\n   \"cell_type\": \"code\",\\n   \"execution_count\": 43,\\n   \"metadata\": {},\\n   \"outputs\": [\\n    {\\n     \"name\": \"stdout\",\\n     \"output_type\": \"stream\",\\n     \"text\": [\\n      \"15\\\\n\"\\n     ]\\n    }\\n   ],\\n   \"source\": [\\n    \"print(area(3,5))\"\\n   ]\\n  },\\n  {\\n   \"cell_type\": \"code\",\\n   \"execution_count\": 44,\\n   \"metadata\": {},\\n   \"outputs\": [\\n    {\\n     \"name\": \"stdout\",\\n     \"output_type\": \"stream\",\\n     \"text\": [\\n      \"1558.8457268119896\\\\n\"\\n     ]\\n    }\\n   ],\\n   \"source\": [\\n    \"print(area(60,60,60))\"\\n   ]\\n  },\\n  {\\n   \"cell_type\": \"code\",\\n   \"execution_count\": 46,\\n   \"metadata\": {},\\n   \"outputs\": [\\n    {\\n     \"data\": {\\n      \"text/plain\": [\\n       \"False\"\\n      ]\\n     },\\n     \"execution_count\": 46,\\n     \"metadata\": {},\\n     \"output_type\": \"execute_result\"\\n    }\\n   ],\\n   \"source\": [\\n    \"prime(num=103424)\"\\n   ]\\n  },\\n  {\\n   \"cell_type\": \"code\",\\n   \"execution_count\": 47,\\n   \"metadata\": {\\n    \"collapsed\": true\\n   },\\n   \"outputs\": [],\\n   \"source\": [\\n    \"def fun(a,b=0,c=0) :\\\\n\",\\n    \"    print(\\\\\"A = \\\\\",a)\\\\n\",\\n    \"    print(\\\\\"B = \\\\\",b)\\\\n\",\\n    \"    print(\\\\\"C = \\\\\",c)\"\\n   ]\\n  },\\n  {\\n   \"cell_type\": \"code\",\\n   \"execution_count\": 51,\\n   \"metadata\": {},\\n   \"outputs\": [\\n    {\\n     \"name\": \"stdout\",\\n     \"output_type\": \"stream\",\\n     \"text\": [\\n      \"A =  22\\\\n\",\\n      \"B =  -20\\\\n\",\\n      \"C =  30\\\\n\"\\n     ]\\n    }\\n   ],\\n   \"source\": [\\n    \"fun(c=30,b=-20,a=22) #keywords arguments\"\\n   ]\\n  },\\n  {\\n   \"cell_type\": \"code\",\\n   \"execution_count\": 52,\\n   \"metadata\": {},\\n   \"outputs\": [\\n    {\\n     \"name\": \"stdout\",\\n     \"output_type\": \"stream\",\\n     \"text\": [\\n      \"A =  14\\\\n\",\\n      \"B =  4\\\\n\",\\n      \"C =  0\\\\n\"\\n     ]\\n    }\\n   ],\\n   \"source\": [\\n    \"fun(14,b=4)\"\\n   ]\\n  },\\n  {\\n   \"cell_type\": \"code\",\\n   \"execution_count\": 59,\\n   \"metadata\": {},\\n   \"outputs\": [\\n    {\\n     \"name\": \"stdout\",\\n     \"output_type\": \"stream\",\\n     \"text\": [\\n      \"A =  1\\\\n\",\\n      \"B =  3\\\\n\",\\n      \"C =  5\\\\n\"\\n     ]\\n    }\\n   ],\\n   \"source\": [\\n    \"fun(1,b=3,c=5)\"\\n   ]\\n  },\\n  {\\n   \"cell_type\": \"code\",\\n   \"execution_count\": 60,\\n   \"metadata\": {\\n    \"collapsed\": true\\n   },\\n   \"outputs\": [],\\n   \"source\": [\\n    \"def eve(*args):\\\\n\",\\n    \"    for var in args :\\\\n\",\\n    \"        if var % 2 == 0 : \\\\n\",\\n    \"            print(var, end=\\', \\')\\\\n\",\\n    \"    \"\\n   ]\\n  },\\n  {\\n   \"cell_type\": \"code\",\\n   \"execution_count\": 64,\\n   \"metadata\": {},\\n   \"outputs\": [\\n    {\\n     \"name\": \"stdout\",\\n     \"output_type\": \"stream\",\\n     \"text\": [\\n      \"2, 4, 24, 6, 24, 4, 52, 466, \"\\n     ]\\n    }\\n   ],\\n   \"source\": [\\n    \"eve(2,3,35,643,4,24,6,3,24,25,3,4,25,52,43,466,5)\"\\n   ]\\n  },\\n  {\\n   \"cell_type\": \"code\",\\n   \"execution_count\": 73,\\n   \"metadata\": {\\n    \"collapsed\": true\\n   },\\n   \"outputs\": [],\\n   \"source\": [\\n    \"def main():\\\\n\",\\n    \"    eve(*map(int,input(\\\\\"Enter , seprated values : \\\\\").split(\\',\\')))\\\\n\",\\n    \"    if input(\\\\\"Press a key to continue : \\\\\") :\\\\n\",\\n    \"        main()\"\\n   ]\\n  },\\n  {\\n   \"cell_type\": \"code\",\\n   \"execution_count\": 78,\\n   \"metadata\": {},\\n   \"outputs\": [\\n    {\\n     \"name\": \"stdout\",\\n     \"output_type\": \"stream\",\\n     \"text\": [\\n      \"Enter , seprated values : 1,2\\\\n\",\\n      \"2, Press a key to continue : aksf\\\\n\",\\n      \"Enter , seprated values : 1,2,3,4,5\\\\n\",\\n      \"2, 4, Press a key to continue : \\\\n\"\\n     ]\\n    }\\n   ],\\n   \"source\": [\\n    \"main()\"\\n   ]\\n  },\\n  {\\n   \"cell_type\": \"code\",\\n   \"execution_count\": 79,\\n   \"metadata\": {\\n    \"collapsed\": true\\n   },\\n   \"outputs\": [],\\n   \"source\": [\\n    \"def mydata(**kwargs):\\\\n\",\\n    \"    for key,value in kwargs.items() :\\\\n\",\\n    \"        print(\\\\\"{}={}\\\\\".format(key,value))\"\\n   ]\\n  },\\n  {\\n   \"cell_type\": \"code\",\\n   \"execution_count\": 80,\\n   \"metadata\": {},\\n   \"outputs\": [\\n    {\\n     \"name\": \"stdout\",\\n     \"output_type\": \"stream\",\\n     \"text\": [\\n      \"name=python\\\\n\",\\n      \"version=3.6\\\\n\",\\n      \"scope=world wide\\\\n\"\\n     ]\\n    }\\n   ],\\n   \"source\": [\\n    \"mydata(name=\\'python\\',version=3.6,scope=\\'world wide\\')\"\\n   ]\\n  },\\n  {\\n   \"cell_type\": \"code\",\\n   \"execution_count\": 86,\\n   \"metadata\": {\\n    \"collapsed\": true\\n   },\\n   \"outputs\": [],\\n   \"source\": [\\n    \"d  = { \\\\n\",\\n    \"     \\'1\\':\\'one\\',\\\\n\",\\n    \"     \\'2\\':\\'two\\',\\\\n\",\\n    \"     \\'3\\':\\'three\\',\\\\n\",\\n    \"     \\'4\\':\\'four\\',\\\\n\",\\n    \"    }\"\\n   ]\\n  },\\n  {\\n   \"cell_type\": \"code\",\\n   \"execution_count\": 87,\\n   \"metadata\": {},\\n   \"outputs\": [\\n    {\\n     \"name\": \"stdout\",\\n     \"output_type\": \"stream\",\\n     \"text\": [\\n      \"1=one\\\\n\",\\n      \"2=two\\\\n\",\\n      \"3=three\\\\n\",\\n      \"4=four\\\\n\"\\n     ]\\n    }\\n   ],\\n   \"source\": [\\n    \"mydata(**d)\"\\n   ]\\n  },\\n  {\\n   \"cell_type\": \"code\",\\n   \"execution_count\": 6,\\n   \"metadata\": {\\n    \"collapsed\": true\\n   },\\n   \"outputs\": [],\\n   \"source\": [\\n    \"def last_func(pos,key=10,*args,**kwargs):\\\\n\",\\n    \"    \\\\\"\\\\\"\\\\\"I used to print all arguments.\\\\\"\\\\\"\\\\\" #doc-string\\\\n\",\\n    \"    print(\\\\\"Positional Argument is \\\\\",pos)\\\\n\",\\n    \"    print(\\\\\"Keyword / Default Argument is \\\\\",key)\\\\n\",\\n    \"    print(\\\\\"Here are your multiple Arguments as Tuple\\\\\")\\\\n\",\\n    \"    c = 1\\\\n\",\\n    \"    for value in args:\\\\n\",\\n    \"        print(\\\\\"Args[{}] : {}\\\\\".format(c,value))\\\\n\",\\n    \"        c = c + 1\\\\n\",\\n    \"    print(\\\\\"Here are your arguments as Dictionary\\\\\")\\\\n\",\\n    \"    for key,value in kwargs.items() :\\\\n\",\\n    \"        print(\\\\\"{}={}\\\\\".format(key,value))\\\\n\",\\n    \"    print(\\\\\"\\\\\\\\nThanks for using this function\\\\\")\"\\n   ]\\n  },\\n  {\\n   \"cell_type\": \"code\",\\n   \"execution_count\": 2,\\n   \"metadata\": {},\\n   \"outputs\": [\\n    {\\n     \"name\": \"stdout\",\\n     \"output_type\": \"stream\",\\n     \"text\": [\\n      \"I used to print all arguments.\\\\n\"\\n     ]\\n    }\\n   ],\\n   \"source\": [\\n    \"print(last_func.__doc__)\"\\n   ]\\n  },\\n  {\\n   \"cell_type\": \"code\",\\n   \"execution_count\": 3,\\n   \"metadata\": {},\\n   \"outputs\": [\\n    {\\n     \"name\": \"stdout\",\\n     \"output_type\": \"stream\",\\n     \"text\": [\\n      \"Positional Argument is  sachin\\\\n\",\\n      \"Keyword / Default Argument is  10\\\\n\",\\n      \"Here are your multiple Arguments as Tuple\\\\n\",\\n      \"Here are your arguments as Dictionary\\\\n\",\\n      \"\\\\n\",\\n      \"Thanks for using this function\\\\n\"\\n     ]\\n    }\\n   ],\\n   \"source\": [\\n    \"last_func(\\'sachin\\')\"\\n   ]\\n  },\\n  {\\n   \"cell_type\": \"code\",\\n   \"execution_count\": 4,\\n   \"metadata\": {},\\n   \"outputs\": [\\n    {\\n     \"name\": \"stdout\",\\n     \"output_type\": \"stream\",\\n     \"text\": [\\n      \"Positional Argument is  sachin\\\\n\",\\n      \"Keyword / Default Argument is  python\\\\n\",\\n      \"Here are your multiple Arguments as Tuple\\\\n\",\\n      \"Here are your arguments as Dictionary\\\\n\",\\n      \"\\\\n\",\\n      \"Thanks for using this function\\\\n\"\\n     ]\\n    }\\n   ],\\n   \"source\": [\\n    \"last_func(\\'sachin\\',\\'python\\')\"\\n   ]\\n  },\\n  {\\n   \"cell_type\": \"code\",\\n   \"execution_count\": 8,\\n   \"metadata\": {},\\n   \"outputs\": [\\n    {\\n     \"name\": \"stdout\",\\n     \"output_type\": \"stream\",\\n     \"text\": [\\n      \"Positional Argument is  sachin\\\\n\",\\n      \"Keyword / Default Argument is  python\\\\n\",\\n      \"Here are your multiple Arguments as Tuple\\\\n\",\\n      \"Args[1] : 12\\\\n\",\\n      \"Args[2] : 3\\\\n\",\\n      \"Args[3] : 4\\\\n\",\\n      \"Args[4] : 6\\\\n\",\\n      \"Args[5] : 7\\\\n\",\\n      \"Args[6] : 54\\\\n\",\\n      \"Args[7] : 3\\\\n\",\\n      \"Args[8] : 4\\\\n\",\\n      \"Args[9] : 56\\\\n\",\\n      \"Args[10] : 67\\\\n\",\\n      \"Here are your arguments as Dictionary\\\\n\",\\n      \"\\\\n\",\\n      \"Thanks for using this function\\\\n\"\\n     ]\\n    }\\n   ],\\n   \"source\": [\\n    \"l = [ 12,3,4,6,7,54,3,4,56,67 ]\\\\n\",\\n    \"last_func(\\'sachin\\',\\'python\\',*l)\"\\n   ]\\n  },\\n  {\\n   \"cell_type\": \"code\",\\n   \"execution_count\": 9,\\n   \"metadata\": {},\\n   \"outputs\": [\\n    {\\n     \"name\": \"stdout\",\\n     \"output_type\": \"stream\",\\n     \"text\": [\\n      \"Positional Argument is  hi\\\\n\",\\n      \"Keyword / Default Argument is  hello\\\\n\",\\n      \"Here are your multiple Arguments as Tuple\\\\n\",\\n      \"Args[1] : bye\\\\n\",\\n      \"Args[2] : challo\\\\n\",\\n      \"Args[3] : good\\\\n\",\\n      \"Here are your arguments as Dictionary\\\\n\",\\n      \"name=sachin\\\\n\",\\n      \"subject=python\\\\n\",\\n      \"batch=evening batch\\\\n\",\\n      \"\\\\n\",\\n      \"Thanks for using this function\\\\n\"\\n     ]\\n    }\\n   ],\\n   \"source\": [\\n    \"last_func(\\'hi\\',\\'hello\\',\\'bye\\',\\'challo\\',\\'good\\',name=\\'sachin\\',subject=\\'python\\',batch=\\'evening batch\\')\"\\n   ]\\n  },\\n  {\\n   \"cell_type\": \"code\",\\n   \"execution_count\": 10,\\n   \"metadata\": {\\n    \"collapsed\": true\\n   },\\n   \"outputs\": [],\\n   \"source\": [\\n    \"del last_func\"\\n   ]\\n  },\\n  {\\n   \"cell_type\": \"code\",\\n   \"execution_count\": 11,\\n   \"metadata\": {},\\n   \"outputs\": [\\n    {\\n     \"ename\": \"NameError\",\\n     \"evalue\": \"name \\'last_func\\' is not defined\",\\n     \"output_type\": \"error\",\\n     \"traceback\": [\\n      \"\\\\u001b[1;31m---------------------------------------------------------------------------\\\\u001b[0m\",\\n      \"\\\\u001b[1;31mNameError\\\\u001b[0m                                 Traceback (most recent call last)\",\\n      \"\\\\u001b[1;32m<ipython-input-11-fd8597fe5fed>\\\\u001b[0m in \\\\u001b[0;36m<module>\\\\u001b[1;34m()\\\\u001b[0m\\\\n\\\\u001b[1;32m----> 1\\\\u001b[1;33m \\\\u001b[0mlast_func\\\\u001b[0m\\\\u001b[1;33m\\\\u001b[0m\\\\u001b[0m\\\\n\\\\u001b[0m\",\\n      \"\\\\u001b[1;31mNameError\\\\u001b[0m: name \\'last_func\\' is not defined\"\\n     ]\\n    }\\n   ],\\n   \"source\": [\\n    \"last_func\"\\n   ]\\n  },\\n  {\\n   \"cell_type\": \"code\",\\n   \"execution_count\": 12,\\n   \"metadata\": {\\n    \"collapsed\": true\\n   },\\n   \"outputs\": [],\\n   \"source\": [\\n    \"x = 5\"\\n   ]\\n  },\\n  {\\n   \"cell_type\": \"code\",\\n   \"execution_count\": 13,\\n   \"metadata\": {},\\n   \"outputs\": [\\n    {\\n     \"data\": {\\n      \"text/plain\": [\\n       \"5\"\\n      ]\\n     },\\n     \"execution_count\": 13,\\n     \"metadata\": {},\\n     \"output_type\": \"execute_result\"\\n    }\\n   ],\\n   \"source\": [\\n    \"x\"\\n   ]\\n  },\\n  {\\n   \"cell_type\": \"code\",\\n   \"execution_count\": 14,\\n   \"metadata\": {\\n    \"collapsed\": true\\n   },\\n   \"outputs\": [],\\n   \"source\": [\\n    \"x = x + 5\"\\n   ]\\n  },\\n  {\\n   \"cell_type\": \"code\",\\n   \"execution_count\": 15,\\n   \"metadata\": {},\\n   \"outputs\": [\\n    {\\n     \"data\": {\\n      \"text/plain\": [\\n       \"10\"\\n      ]\\n     },\\n     \"execution_count\": 15,\\n     \"metadata\": {},\\n     \"output_type\": \"execute_result\"\\n    }\\n   ],\\n   \"source\": [\\n    \"x\"\\n   ]\\n  },\\n  {\\n   \"cell_type\": \"code\",\\n   \"execution_count\": 19,\\n   \"metadata\": {\\n    \"collapsed\": true\\n   },\\n   \"outputs\": [],\\n   \"source\": [\\n    \"def fun():\\\\n\",\\n    \"    y = 5\\\\n\",\\n    \"    print(y)\"\\n   ]\\n  },\\n  {\\n   \"cell_type\": \"code\",\\n   \"execution_count\": 21,\\n   \"metadata\": {},\\n   \"outputs\": [\\n    {\\n     \"name\": \"stdout\",\\n     \"output_type\": \"stream\",\\n     \"text\": [\\n      \"5\\\\n\"\\n     ]\\n    }\\n   ],\\n   \"source\": [\\n    \"fun()\\\\n\"\\n   ]\\n  },\\n  {\\n   \"cell_type\": \"code\",\\n   \"execution_count\": 22,\\n   \"metadata\": {},\\n   \"outputs\": [\\n    {\\n     \"ename\": \"NameError\",\\n     \"evalue\": \"name \\'y\\' is not defined\",\\n     \"output_type\": \"error\",\\n     \"traceback\": [\\n      \"\\\\u001b[1;31m---------------------------------------------------------------------------\\\\u001b[0m\",\\n      \"\\\\u001b[1;31mNameError\\\\u001b[0m                                 Traceback (most recent call last)\",\\n      \"\\\\u001b[1;32m<ipython-input-22-009520053b00>\\\\u001b[0m in \\\\u001b[0;36m<module>\\\\u001b[1;34m()\\\\u001b[0m\\\\n\\\\u001b[1;32m----> 1\\\\u001b[1;33m \\\\u001b[0my\\\\u001b[0m\\\\u001b[1;33m\\\\u001b[0m\\\\u001b[0m\\\\n\\\\u001b[0m\",\\n      \"\\\\u001b[1;31mNameError\\\\u001b[0m: name \\'y\\' is not defined\"\\n     ]\\n    }\\n   ],\\n   \"source\": [\\n    \"y\"\\n   ]\\n  },\\n  {\\n   \"cell_type\": \"code\",\\n   \"execution_count\": 23,\\n   \"metadata\": {\\n    \"collapsed\": true\\n   },\\n   \"outputs\": [],\\n   \"source\": [\\n    \"def fun():\\\\n\",\\n    \"    x = x + 5\\\\n\",\\n    \"    print(x)\"\\n   ]\\n  },\\n  {\\n   \"cell_type\": \"code\",\\n   \"execution_count\": 24,\\n   \"metadata\": {},\\n   \"outputs\": [\\n    {\\n     \"data\": {\\n      \"text/plain\": [\\n       \"10\"\\n      ]\\n     },\\n     \"execution_count\": 24,\\n     \"metadata\": {},\\n     \"output_type\": \"execute_result\"\\n    }\\n   ],\\n   \"source\": [\\n    \"x\"\\n   ]\\n  },\\n  {\\n   \"cell_type\": \"code\",\\n   \"execution_count\": 25,\\n   \"metadata\": {},\\n   \"outputs\": [\\n    {\\n     \"ename\": \"UnboundLocalError\",\\n     \"evalue\": \"local variable \\'x\\' referenced before assignment\",\\n     \"output_type\": \"error\",\\n     \"traceback\": [\\n      \"\\\\u001b[1;31m---------------------------------------------------------------------------\\\\u001b[0m\",\\n      \"\\\\u001b[1;31mUnboundLocalError\\\\u001b[0m                         Traceback (most recent call last)\",\\n      \"\\\\u001b[1;32m<ipython-input-25-69e6a439c52d>\\\\u001b[0m in \\\\u001b[0;36m<module>\\\\u001b[1;34m()\\\\u001b[0m\\\\n\\\\u001b[1;32m----> 1\\\\u001b[1;33m \\\\u001b[0mfun\\\\u001b[0m\\\\u001b[1;33m(\\\\u001b[0m\\\\u001b[1;33m)\\\\u001b[0m\\\\u001b[1;33m\\\\u001b[0m\\\\u001b[0m\\\\n\\\\u001b[0m\",\\n      \"\\\\u001b[1;32m<ipython-input-23-48b87d0a0428>\\\\u001b[0m in \\\\u001b[0;36mfun\\\\u001b[1;34m()\\\\u001b[0m\\\\n\\\\u001b[0;32m      1\\\\u001b[0m \\\\u001b[1;32mdef\\\\u001b[0m \\\\u001b[0mfun\\\\u001b[0m\\\\u001b[1;33m(\\\\u001b[0m\\\\u001b[1;33m)\\\\u001b[0m\\\\u001b[1;33m:\\\\u001b[0m\\\\u001b[1;33m\\\\u001b[0m\\\\u001b[0m\\\\n\\\\u001b[1;32m----> 2\\\\u001b[1;33m     \\\\u001b[0mx\\\\u001b[0m \\\\u001b[1;33m=\\\\u001b[0m \\\\u001b[0mx\\\\u001b[0m \\\\u001b[1;33m+\\\\u001b[0m \\\\u001b[1;36m5\\\\u001b[0m\\\\u001b[1;33m\\\\u001b[0m\\\\u001b[0m\\\\n\\\\u001b[0m\\\\u001b[0;32m      3\\\\u001b[0m     \\\\u001b[0mprint\\\\u001b[0m\\\\u001b[1;33m(\\\\u001b[0m\\\\u001b[0mx\\\\u001b[0m\\\\u001b[1;33m)\\\\u001b[0m\\\\u001b[1;33m\\\\u001b[0m\\\\u001b[0m\\\\n\",\\n      \"\\\\u001b[1;31mUnboundLocalError\\\\u001b[0m: local variable \\'x\\' referenced before assignment\"\\n     ]\\n    }\\n   ],\\n   \"source\": [\\n    \"fun()\"\\n   ]\\n  },\\n  {\\n   \"cell_type\": \"code\",\\n   \"execution_count\": 26,\\n   \"metadata\": {},\\n   \"outputs\": [\\n    {\\n     \"data\": {\\n      \"text/plain\": [\\n       \"10\"\\n      ]\\n     },\\n     \"execution_count\": 26,\\n     \"metadata\": {},\\n     \"output_type\": \"execute_result\"\\n    }\\n   ],\\n   \"source\": [\\n    \"x\"\\n   ]\\n  },\\n  {\\n   \"cell_type\": \"code\",\\n   \"execution_count\": 27,\\n   \"metadata\": {},\\n   \"outputs\": [\\n    {\\n     \"name\": \"stdout\",\\n     \"output_type\": \"stream\",\\n     \"text\": [\\n      \"10\\\\n\",\\n      \"25\\\\n\",\\n      \"10\\\\n\"\\n     ]\\n    }\\n   ],\\n   \"source\": [\\n    \"def fun():\\\\n\",\\n    \"    x = 5\\\\n\",\\n    \"    x = x ** 2\\\\n\",\\n    \"    print(x)\\\\n\",\\n    \"print(x)\\\\n\",\\n    \"fun()\\\\n\",\\n    \"print(x)\"\\n   ]\\n  },\\n  {\\n   \"cell_type\": \"code\",\\n   \"execution_count\": 29,\\n   \"metadata\": {},\\n   \"outputs\": [\\n    {\\n     \"data\": {\\n      \"text/plain\": [\\n       \"5\"\\n      ]\\n     },\\n     \"execution_count\": 29,\\n     \"metadata\": {},\\n     \"output_type\": \"execute_result\"\\n    }\\n   ],\\n   \"source\": [\\n    \"x = 5\\\\n\",\\n    \"x\"\\n   ]\\n  },\\n  {\\n   \"cell_type\": \"code\",\\n   \"execution_count\": 30,\\n   \"metadata\": {},\\n   \"outputs\": [\\n    {\\n     \"name\": \"stdout\",\\n     \"output_type\": \"stream\",\\n     \"text\": [\\n      \"5\\\\n\",\\n      \"25\\\\n\",\\n      \"25\\\\n\"\\n     ]\\n    }\\n   ],\\n   \"source\": [\\n    \"def fun():\\\\n\",\\n    \"    global x\\\\n\",\\n    \"    x = x ** 2\\\\n\",\\n    \"    print(x)\\\\n\",\\n    \"print(x)\\\\n\",\\n    \"fun()\\\\n\",\\n    \"print(x)\"\\n   ]\\n  },\\n  {\\n   \"cell_type\": \"code\",\\n   \"execution_count\": 31,\\n   \"metadata\": {\\n    \"collapsed\": true\\n   },\\n   \"outputs\": [],\\n   \"source\": [\\n    \"msg = \\\\\"Hi I am global messsage\\\\\"\"\\n   ]\\n  },\\n  {\\n   \"cell_type\": \"code\",\\n   \"execution_count\": 32,\\n   \"metadata\": {},\\n   \"outputs\": [\\n    {\\n     \"data\": {\\n      \"text/plain\": [\\n       \"\\'Hi I am global messsage\\'\"\\n      ]\\n     },\\n     \"execution_count\": 32,\\n     \"metadata\": {},\\n     \"output_type\": \"execute_result\"\\n    }\\n   ],\\n   \"source\": [\\n    \"msg\"\\n   ]\\n  },\\n  {\\n   \"cell_type\": \"code\",\\n   \"execution_count\": 33,\\n   \"metadata\": {\\n    \"collapsed\": true\\n   },\\n   \"outputs\": [],\\n   \"source\": [\\n    \"def fun1():\\\\n\",\\n    \"    print(\\\\\"Global Message : \\\\\",msg)\\\\n\",\\n    \"    \"\\n   ]\\n  },\\n  {\\n   \"cell_type\": \"code\",\\n   \"execution_count\": 35,\\n   \"metadata\": {\\n    \"collapsed\": true\\n   },\\n   \"outputs\": [],\\n   \"source\": [\\n    \"def fun2():\\\\n\",\\n    \"    global msg\\\\n\",\\n    \"    print(\\\\\"Previous msg : \\\\\",msg)\\\\n\",\\n    \"    msg = input(\\\\\"New msg : \\\\\")\"\\n   ]\\n  },\\n  {\\n   \"cell_type\": \"code\",\\n   \"execution_count\": 36,\\n   \"metadata\": {},\\n   \"outputs\": [\\n    {\\n     \"name\": \"stdout\",\\n     \"output_type\": \"stream\",\\n     \"text\": [\\n      \"Global Message :  Hi I am global messsage\\\\n\"\\n     ]\\n    }\\n   ],\\n   \"source\": [\\n    \"fun1()\"\\n   ]\\n  },\\n  {\\n   \"cell_type\": \"code\",\\n   \"execution_count\": 37,\\n   \"metadata\": {},\\n   \"outputs\": [\\n    {\\n     \"name\": \"stdout\",\\n     \"output_type\": \"stream\",\\n     \"text\": [\\n      \"Previous msg :  Hi I am global messsage\\\\n\",\\n      \"New msg : hi i am your boss i will update you regurarly\\\\n\"\\n     ]\\n    }\\n   ],\\n   \"source\": [\\n    \"fun2()\"\\n   ]\\n  },\\n  {\\n   \"cell_type\": \"code\",\\n   \"execution_count\": 38,\\n   \"metadata\": {},\\n   \"outputs\": [\\n    {\\n     \"name\": \"stdout\",\\n     \"output_type\": \"stream\",\\n     \"text\": [\\n      \"Global Message :  hi i am your boss i will update you regurarly\\\\n\"\\n     ]\\n    }\\n   ],\\n   \"source\": [\\n    \"fun1()\"\\n   ]\\n  },\\n  {\\n   \"cell_type\": \"code\",\\n   \"execution_count\": 39,\\n   \"metadata\": {\\n    \"collapsed\": true\\n   },\\n   \"outputs\": [],\\n   \"source\": [\\n    \"def hello():\\\\n\",\\n    \"    print(\\\\\"Hello World\\\\\")\\\\n\",\\n    \"    if input(\\\\\"Press a key to continue\\\\\") :\\\\n\",\\n    \"        hello()\"\\n   ]\\n  },\\n  {\\n   \"cell_type\": \"code\",\\n   \"execution_count\": 40,\\n   \"metadata\": {},\\n   \"outputs\": [\\n    {\\n     \"name\": \"stdout\",\\n     \"output_type\": \"stream\",\\n     \"text\": [\\n      \"Hello World\\\\n\",\\n      \"Press a key to continuek\\\\n\",\\n      \"Hello World\\\\n\",\\n      \"Press a key to continuek\\\\n\",\\n      \"Hello World\\\\n\",\\n      \"Press a key to continuek\\\\n\",\\n      \"Hello World\\\\n\",\\n      \"Press a key to continuek\\\\n\",\\n      \"Hello World\\\\n\",\\n      \"Press a key to continuej\\\\n\",\\n      \"Hello World\\\\n\",\\n      \"Press a key to continuej\\\\n\",\\n      \"Hello World\\\\n\",\\n      \"Press a key to continuejj\\\\n\",\\n      \"Hello World\\\\n\",\\n      \"Press a key to continue\\\\n\"\\n     ]\\n    }\\n   ],\\n   \"source\": [\\n    \"hello()\"\\n   ]\\n  },\\n  {\\n   \"cell_type\": \"code\",\\n   \"execution_count\": 41,\\n   \"metadata\": {\\n    \"collapsed\": true\\n   },\\n   \"outputs\": [],\\n   \"source\": [\\n    \"def fact(num):\\\\n\",\\n    \"    if num == 1 :\\\\n\",\\n    \"        return 1\\\\n\",\\n    \"    return num*fact(num-1)\"\\n   ]\\n  },\\n  {\\n   \"cell_type\": \"code\",\\n   \"execution_count\": 42,\\n   \"metadata\": {},\\n   \"outputs\": [\\n    {\\n     \"data\": {\\n      \"text/plain\": [\\n       \"120\"\\n      ]\\n     },\\n     \"execution_count\": 42,\\n     \"metadata\": {},\\n     \"output_type\": \"execute_result\"\\n    }\\n   ],\\n   \"source\": [\\n    \"fact(5)\"\\n   ]\\n  },\\n  {\\n   \"cell_type\": \"code\",\\n   \"execution_count\": 44,\\n   \"metadata\": {\\n    \"collapsed\": true\\n   },\\n   \"outputs\": [],\\n   \"source\": [\\n    \"from math import sqrt\\\\n\",\\n    \"def prime(num,c=2):\\\\n\",\\n    \"    if c <= round(sqrt(num)) :\\\\n\",\\n    \"        if num % c == 0 :\\\\n\",\\n    \"            return False\\\\n\",\\n    \"    else :\\\\n\",\\n    \"        return True\\\\n\",\\n    \"    return prime(num,c+1)\"\\n   ]\\n  },\\n  {\\n   \"cell_type\": \"code\",\\n   \"execution_count\": 45,\\n   \"metadata\": {},\\n   \"outputs\": [\\n    {\\n     \"data\": {\\n      \"text/plain\": [\\n       \"False\"\\n      ]\\n     },\\n     \"execution_count\": 45,\\n     \"metadata\": {},\\n     \"output_type\": \"execute_result\"\\n    }\\n   ],\\n   \"source\": [\\n    \"prime(121)\"\\n   ]\\n  },\\n  {\\n   \"cell_type\": \"code\",\\n   \"execution_count\": 47,\\n   \"metadata\": {\\n    \"collapsed\": true\\n   },\\n   \"outputs\": [],\\n   \"source\": [\\n    \"def nprime(num,c=2):\\\\n\",\\n    \"    if  num % c == 0 :\\\\n\",\\n    \"        return False\\\\n\",\\n    \"    if c <= round(sqrt(num)) :\\\\n\",\\n    \"        return nprime(num,c+1)\\\\n\",\\n    \"    return True\"\\n   ]\\n  },\\n  {\\n   \"cell_type\": \"code\",\\n   \"execution_count\": 49,\\n   \"metadata\": {},\\n   \"outputs\": [\\n    {\\n     \"data\": {\\n      \"text/plain\": [\\n       \"True\"\\n      ]\\n     },\\n     \"execution_count\": 49,\\n     \"metadata\": {},\\n     \"output_type\": \"execute_result\"\\n    }\\n   ],\\n   \"source\": [\\n    \"nprime(127)\"\\n   ]\\n  },\\n  {\\n   \"cell_type\": \"code\",\\n   \"execution_count\": 54,\\n   \"metadata\": {\\n    \"collapsed\": true\\n   },\\n   \"outputs\": [],\\n   \"source\": [\\n    \"p = lambda x,p: x**p\"\\n   ]\\n  },\\n  {\\n   \"cell_type\": \"code\",\\n   \"execution_count\": 55,\\n   \"metadata\": {},\\n   \"outputs\": [\\n    {\\n     \"data\": {\\n      \"text/plain\": [\\n       \"125\"\\n      ]\\n     },\\n     \"execution_count\": 55,\\n     \"metadata\": {},\\n     \"output_type\": \"execute_result\"\\n    }\\n   ],\\n   \"source\": [\\n    \"p(5,3)\"\\n   ]\\n  },\\n  {\\n   \"cell_type\": \"code\",\\n   \"execution_count\": 56,\\n   \"metadata\": {},\\n   \"outputs\": [\\n    {\\n     \"data\": {\\n      \"text/plain\": [\\n       \"343\"\\n      ]\\n     },\\n     \"execution_count\": 56,\\n     \"metadata\": {},\\n     \"output_type\": \"execute_result\"\\n    }\\n   ],\\n   \"source\": [\\n    \"p(7,3)\"\\n   ]\\n  },\\n  {\\n   \"cell_type\": \"code\",\\n   \"execution_count\": 59,\\n   \"metadata\": {\\n    \"collapsed\": true\\n   },\\n   \"outputs\": [],\\n   \"source\": [\\n    \"even_odd = lambda x : False if x % 2 else True\"\\n   ]\\n  },\\n  {\\n   \"cell_type\": \"code\",\\n   \"execution_count\": 60,\\n   \"metadata\": {},\\n   \"outputs\": [\\n    {\\n     \"data\": {\\n      \"text/plain\": [\\n       \"False\"\\n      ]\\n     },\\n     \"execution_count\": 60,\\n     \"metadata\": {},\\n     \"output_type\": \"execute_result\"\\n    }\\n   ],\\n   \"source\": [\\n    \"even_odd(3)\"\\n   ]\\n  },\\n  {\\n   \"cell_type\": \"code\",\\n   \"execution_count\": 61,\\n   \"metadata\": {},\\n   \"outputs\": [\\n    {\\n     \"data\": {\\n      \"text/plain\": [\\n       \"True\"\\n      ]\\n     },\\n     \"execution_count\": 61,\\n     \"metadata\": {},\\n     \"output_type\": \"execute_result\"\\n    }\\n   ],\\n   \"source\": [\\n    \"even_odd(146)\"\\n   ]\\n  },\\n  {\\n   \"cell_type\": \"code\",\\n   \"execution_count\": 62,\\n   \"metadata\": {\\n    \"collapsed\": true\\n   },\\n   \"outputs\": [],\\n   \"source\": [\\n    \"fact = lambda x: 1 if x == 1 else x*fact(x-1)\"\\n   ]\\n  },\\n  {\\n   \"cell_type\": \"code\",\\n   \"execution_count\": 63,\\n   \"metadata\": {},\\n   \"outputs\": [\\n    {\\n     \"data\": {\\n      \"text/plain\": [\\n       \"120\"\\n      ]\\n     },\\n     \"execution_count\": 63,\\n     \"metadata\": {},\\n     \"output_type\": \"execute_result\"\\n    }\\n   ],\\n   \"source\": [\\n    \"fact(5)\"\\n   ]\\n  },\\n  {\\n   \"cell_type\": \"code\",\\n   \"execution_count\": 64,\\n   \"metadata\": {},\\n   \"outputs\": [\\n    {\\n     \"data\": {\\n      \"text/plain\": [\\n       \"479001600\"\\n      ]\\n     },\\n     \"execution_count\": 64,\\n     \"metadata\": {},\\n     \"output_type\": \"execute_result\"\\n    }\\n   ],\\n   \"source\": [\\n    \"fact(12)\"\\n   ]\\n  },\\n  {\\n   \"cell_type\": \"code\",\\n   \"execution_count\": 65,\\n   \"metadata\": {\\n    \"collapsed\": true\\n   },\\n   \"outputs\": [],\\n   \"source\": [\\n    \"def fx(x,y):\\\\n\",\\n    \"    return x*y\"\\n   ]\\n  },\\n  {\\n   \"cell_type\": \"code\",\\n   \"execution_count\": 66,\\n   \"metadata\": {\\n    \"collapsed\": true\\n   },\\n   \"outputs\": [],\\n   \"source\": [\\n    \"x = [ 5.5,4.5,5.10,6,6.2,4.8,5.2,]\\\\n\",\\n    \"f = [ 10,15,20,3,5,25,30 ]\\\\n\"\\n   ]\\n  },\\n  {\\n   \"cell_type\": \"code\",\\n   \"execution_count\": 69,\\n   \"metadata\": {\\n    \"collapsed\": true\\n   },\\n   \"outputs\": [],\\n   \"source\": [\\n    \"r = map(lambda x,y:x*y,x,f)\"\\n   ]\\n  },\\n  {\\n   \"cell_type\": \"code\",\\n   \"execution_count\": 70,\\n   \"metadata\": {},\\n   \"outputs\": [\\n    {\\n     \"name\": \"stdout\",\\n     \"output_type\": \"stream\",\\n     \"text\": [\\n      \"5.087962962962963\\\\n\"\\n     ]\\n    }\\n   ],\\n   \"source\": [\\n    \"s_fx = sum(r)\\\\n\",\\n    \"s_f = sum(f)\\\\n\",\\n    \"mean = s_fx / s_f\\\\n\",\\n    \"print(mean)\"\\n   ]\\n  },\\n  {\\n   \"cell_type\": \"code\",\\n   \"execution_count\": 71,\\n   \"metadata\": {\\n    \"collapsed\": true\\n   },\\n   \"outputs\": [],\\n   \"source\": [\\n    \"import numpy as np\\\\n\"\\n   ]\\n  },\\n  {\\n   \"cell_type\": \"code\",\\n   \"execution_count\": 72,\\n   \"metadata\": {\\n    \"collapsed\": true\\n   },\\n   \"outputs\": [],\\n   \"source\": [\\n    \"x = np.random.randint(45,85,50)\"\\n   ]\\n  },\\n  {\\n   \"cell_type\": \"code\",\\n   \"execution_count\": 73,\\n   \"metadata\": {},\\n   \"outputs\": [\\n    {\\n     \"data\": {\\n      \"text/plain\": [\\n       \"array([62, 82, 64, 54, 50, 68, 51, 72, 62, 75, 69, 84, 46, 82, 73, 59, 82,\\\\n\",\\n       \"       58, 79, 50, 82, 56, 65, 45, 73, 66, 61, 49, 47, 62, 56, 53, 61, 79,\\\\n\",\\n       \"       67, 71, 56, 49, 49, 60, 75, 55, 49, 54, 75, 70, 67, 80, 55, 84])\"\\n      ]\\n     },\\n     \"execution_count\": 73,\\n     \"metadata\": {},\\n     \"output_type\": \"execute_result\"\\n    }\\n   ],\\n   \"source\": [\\n    \"x\"\\n   ]\\n  },\\n  {\\n   \"cell_type\": \"code\",\\n   \"execution_count\": 76,\\n   \"metadata\": {\\n    \"collapsed\": true\\n   },\\n   \"outputs\": [],\\n   \"source\": [\\n    \"r = list(map(lambda x:True if x % 2 == 0 else False,x))\"\\n   ]\\n  },\\n  {\\n   \"cell_type\": \"code\",\\n   \"execution_count\": 77,\\n   \"metadata\": {},\\n   \"outputs\": [\\n    {\\n     \"data\": {\\n      \"text/plain\": [\\n       \"array([62, 82, 64, 54, 50, 68, 51, 72, 62, 75, 69, 84, 46, 82, 73, 59, 82,\\\\n\",\\n       \"       58, 79, 50, 82, 56, 65, 45, 73, 66, 61, 49, 47, 62, 56, 53, 61, 79,\\\\n\",\\n       \"       67, 71, 56, 49, 49, 60, 75, 55, 49, 54, 75, 70, 67, 80, 55, 84])\"\\n      ]\\n     },\\n     \"execution_count\": 77,\\n     \"metadata\": {},\\n     \"output_type\": \"execute_result\"\\n    }\\n   ],\\n   \"source\": [\\n    \"x\"\\n   ]\\n  },\\n  {\\n   \"cell_type\": \"code\",\\n   \"execution_count\": 79,\\n   \"metadata\": {},\\n   \"outputs\": [\\n    {\\n     \"name\": \"stdout\",\\n     \"output_type\": \"stream\",\\n     \"text\": [\\n      \"[True, True, True, True, True, True, False, True, True, False, False, True, True, True, False, False, True, True, False, True, True, True, False, False, False, True, False, False, False, True, True, False, False, False, False, False, True, False, False, True, False, False, False, True, False, True, False, True, False, True]\\\\n\"\\n     ]\\n    }\\n   ],\\n   \"source\": [\\n    \"print(r)\"\\n   ]\\n  },\\n  {\\n   \"cell_type\": \"code\",\\n   \"execution_count\": 80,\\n   \"metadata\": {\\n    \"collapsed\": true\\n   },\\n   \"outputs\": [],\\n   \"source\": [\\n    \"r = list(filter(lambda x:True if x % 2 == 0 else False,x))\"\\n   ]\\n  },\\n  {\\n   \"cell_type\": \"code\",\\n   \"execution_count\": 82,\\n   \"metadata\": {},\\n   \"outputs\": [\\n    {\\n     \"data\": {\\n      \"text/plain\": [\\n       \"array([62, 82, 64, 54, 50, 68, 51, 72, 62, 75, 69, 84, 46, 82, 73, 59, 82,\\\\n\",\\n       \"       58, 79, 50, 82, 56, 65, 45, 73, 66, 61, 49, 47, 62, 56, 53, 61, 79,\\\\n\",\\n       \"       67, 71, 56, 49, 49, 60, 75, 55, 49, 54, 75, 70, 67, 80, 55, 84])\"\\n      ]\\n     },\\n     \"execution_count\": 82,\\n     \"metadata\": {},\\n     \"output_type\": \"execute_result\"\\n    }\\n   ],\\n   \"source\": [\\n    \"x\"\\n   ]\\n  },\\n  {\\n   \"cell_type\": \"code\",\\n   \"execution_count\": 83,\\n   \"metadata\": {},\\n   \"outputs\": [\\n    {\\n     \"name\": \"stdout\",\\n     \"output_type\": \"stream\",\\n     \"text\": [\\n      \"[62, 82, 64, 54, 50, 68, 72, 62, 84, 46, 82, 82, 58, 50, 82, 56, 66, 62, 56, 56, 60, 54, 70, 80, 84]\\\\n\"\\n     ]\\n    }\\n   ],\\n   \"source\": [\\n    \"print(r)\"\\n   ]\\n  },\\n  {\\n   \"cell_type\": \"code\",\\n   \"execution_count\": 95,\\n   \"metadata\": {\\n    \"collapsed\": true\\n   },\\n   \"outputs\": [],\\n   \"source\": [\\n    \"r = list(filter(prime,x))\"\\n   ]\\n  },\\n  {\\n   \"cell_type\": \"code\",\\n   \"execution_count\": 89,\\n   \"metadata\": {},\\n   \"outputs\": [\\n    {\\n     \"data\": {\\n      \"text/plain\": [\\n       \"array([62, 82, 64, 54, 50, 68, 51, 72, 62, 75, 69, 84, 46, 82, 73, 59, 82,\\\\n\",\\n       \"       58, 79, 50, 82, 56, 65, 45, 73, 66, 61, 49, 47, 62, 56, 53, 61, 79,\\\\n\",\\n       \"       67, 71, 56, 49, 49, 60, 75, 55, 49, 54, 75, 70, 67, 80, 55, 84])\"\\n      ]\\n     },\\n     \"execution_count\": 89,\\n     \"metadata\": {},\\n     \"output_type\": \"execute_result\"\\n    }\\n   ],\\n   \"source\": [\\n    \"x\"\\n   ]\\n  },\\n  {\\n   \"cell_type\": \"code\",\\n   \"execution_count\": 90,\\n   \"metadata\": {},\\n   \"outputs\": [\\n    {\\n     \"name\": \"stdout\",\\n     \"output_type\": \"stream\",\\n     \"text\": [\\n      \"[73, 59, 79, 73, 61, 47, 53, 61, 79, 67, 71, 67]\\\\n\"\\n     ]\\n    }\\n   ],\\n   \"source\": [\\n    \"print(r)\"\\n   ]\\n  },\\n  {\\n   \"cell_type\": \"code\",\\n   \"execution_count\": 91,\\n   \"metadata\": {\\n    \"collapsed\": true\\n   },\\n   \"outputs\": [],\\n   \"source\": [\\n    \"from functools import reduce\"\\n   ]\\n  },\\n  {\\n   \"cell_type\": \"code\",\\n   \"execution_count\": 92,\\n   \"metadata\": {\\n    \"collapsed\": true\\n   },\\n   \"outputs\": [],\\n   \"source\": [\\n    \"r = reduce(lambda x,y: x + y ,filter(prime,x))\"\\n   ]\\n  },\\n  {\\n   \"cell_type\": \"code\",\\n   \"execution_count\": 93,\\n   \"metadata\": {},\\n   \"outputs\": [\\n    {\\n     \"data\": {\\n      \"text/plain\": [\\n       \"790\"\\n      ]\\n     },\\n     \"execution_count\": 93,\\n     \"metadata\": {},\\n     \"output_type\": \"execute_result\"\\n    }\\n   ],\\n   \"source\": [\\n    \"r\"\\n   ]\\n  },\\n  {\\n   \"cell_type\": \"code\",\\n   \"execution_count\": 94,\\n   \"metadata\": {},\\n   \"outputs\": [\\n    {\\n     \"data\": {\\n      \"text/plain\": [\\n       \"3193\"\\n      ]\\n     },\\n     \"execution_count\": 94,\\n     \"metadata\": {},\\n     \"output_type\": \"execute_result\"\\n    }\\n   ],\\n   \"source\": [\\n    \"sum(x)\"\\n   ]\\n  },\\n  {\\n   \"cell_type\": \"code\",\\n   \"execution_count\": 96,\\n   \"metadata\": {},\\n   \"outputs\": [\\n    {\\n     \"data\": {\\n      \"text/plain\": [\\n       \"790\"\\n      ]\\n     },\\n     \"execution_count\": 96,\\n     \"metadata\": {},\\n     \"output_type\": \"execute_result\"\\n    }\\n   ],\\n   \"source\": [\\n    \"sum(r)\"\\n   ]\\n  },\\n  {\\n   \"cell_type\": \"code\",\\n   \"execution_count\": 1,\\n   \"metadata\": {\\n    \"collapsed\": true\\n   },\\n   \"outputs\": [],\\n   \"source\": [\\n    \"def fun(*args):\\\\n\",\\n    \"    print(args)\"\\n   ]\\n  },\\n  {\\n   \"cell_type\": \"code\",\\n   \"execution_count\": 2,\\n   \"metadata\": {},\\n   \"outputs\": [\\n    {\\n     \"name\": \"stdout\",\\n     \"output_type\": \"stream\",\\n     \"text\": [\\n      \"()\\\\n\",\\n      \"\\\\n\",\\n      \"(1,)\\\\n\",\\n      \"\\\\n\",\\n      \"(1, 2, 3, 4, \\'helllo\\', 46, 56434, 3, 24)\\\\n\"\\n     ]\\n    }\\n   ],\\n   \"source\": [\\n    \"fun()\\\\n\",\\n    \"print()\\\\n\",\\n    \"fun(1)\\\\n\",\\n    \"print()\\\\n\",\\n    \"fun(1,2,3,4,\\'helllo\\',46,56434,3,24)\"\\n   ]\\n  },\\n  {\\n   \"cell_type\": \"code\",\\n   \"execution_count\": 3,\\n   \"metadata\": {\\n    \"collapsed\": true\\n   },\\n   \"outputs\": [],\\n   \"source\": [\\n    \"def fun(**kwargs):\\\\n\",\\n    \"    print(kwargs)\\\\n\",\\n    \"    print()\"\\n   ]\\n  },\\n  {\\n   \"cell_type\": \"code\",\\n   \"execution_count\": 6,\\n   \"metadata\": {},\\n   \"outputs\": [\\n    {\\n     \"name\": \"stdout\",\\n     \"output_type\": \"stream\",\\n     \"text\": [\\n      \"{\\'x\\': 5, \\'name\\': \\'python\\'}\\\\n\",\\n      \"\\\\n\"\\n     ]\\n    }\\n   ],\\n   \"source\": [\\n    \"fun(x=5,name=\\'python\\')\"\\n   ]\\n  },\\n  {\\n   \"cell_type\": \"code\",\\n   \"execution_count\": 7,\\n   \"metadata\": {},\\n   \"outputs\": [\\n    {\\n     \"name\": \"stdout\",\\n     \"output_type\": \"stream\",\\n     \"text\": [\\n      \"{\\'name\\': \\'python\\', \\'version\\': 3.6, \\'framwork\\': [\\'Django\\', \\'Flask\\', \\'Web2py\\']}\\\\n\",\\n      \"\\\\n\"\\n     ]\\n    }\\n   ],\\n   \"source\": [\\n    \"fun(name=\\'python\\',version=3.6,framwork=[\\'Django\\',\\'Flask\\',\\'Web2py\\'])\"\\n   ]\\n  },\\n  {\\n   \"cell_type\": \"code\",\\n   \"execution_count\": 9,\\n   \"metadata\": {},\\n   \"outputs\": [],\\n   \"source\": [\\n    \"def fun(x,y=5,*args,**kwargs):\\\\n\",\\n    \"    print(\\\\\"Positional : \\\\\",x)\\\\n\",\\n    \"    print(\\\\\"Keyword / Default : \\\\\",y)\\\\n\",\\n    \"    print(\\\\\"Tuple Arguments : \\\\\",args)\\\\n\",\\n    \"    print(\\\\\"Dictionary Arguments : \\\\\",kwargs)\"\\n   ]\\n  },\\n  {\\n   \"cell_type\": \"code\",\\n   \"execution_count\": 10,\\n   \"metadata\": {},\\n   \"outputs\": [\\n    {\\n     \"name\": \"stdout\",\\n     \"output_type\": \"stream\",\\n     \"text\": [\\n      \"Positional :  hello\\\\n\",\\n      \"Keyword / Default :  5\\\\n\",\\n      \"Tuple Arguments :  ()\\\\n\",\\n      \"Dictionary Arguments :  {}\\\\n\"\\n     ]\\n    }\\n   ],\\n   \"source\": [\\n    \"fun(\\'hello\\')\"\\n   ]\\n  },\\n  {\\n   \"cell_type\": \"code\",\\n   \"execution_count\": 12,\\n   \"metadata\": {},\\n   \"outputs\": [\\n    {\\n     \"name\": \"stdout\",\\n     \"output_type\": \"stream\",\\n     \"text\": [\\n      \"Positional :  hello\\\\n\",\\n      \"Keyword / Default :  bye\\\\n\",\\n      \"Tuple Arguments :  (1, 2, 3, 45, 6)\\\\n\",\\n      \"Dictionary Arguments :  {\\'name\\': \\'something\\', \\'hello\\': \\'hey bhagwaan\\'}\\\\n\"\\n     ]\\n    }\\n   ],\\n   \"source\": [\\n    \"fun(\\'hello\\',\\'bye\\',1,2,3,45,6,name=\\'something\\',hello=\\'hey bhagwaan\\')\"\\n   ]\\n  },\\n  {\\n   \"cell_type\": \"code\",\\n   \"execution_count\": 13,\\n   \"metadata\": {\\n    \"collapsed\": true\\n   },\\n   \"outputs\": [],\\n   \"source\": [\\n    \"k = [ \\'1\\',\\'2\\',\\'3\\',\\'4\\',\\'5\\']\"\\n   ]\\n  },\\n  {\\n   \"cell_type\": \"code\",\\n   \"execution_count\": 14,\\n   \"metadata\": {\\n    \"collapsed\": true\\n   },\\n   \"outputs\": [],\\n   \"source\": [\\n    \"r = []\\\\n\",\\n    \"for value in k :\\\\n\",\\n    \"    x = int(value)\\\\n\",\\n    \"    r.append(x)\"\\n   ]\\n  },\\n  {\\n   \"cell_type\": \"code\",\\n   \"execution_count\": 15,\\n   \"metadata\": {},\\n   \"outputs\": [\\n    {\\n     \"data\": {\\n      \"text/plain\": [\\n       \"[1, 2, 3, 4, 5]\"\\n      ]\\n     },\\n     \"execution_count\": 15,\\n     \"metadata\": {},\\n     \"output_type\": \"execute_result\"\\n    }\\n   ],\\n   \"source\": [\\n    \"r\"\\n   ]\\n  },\\n  {\\n   \"cell_type\": \"code\",\\n   \"execution_count\": 16,\\n   \"metadata\": {},\\n   \"outputs\": [\\n    {\\n     \"data\": {\\n      \"text/plain\": [\\n       \"[\\'1\\', \\'2\\', \\'3\\', \\'4\\', \\'5\\']\"\\n      ]\\n     },\\n     \"execution_count\": 16,\\n     \"metadata\": {},\\n     \"output_type\": \"execute_result\"\\n    }\\n   ],\\n   \"source\": [\\n    \"k\"\\n   ]\\n  },\\n  {\\n   \"cell_type\": \"code\",\\n   \"execution_count\": 17,\\n   \"metadata\": {},\\n   \"outputs\": [\\n    {\\n     \"data\": {\\n      \"text/plain\": [\\n       \"[1, 2, 3, 4, 5]\"\\n      ]\\n     },\\n     \"execution_count\": 17,\\n     \"metadata\": {},\\n     \"output_type\": \"execute_result\"\\n    }\\n   ],\\n   \"source\": [\\n    \"r = list(map(int,k))\\\\n\",\\n    \"r\"\\n   ]\\n  },\\n  {\\n   \"cell_type\": \"code\",\\n   \"execution_count\": 18,\\n   \"metadata\": {},\\n   \"outputs\": [\\n    {\\n     \"name\": \"stdout\",\\n     \"output_type\": \"stream\",\\n     \"text\": [\\n      \"1 2 3 4 5\\\\n\"\\n     ]\\n    }\\n   ],\\n   \"source\": [\\n    \"x = input()\"\\n   ]\\n  },\\n  {\\n   \"cell_type\": \"code\",\\n   \"execution_count\": 20,\\n   \"metadata\": {},\\n   \"outputs\": [\\n    {\\n     \"data\": {\\n      \"text/plain\": [\\n       \"\\'1 2 3 4 5\\'\"\\n      ]\\n     },\\n     \"execution_count\": 20,\\n     \"metadata\": {},\\n     \"output_type\": \"execute_result\"\\n    }\\n   ],\\n   \"source\": [\\n    \"x\"\\n   ]\\n  },\\n  {\\n   \"cell_type\": \"code\",\\n   \"execution_count\": 21,\\n   \"metadata\": {\\n    \"collapsed\": true\\n   },\\n   \"outputs\": [],\\n   \"source\": [\\n    \"y = x.split()\"\\n   ]\\n  },\\n  {\\n   \"cell_type\": \"code\",\\n   \"execution_count\": 22,\\n   \"metadata\": {},\\n   \"outputs\": [\\n    {\\n     \"data\": {\\n      \"text/plain\": [\\n       \"[\\'1\\', \\'2\\', \\'3\\', \\'4\\', \\'5\\']\"\\n      ]\\n     },\\n     \"execution_count\": 22,\\n     \"metadata\": {},\\n     \"output_type\": \"execute_result\"\\n    }\\n   ],\\n   \"source\": [\\n    \"y\"\\n   ]\\n  },\\n  {\\n   \"cell_type\": \"code\",\\n   \"execution_count\": 23,\\n   \"metadata\": {\\n    \"collapsed\": true\\n   },\\n   \"outputs\": [],\\n   \"source\": [\\n    \"z = list(map(int,y))\"\\n   ]\\n  },\\n  {\\n   \"cell_type\": \"code\",\\n   \"execution_count\": 24,\\n   \"metadata\": {},\\n   \"outputs\": [\\n    {\\n     \"data\": {\\n      \"text/plain\": [\\n       \"[1, 2, 3, 4, 5]\"\\n      ]\\n     },\\n     \"execution_count\": 24,\\n     \"metadata\": {},\\n     \"output_type\": \"execute_result\"\\n    }\\n   ],\\n   \"source\": [\\n    \"z\"\\n   ]\\n  },\\n  {\\n   \"cell_type\": \"code\",\\n   \"execution_count\": 25,\\n   \"metadata\": {},\\n   \"outputs\": [\\n    {\\n     \"name\": \"stdout\",\\n     \"output_type\": \"stream\",\\n     \"text\": [\\n      \"   1,2 ,3,4,5,6, 7\\\\n\"\\n     ]\\n    },\\n    {\\n     \"data\": {\\n      \"text/plain\": [\\n       \"[1, 2, 3, 4, 5, 6, 7]\"\\n      ]\\n     },\\n     \"execution_count\": 25,\\n     \"metadata\": {},\\n     \"output_type\": \"execute_result\"\\n    }\\n   ],\\n   \"source\": [\\n    \"x = list(map(int,input().split(\\',\\')))\\\\n\",\\n    \"x\"\\n   ]\\n  },\\n  {\\n   \"cell_type\": \"code\",\\n   \"execution_count\": 28,\\n   \"metadata\": {},\\n   \"outputs\": [\\n    {\\n     \"data\": {\\n      \"text/plain\": [\\n       \"248\"\\n      ]\\n     },\\n     \"execution_count\": 28,\\n     \"metadata\": {},\\n     \"output_type\": \"execute_result\"\\n    }\\n   ],\\n   \"source\": [\\n    \"x = [ 1,2,3,4,5,6,7,8,9,10,11,12,13,14,15,16,17,18,19,20,21,22,23,24,25,26]\\\\n\",\\n    \"x.__sizeof__()\"\\n   ]\\n  },\\n  {\\n   \"cell_type\": \"code\",\\n   \"execution_count\": 29,\\n   \"metadata\": {},\\n   \"outputs\": [\\n    {\\n     \"data\": {\\n      \"text/plain\": [\\n       \"48\"\\n      ]\\n     },\\n     \"execution_count\": 29,\\n     \"metadata\": {},\\n     \"output_type\": \"execute_result\"\\n    }\\n   ],\\n   \"source\": [\\n    \"y = range(1,27)\\\\n\",\\n    \"y.__sizeof__()\"\\n   ]\\n  },\\n  {\\n   \"cell_type\": \"code\",\\n   \"execution_count\": 31,\\n   \"metadata\": {},\\n   \"outputs\": [\\n    {\\n     \"name\": \"stdout\",\\n     \"output_type\": \"stream\",\\n     \"text\": [\\n      \"[1, 2, 3, 4, 5, 6, 7, 8, 9, 10, 11, 12, 13, 14, 15, 16, 17, 18, 19, 20, 21, 22, 23, 24, 25, 26]\\\\n\"\\n     ]\\n    }\\n   ],\\n   \"source\": [\\n    \"print(x)\"\\n   ]\\n  },\\n  {\\n   \"cell_type\": \"code\",\\n   \"execution_count\": 34,\\n   \"metadata\": {},\\n   \"outputs\": [],\\n   \"source\": [\\n    \"y = iter(y)\"\\n   ]\\n  },\\n  {\\n   \"cell_type\": \"code\",\\n   \"execution_count\": 39,\\n   \"metadata\": {},\\n   \"outputs\": [],\\n   \"source\": [\\n    \"eve_odd = lambda num : True if num % 2 == 0 else False\"\\n   ]\\n  },\\n  {\\n   \"cell_type\": \"code\",\\n   \"execution_count\": 41,\\n   \"metadata\": {},\\n   \"outputs\": [\\n    {\\n     \"data\": {\\n      \"text/plain\": [\\n       \"True\"\\n      ]\\n     },\\n     \"execution_count\": 41,\\n     \"metadata\": {},\\n     \"output_type\": \"execute_result\"\\n    }\\n   ],\\n   \"source\": [\\n    \"eve_odd(12)\"\\n   ]\\n  },\\n  {\\n   \"cell_type\": \"code\",\\n   \"execution_count\": 42,\\n   \"metadata\": {\\n    \"collapsed\": true\\n   },\\n   \"outputs\": [],\\n   \"source\": [\\n    \"k = list(map(eve_odd,x))\"\\n   ]\\n  },\\n  {\\n   \"cell_type\": \"code\",\\n   \"execution_count\": 45,\\n   \"metadata\": {},\\n   \"outputs\": [\\n    {\\n     \"name\": \"stdout\",\\n     \"output_type\": \"stream\",\\n     \"text\": [\\n      \"[False, True, False, True, False, True, False, True, False, True, False, True, False, True, False, True, False, True, False, True, False, True, False, True, False, True]\\\\n\",\\n      \"[1, 2, 3, 4, 5, 6, 7, 8, 9, 10, 11, 12, 13, 14, 15, 16, 17, 18, 19, 20, 21, 22, 23, 24, 25, 26]\\\\n\"\\n     ]\\n    }\\n   ],\\n   \"source\": [\\n    \"print(k)\\\\n\",\\n    \"print(x)\"\\n   ]\\n  },\\n  {\\n   \"cell_type\": \"code\",\\n   \"execution_count\": 47,\\n   \"metadata\": {},\\n   \"outputs\": [\\n    {\\n     \"name\": \"stdout\",\\n     \"output_type\": \"stream\",\\n     \"text\": [\\n      \"[2, 4, 6, 8, 10, 12, 14, 16, 18, 20, 22, 24, 26]\\\\n\"\\n     ]\\n    }\\n   ],\\n   \"source\": [\\n    \"r = list(filter(eve_odd,x))\\\\n\",\\n    \"print(r)\"\\n   ]\\n  },\\n  {\\n   \"cell_type\": \"code\",\\n   \"execution_count\": 48,\\n   \"metadata\": {\\n    \"collapsed\": true\\n   },\\n   \"outputs\": [],\\n   \"source\": [\\n    \"from functools import reduce\"\\n   ]\\n  },\\n  {\\n   \"cell_type\": \"code\",\\n   \"execution_count\": 50,\\n   \"metadata\": {},\\n   \"outputs\": [\\n    {\\n     \"data\": {\\n      \"text/plain\": [\\n       \"351\"\\n      ]\\n     },\\n     \"execution_count\": 50,\\n     \"metadata\": {},\\n     \"output_type\": \"execute_result\"\\n    }\\n   ],\\n   \"source\": [\\n    \"p = reduce(lambda m,n:m+n,x)\\\\n\",\\n    \"p\"\\n   ]\\n  },\\n  {\\n   \"cell_type\": \"markdown\",\\n   \"metadata\": {},\\n   \"source\": [\\n    \"# Closures in Python\"\\n   ]\\n  },\\n  {\\n   \"cell_type\": \"code\",\\n   \"execution_count\": 60,\\n   \"metadata\": {\\n    \"collapsed\": true\\n   },\\n   \"outputs\": [],\\n   \"source\": [\\n    \"def hello(x):\\\\n\",\\n    \"    def hi():\\\\n\",\\n    \"        nonlocal x\\\\n\",\\n    \"        x = \\'Hello , \\'+x\\\\n\",\\n    \"        print(x)\\\\n\",\\n    \"    return hi\"\\n   ]\\n  },\\n  {\\n   \"cell_type\": \"code\",\\n   \"execution_count\": 61,\\n   \"metadata\": {\\n    \"collapsed\": true\\n   },\\n   \"outputs\": [],\\n   \"source\": [\\n    \"k = hello(\\'sachin\\')\"\\n   ]\\n  },\\n  {\\n   \"cell_type\": \"code\",\\n   \"execution_count\": 62,\\n   \"metadata\": {},\\n   \"outputs\": [\\n    {\\n     \"name\": \"stdout\",\\n     \"output_type\": \"stream\",\\n     \"text\": [\\n      \"Hello , sachin\\\\n\"\\n     ]\\n    }\\n   ],\\n   \"source\": [\\n    \"k()\"\\n   ]\\n  },\\n  {\\n   \"cell_type\": \"code\",\\n   \"execution_count\": 101,\\n   \"metadata\": {\\n    \"collapsed\": true\\n   },\\n   \"outputs\": [],\\n   \"source\": [\\n    \"def hello(myfun):\\\\n\",\\n    \"    def hi(*name):\\\\n\",\\n    \"        print(\\\\\"*\\\\\"*50)\\\\n\",\\n    \"        myfun(*name)\\\\n\",\\n    \"        print(\\\\\"*\\\\\"*50)\\\\n\",\\n    \"    return hi\"\\n   ]\\n  },\\n  {\\n   \"cell_type\": \"code\",\\n   \"execution_count\": 102,\\n   \"metadata\": {\\n    \"collapsed\": true\\n   },\\n   \"outputs\": [],\\n   \"source\": [\\n    \"def hey(var):\\\\n\",\\n    \"    print(var.center(len(var*3)))\"\\n   ]\\n  },\\n  {\\n   \"cell_type\": \"code\",\\n   \"execution_count\": 103,\\n   \"metadata\": {},\\n   \"outputs\": [\\n    {\\n     \"name\": \"stdout\",\\n     \"output_type\": \"stream\",\\n     \"text\": [\\n      \"**************************************************\\\\n\",\\n      \"            sachin yadav            \\\\n\",\\n      \"**************************************************\\\\n\"\\n     ]\\n    }\\n   ],\\n   \"source\": [\\n    \"n_hi = hello(hey)\\\\n\",\\n    \"n_hi(\\'sachin yadav\\')\"\\n   ]\\n  },\\n  {\\n   \"cell_type\": \"code\",\\n   \"execution_count\": 104,\\n   \"metadata\": {\\n    \"collapsed\": true\\n   },\\n   \"outputs\": [],\\n   \"source\": [\\n    \"def decorate(oldfunc):\\\\n\",\\n    \"    def worker(*name):\\\\n\",\\n    \"        k = 50\\\\n\",\\n    \"        print(\\\\\"-\\\\\"*k)\\\\n\",\\n    \"        print()\\\\n\",\\n    \"        oldfunc(*name)\\\\n\",\\n    \"        print()\\\\n\",\\n    \"        print(\\\\\"-\\\\\"*k)\\\\n\",\\n    \"    return worker\"\\n   ]\\n  },\\n  {\\n   \"cell_type\": \"code\",\\n   \"execution_count\": 105,\\n   \"metadata\": {\\n    \"collapsed\": true\\n   },\\n   \"outputs\": [],\\n   \"source\": [\\n    \"n = n=decorate(n_hi)\"\\n   ]\\n  },\\n  {\\n   \"cell_type\": \"code\",\\n   \"execution_count\": 106,\\n   \"metadata\": {},\\n   \"outputs\": [\\n    {\\n     \"name\": \"stdout\",\\n     \"output_type\": \"stream\",\\n     \"text\": [\\n      \"--------------------------------------------------\\\\n\",\\n      \"\\\\n\",\\n      \"**************************************************\\\\n\",\\n      \"                    Hello World How are                     \\\\n\",\\n      \"**************************************************\\\\n\",\\n      \"\\\\n\",\\n      \"--------------------------------------------------\\\\n\"\\n     ]\\n    }\\n   ],\\n   \"source\": [\\n    \"n(\\'Hello World How are \\')\"\\n   ]\\n  },\\n  {\\n   \"cell_type\": \"code\",\\n   \"execution_count\": 107,\\n   \"metadata\": {\\n    \"collapsed\": true\\n   },\\n   \"outputs\": [],\\n   \"source\": [\\n    \"@decorate\\\\n\",\\n    \"@hello\\\\n\",\\n    \"def add(x,y):\\\\n\",\\n    \"    print()\\\\n\",\\n    \"    print(\\\\\"X = \\\\\",x)\\\\n\",\\n    \"    print(\\\\\"Y = \\\\\",y)\\\\n\",\\n    \"    print(\\\\\"{} + {} = {}\\\\\".format(x,y,x+y))\\\\n\",\\n    \"    print()\"\\n   ]\\n  },\\n  {\\n   \"cell_type\": \"code\",\\n   \"execution_count\": 100,\\n   \"metadata\": {},\\n   \"outputs\": [\\n    {\\n     \"name\": \"stdout\",\\n     \"output_type\": \"stream\",\\n     \"text\": [\\n      \"--------------------------------------------------\\\\n\",\\n      \"\\\\n\",\\n      \"**************************************************\\\\n\",\\n      \"\\\\n\",\\n      \"X =  6\\\\n\",\\n      \"Y =  8\\\\n\",\\n      \"6 + 8 = 14\\\\n\",\\n      \"\\\\n\",\\n      \"**************************************************\\\\n\",\\n      \"\\\\n\",\\n      \"--------------------------------------------------\\\\n\"\\n     ]\\n    }\\n   ],\\n   \"source\": [\\n    \"add(6,8)\"\\n   ]\\n  },\\n  {\\n   \"cell_type\": \"code\",\\n   \"execution_count\": 112,\\n   \"metadata\": {\\n    \"collapsed\": true\\n   },\\n   \"outputs\": [],\\n   \"source\": [\\n    \"def prime(num):\\\\n\",\\n    \"    from math import sqrt\\\\n\",\\n    \"    check = round(sqrt(num)+1)\\\\n\",\\n    \"    for ch in range(2,check):\\\\n\",\\n    \"        if num % ch == 0 :\\\\n\",\\n    \"            return False\\\\n\",\\n    \"    return True\"\\n   ]\\n  },\\n  {\\n   \"cell_type\": \"code\",\\n   \"execution_count\": 113,\\n   \"metadata\": {},\\n   \"outputs\": [],\\n   \"source\": [\\n    \"def prime_decorator(prime):\\\\n\",\\n    \"    def new_prime(num):\\\\n\",\\n    \"        print(\\\\\"*\\\\\"*50)\\\\n\",\\n    \"        print(\\\\\"*\\\\\"*50)\\\\n\",\\n    \"        print()\\\\n\",\\n    \"        if prime(num) :\\\\n\",\\n    \"            print(\\\\\"{} is Prime\\\\\".format(num).center(50))\\\\n\",\\n    \"        else :\\\\n\",\\n    \"            print(\\\\\"{} is Not Prime\\\\\".format(num).center(50))\\\\n\",\\n    \"        print()\\\\n\",\\n    \"        print(\\\\\"*\\\\\"*50)\\\\n\",\\n    \"        print(\\\\\"*\\\\\"*50)\\\\n\",\\n    \"    return new_prime\"\\n   ]\\n  },\\n  {\\n   \"cell_type\": \"code\",\\n   \"execution_count\": 114,\\n   \"metadata\": {},\\n   \"outputs\": [\\n    {\\n     \"name\": \"stdout\",\\n     \"output_type\": \"stream\",\\n     \"text\": [\\n      \"Enter a number : 12341\\\\n\",\\n      \"**************************************************\\\\n\",\\n      \"**************************************************\\\\n\",\\n      \"\\\\n\",\\n      \"                12341 is Not Prime                \\\\n\",\\n      \"\\\\n\",\\n      \"**************************************************\\\\n\",\\n      \"**************************************************\\\\n\"\\n     ]\\n    }\\n   ],\\n   \"source\": [\\n    \"new_prime = prime_decorator(prime)\\\\n\",\\n    \"new_prime(int(input(\\\\\"Enter a number : \\\\\")))\"\\n   ]\\n  },\\n  {\\n   \"cell_type\": \"code\",\\n   \"execution_count\": 115,\\n   \"metadata\": {\\n    \"collapsed\": true\\n   },\\n   \"outputs\": [],\\n   \"source\": [\\n    \"@prime_decorator\\\\n\",\\n    \"def old_Prime(num):\\\\n\",\\n    \"    from math import sqrt\\\\n\",\\n    \"    check = round(sqrt(num)+1)\\\\n\",\\n    \"    for ch in range(2,check):\\\\n\",\\n    \"        if num % ch == 0 :\\\\n\",\\n    \"            return False\\\\n\",\\n    \"    return True\"\\n   ]\\n  },\\n  {\\n   \"cell_type\": \"code\",\\n   \"execution_count\": 116,\\n   \"metadata\": {},\\n   \"outputs\": [\\n    {\\n     \"name\": \"stdout\",\\n     \"output_type\": \"stream\",\\n     \"text\": [\\n      \"**************************************************\\\\n\",\\n      \"**************************************************\\\\n\",\\n      \"\\\\n\",\\n      \"               123321 is Not Prime                \\\\n\",\\n      \"\\\\n\",\\n      \"**************************************************\\\\n\",\\n      \"**************************************************\\\\n\"\\n     ]\\n    }\\n   ],\\n   \"source\": [\\n    \"old_Prime(123321)\"\\n   ]\\n  },\\n  {\\n   \"cell_type\": \"code\",\\n   \"execution_count\": null,\\n   \"metadata\": {\\n    \"collapsed\": true\\n   },\\n   \"outputs\": [],\\n   \"source\": []\\n  }\\n ],\\n \"metadata\": {\\n  \"kernelspec\": {\\n   \"display_name\": \"Python 3\",\\n   \"language\": \"python\",\\n   \"name\": \"python3\"\\n  },\\n  \"language_info\": {\\n   \"codemirror_mode\": {\\n    \"name\": \"ipython\",\\n    \"version\": 3\\n   },\\n   \"file_extension\": \".py\",\\n   \"mimetype\": \"text/x-python\",\\n   \"name\": \"python\",\\n   \"nbconvert_exporter\": \"python\",\\n   \"pygments_lexer\": \"ipython3\",\\n   \"version\": \"3.6.3\"\\n  }\\n },\\n \"nbformat\": 4,\\n \"nbformat_minor\": 2\\n}\\n'"
      ]
     },
     "execution_count": 16,
     "metadata": {},
     "output_type": "execute_result"
    }
   ],
   "source": [
    "file_data"
   ]
  },
  {
   "cell_type": "code",
   "execution_count": 18,
   "metadata": {},
   "outputs": [],
   "source": [
    "with open('C:\\\\Users\\\\sachin yadav\\\\Desktop\\\\sachin.txt') as f :\n",
    "    data = f.read()\n",
    "    f.close()"
   ]
  },
  {
   "cell_type": "code",
   "execution_count": 19,
   "metadata": {},
   "outputs": [
    {
     "data": {
      "text/plain": [
       "'Hello sachin how are you\\n'"
      ]
     },
     "execution_count": 19,
     "metadata": {},
     "output_type": "execute_result"
    }
   ],
   "source": [
    "data"
   ]
  },
  {
   "cell_type": "code",
   "execution_count": 24,
   "metadata": {},
   "outputs": [],
   "source": [
    "with open('C:\\\\Users\\\\sachin yadav\\\\Desktop\\\\sachin.txt','w+') as f :\n",
    "    b = f.write(\"Hello World\\n\\t\\tHow are you\\n\\tIt's Awesome\")\n",
    "    f.seek(0)\n",
    "    data = f.read()\n",
    "    f.close()"
   ]
  },
  {
   "cell_type": "code",
   "execution_count": 25,
   "metadata": {},
   "outputs": [
    {
     "data": {
      "text/plain": [
       "\"Hello World\\n\\t\\tHow are you\\n\\tIt's Awesome\""
      ]
     },
     "execution_count": 25,
     "metadata": {},
     "output_type": "execute_result"
    }
   ],
   "source": [
    "data"
   ]
  },
  {
   "cell_type": "code",
   "execution_count": 26,
   "metadata": {},
   "outputs": [],
   "source": [
    "with open('C:\\\\Users\\\\sachin yadav\\\\Desktop\\\\sachin.txt','a+') as f :\n",
    "    b = f.write(\"\\nIT's Append Mode\")\n",
    "    f.seek(0)\n",
    "    data = f.read()\n",
    "    f.close()"
   ]
  },
  {
   "cell_type": "code",
   "execution_count": 27,
   "metadata": {
    "collapsed": true
   },
   "outputs": [],
   "source": [
    "fp = open('C:\\\\Users\\\\sachin yadav\\\\Desktop\\\\sachin.txt')"
   ]
  },
  {
   "cell_type": "code",
   "execution_count": 29,
   "metadata": {},
   "outputs": [],
   "source": [
    "fp.seek(0)\n",
    "line1 = fp.readline()\n",
    "line2 = fp.readline()\n",
    "fp.seek(0)\n",
    "data = fp.read()"
   ]
  },
  {
   "cell_type": "code",
   "execution_count": 30,
   "metadata": {
    "collapsed": true
   },
   "outputs": [],
   "source": [
    "fp.close()"
   ]
  },
  {
   "cell_type": "code",
   "execution_count": 31,
   "metadata": {},
   "outputs": [
    {
     "data": {
      "text/plain": [
       "'12\\t3\\n'"
      ]
     },
     "execution_count": 31,
     "metadata": {},
     "output_type": "execute_result"
    }
   ],
   "source": [
    "line1"
   ]
  },
  {
   "cell_type": "code",
   "execution_count": 32,
   "metadata": {},
   "outputs": [
    {
     "data": {
      "text/plain": [
       "'1\\t67\\n'"
      ]
     },
     "execution_count": 32,
     "metadata": {},
     "output_type": "execute_result"
    }
   ],
   "source": [
    "line2"
   ]
  },
  {
   "cell_type": "code",
   "execution_count": 33,
   "metadata": {},
   "outputs": [
    {
     "data": {
      "text/plain": [
       "'12\\t3\\n1\\t67\\n3\\t78\\n5\\t89\\n5\\t908\\n6\\t899\\n7\\t876'"
      ]
     },
     "execution_count": 33,
     "metadata": {},
     "output_type": "execute_result"
    }
   ],
   "source": [
    "data"
   ]
  },
  {
   "cell_type": "code",
   "execution_count": 34,
   "metadata": {},
   "outputs": [
    {
     "data": {
      "text/plain": [
       "['12\\t3', '1\\t67', '3\\t78', '5\\t89', '5\\t908', '6\\t899', '7\\t876']"
      ]
     },
     "execution_count": 34,
     "metadata": {},
     "output_type": "execute_result"
    }
   ],
   "source": [
    "toda = data.split('\\n')\n",
    "toda"
   ]
  },
  {
   "cell_type": "code",
   "execution_count": 36,
   "metadata": {},
   "outputs": [
    {
     "name": "stdout",
     "output_type": "stream",
     "text": [
      "12\t3 1\t67 3\t78 5\t89 5\t908 6\t899 7\t876\n"
     ]
    }
   ],
   "source": [
    "print(*toda)"
   ]
  },
  {
   "cell_type": "code",
   "execution_count": 40,
   "metadata": {},
   "outputs": [],
   "source": [
    "aur_toda = list(map(lambda string : string.split(), toda))"
   ]
  },
  {
   "cell_type": "code",
   "execution_count": 41,
   "metadata": {},
   "outputs": [
    {
     "data": {
      "text/plain": [
       "[['12', '3'],\n",
       " ['1', '67'],\n",
       " ['3', '78'],\n",
       " ['5', '89'],\n",
       " ['5', '908'],\n",
       " ['6', '899'],\n",
       " ['7', '876']]"
      ]
     },
     "execution_count": 41,
     "metadata": {},
     "output_type": "execute_result"
    }
   ],
   "source": [
    "aur_toda"
   ]
  },
  {
   "cell_type": "code",
   "execution_count": 42,
   "metadata": {
    "collapsed": true
   },
   "outputs": [],
   "source": [
    "last_bar_toda = []\n",
    "for col1,col2 in aur_toda : \n",
    "    last_bar_toda.append([int(col1),int(col2)])"
   ]
  },
  {
   "cell_type": "code",
   "execution_count": 43,
   "metadata": {},
   "outputs": [
    {
     "data": {
      "text/plain": [
       "[[12, 3], [1, 67], [3, 78], [5, 89], [5, 908], [6, 899], [7, 876]]"
      ]
     },
     "execution_count": 43,
     "metadata": {},
     "output_type": "execute_result"
    }
   ],
   "source": [
    "last_bar_toda"
   ]
  },
  {
   "cell_type": "code",
   "execution_count": 51,
   "metadata": {},
   "outputs": [],
   "source": [
    "r = []\n",
    "for x,y in last_bar_toda:\n",
    "    r.append(x*y)\n",
    "    "
   ]
  },
  {
   "cell_type": "code",
   "execution_count": 52,
   "metadata": {},
   "outputs": [
    {
     "data": {
      "text/plain": [
       "[36, 67, 234, 445, 4540, 5394, 6132]"
      ]
     },
     "execution_count": 52,
     "metadata": {},
     "output_type": "execute_result"
    }
   ],
   "source": [
    "r"
   ]
  },
  {
   "cell_type": "code",
   "execution_count": 53,
   "metadata": {},
   "outputs": [
    {
     "data": {
      "text/plain": [
       "16848"
      ]
     },
     "execution_count": 53,
     "metadata": {},
     "output_type": "execute_result"
    }
   ],
   "source": [
    "sum(r)"
   ]
  },
  {
   "cell_type": "code",
   "execution_count": null,
   "metadata": {
    "collapsed": true
   },
   "outputs": [],
   "source": []
  }
 ],
 "metadata": {
  "kernelspec": {
   "display_name": "Python 3",
   "language": "python",
   "name": "python3"
  },
  "language_info": {
   "codemirror_mode": {
    "name": "ipython",
    "version": 3
   },
   "file_extension": ".py",
   "mimetype": "text/x-python",
   "name": "python",
   "nbconvert_exporter": "python",
   "pygments_lexer": "ipython3",
   "version": "3.6.3"
  }
 },
 "nbformat": 4,
 "nbformat_minor": 2
}
