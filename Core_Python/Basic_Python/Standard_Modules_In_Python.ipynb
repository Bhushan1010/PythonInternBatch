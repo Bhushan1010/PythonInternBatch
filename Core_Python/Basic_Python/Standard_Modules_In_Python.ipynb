{
 "cells": [
  {
   "cell_type": "code",
   "execution_count": 1,
   "metadata": {
    "collapsed": true
   },
   "outputs": [],
   "source": [
    "import os"
   ]
  },
  {
   "cell_type": "code",
   "execution_count": 4,
   "metadata": {},
   "outputs": [
    {
     "name": "stdout",
     "output_type": "stream",
     "text": [
      "C:\\Users\\sachin yadav\\Documents\\GitHub\\PythonInternBatch2018\\After_Noon_Batch\n"
     ]
    }
   ],
   "source": [
    "x = os.getcwd() # gives current working directory\n",
    "print(x)"
   ]
  },
  {
   "cell_type": "code",
   "execution_count": 6,
   "metadata": {},
   "outputs": [
    {
     "name": "stdout",
     "output_type": "stream",
     "text": [
      "['.except1.py.un~', '.except2.py.un~', '.ipynb_checkpoints', 'abc', 'Advance_Topics_in_Python', 'Basic_Python', 'Database', 'except1.py', 'except1.py~', 'except2.py', 'except2.py~', 'Exceptions in python.ipynb', 'modules_in_python', 'newfolder', 'NumPy.ipynb', 'Standard_Modules_In_Python.ipynb']\n"
     ]
    }
   ],
   "source": [
    "y = os.listdir() # equal to ls command in current directory\n",
    "print(y)"
   ]
  },
  {
   "cell_type": "code",
   "execution_count": 10,
   "metadata": {},
   "outputs": [
    {
     "name": "stdout",
     "output_type": "stream",
     "text": [
      "\n",
      "Current Path :  ./\n",
      "\n",
      "Directories in Current Path :  .ipynb_checkpoints Advance_Topics_in_Python Basic_Python Database modules_in_python newfolder\n",
      "\n",
      "Files in Current Path :  .except1.py.un~ .except2.py.un~ abc except1.py except1.py~ except2.py except2.py~ Exceptions in python.ipynb NumPy.ipynb Standard_Modules_In_Python.ipynb\n",
      "\n",
      "\n",
      "\n",
      "\n",
      "\n",
      "Current Path :  ./.ipynb_checkpoints\n",
      "\n",
      "Directories in Current Path : \n",
      "\n",
      "Files in Current Path :  Exceptions in python-checkpoint.ipynb NumPy-checkpoint.ipynb Special Functions-checkpoint.ipynb Standard_Modules_In_Python-checkpoint.ipynb\n",
      "\n",
      "\n",
      "\n",
      "\n",
      "\n",
      "Current Path :  ./Advance_Topics_in_Python\n",
      "\n",
      "Directories in Current Path : \n",
      "\n",
      "Files in Current Path :  clousre1.py clousre2.py code.html dec1.py dec2.py dec3.py\n",
      "\n",
      "\n",
      "\n",
      "\n",
      "\n",
      "Current Path :  ./Basic_Python\n",
      "\n",
      "Directories in Current Path :  files kuch_bhi oops_in_python\n",
      "\n",
      "Files in Current Path :  .gen.py.un~ .iterator.py.un~ .new.py.un~ .test1.py.un~ bank.db bank.ipynb bank.py bank_file.py bank_file_create.py bank_file_show.py Basic+Data+Types+.py Basic_Data_Types1 .ipynb Control Statements.ipynb FileHandling.ipynb first_class.ipynb formating.py gen.py gen.py~ General_Problems.ipynb hello hello.py hello.txt if_else.py iterator.py iterator.py~ log.txt log.txt~ Loop2.ipynb Loops_in_Python.ipynb mypat.py mypat_lower.py mypat_upper.py new.py new.py~ numbers.txt one.py Operators_IN_Python.ipynb pat2.py pattern.py pattern1.py Patterns.ipynb patters.py prime.py python notes.txt Python_Functions.ipynb rangoli.py Special Functions.ipynb test.py test.py~ test1.py test1.py~ two.py Untitled.ipynb\n",
      "\n",
      "\n",
      "\n",
      "\n",
      "\n",
      "Current Path :  ./Basic_Python\\files\n",
      "\n",
      "Directories in Current Path : \n",
      "\n",
      "Files in Current Path :  f1.py f2.py f3.py f4.py f5.py merge.txt my.txt new.txt\n",
      "\n",
      "\n",
      "\n",
      "\n",
      "\n",
      "Current Path :  ./Basic_Python\\kuch_bhi\n",
      "\n",
      "Directories in Current Path : \n",
      "\n",
      "Files in Current Path :  bank.db first.py hello.txt\n",
      "\n",
      "\n",
      "\n",
      "\n",
      "\n",
      "Current Path :  ./Basic_Python\\oops_in_python\n",
      "\n",
      "Directories in Current Path :  .git .ipynb_checkpoints __pycache__\n",
      "\n",
      "Files in Current Path :  .class1.py.un~ .mod1.py.un~ .mod2.py.un~ class1.py class1.py~ mod1.py mod1.py~ mod2.py OOPS_In_Python.ipynb\n",
      "\n",
      "\n",
      "\n",
      "\n",
      "\n",
      "Current Path :  ./Basic_Python\\oops_in_python\\.git\n",
      "\n",
      "Directories in Current Path : \n",
      "\n",
      "Files in Current Path : \n",
      "\n",
      "\n",
      "\n",
      "\n",
      "\n",
      "Current Path :  ./Basic_Python\\oops_in_python\\.ipynb_checkpoints\n",
      "\n",
      "Directories in Current Path : \n",
      "\n",
      "Files in Current Path :  OOPS_In_Python-checkpoint.ipynb\n",
      "\n",
      "\n",
      "\n",
      "\n",
      "\n",
      "Current Path :  ./Basic_Python\\oops_in_python\\__pycache__\n",
      "\n",
      "Directories in Current Path : \n",
      "\n",
      "Files in Current Path :  mod1.cpython-36.pyc\n",
      "\n",
      "\n",
      "\n",
      "\n",
      "\n",
      "Current Path :  ./Database\n",
      "\n",
      "Directories in Current Path : \n",
      "\n",
      "Files in Current Path :  .bank_database.py.un~ add_user_in_bank.py bank.db bank_data.csv bank_database.py bank_database.py~ insert.py log.txt query.py user.db\n",
      "\n",
      "\n",
      "\n",
      "\n",
      "\n",
      "Current Path :  ./modules_in_python\n",
      "\n",
      "Directories in Current Path :  mypkg\n",
      "\n",
      "Files in Current Path :  .test.py.un~ test.py test.py~\n",
      "\n",
      "\n",
      "\n",
      "\n",
      "\n",
      "Current Path :  ./modules_in_python\\mypkg\n",
      "\n",
      "Directories in Current Path :  __pycache__\n",
      "\n",
      "Files in Current Path :  .__init__.py.un~ one.py three.py two.py __init__.py __init__.py~\n",
      "\n",
      "\n",
      "\n",
      "\n",
      "\n",
      "Current Path :  ./modules_in_python\\mypkg\\__pycache__\n",
      "\n",
      "Directories in Current Path : \n",
      "\n",
      "Files in Current Path :  one.cpython-36.pyc three.cpython-36.pyc __init__.cpython-36.pyc\n",
      "\n",
      "\n",
      "\n",
      "\n",
      "\n",
      "Current Path :  ./newfolder\n",
      "\n",
      "Directories in Current Path : \n",
      "\n",
      "Files in Current Path : \n",
      "\n",
      "\n",
      "\n",
      "\n"
     ]
    }
   ],
   "source": [
    "x = list(os.walk('./')) # it similar to ls -R recursively print all files\n",
    "for cur_dir,dirs,files in x :\n",
    "    print(\"\\nCurrent Path : \",cur_dir)\n",
    "    print(\"\\nDirectories in Current Path : \",*dirs)\n",
    "    print(\"\\nFiles in Current Path : \",*files)\n",
    "    print(\"\\n\\n\\n\")"
   ]
  },
  {
   "cell_type": "code",
   "execution_count": null,
   "metadata": {
    "collapsed": true
   },
   "outputs": [],
   "source": [
    "import os\n",
    "os.system('vim hello.py')"
   ]
  },
  {
   "cell_type": "code",
   "execution_count": 1,
   "metadata": {
    "collapsed": true
   },
   "outputs": [],
   "source": [
    "import os"
   ]
  },
  {
   "cell_type": "code",
   "execution_count": 4,
   "metadata": {},
   "outputs": [
    {
     "name": "stdout",
     "output_type": "stream",
     "text": [
      "0\n"
     ]
    }
   ],
   "source": [
    "os.system('ipconfig')"
   ]
  },
  {
   "cell_type": "code",
   "execution_count": 11,
   "metadata": {},
   "outputs": [
    {
     "data": {
      "text/plain": [
       "'C:\\\\Users\\\\sachin yadav\\\\Documents\\\\GitHub\\\\PythonInternBatch2018\\\\After_Noon_Batch'"
      ]
     },
     "execution_count": 11,
     "metadata": {},
     "output_type": "execute_result"
    }
   ],
   "source": [
    "#help(os)\n",
    "os.getcwd()"
   ]
  },
  {
   "cell_type": "code",
   "execution_count": 12,
   "metadata": {},
   "outputs": [
    {
     "data": {
      "text/plain": [
       "0"
      ]
     },
     "execution_count": 12,
     "metadata": {},
     "output_type": "execute_result"
    }
   ],
   "source": [
    "os.system('touch sachin.txt')"
   ]
  },
  {
   "cell_type": "code",
   "execution_count": 13,
   "metadata": {
    "collapsed": true
   },
   "outputs": [],
   "source": [
    "import shutil"
   ]
  },
  {
   "cell_type": "code",
   "execution_count": 14,
   "metadata": {},
   "outputs": [
    {
     "name": "stdout",
     "output_type": "stream",
     "text": [
      "['Error', 'ExecError', 'ReadError', 'RegistryError', 'SameFileError', 'SpecialFileError', '_ARCHIVE_FORMATS', '_BZ2_SUPPORTED', '_LZMA_SUPPORTED', '_UNPACK_FORMATS', '_ZLIB_SUPPORTED', '__all__', '__builtins__', '__cached__', '__doc__', '__file__', '__loader__', '__name__', '__package__', '__spec__', '_basename', '_check_unpack_options', '_copyxattr', '_destinsrc', '_ensure_directory', '_find_unpack_format', '_get_gid', '_get_uid', '_make_tarball', '_make_zipfile', '_ntuple_diskusage', '_rmtree_safe_fd', '_rmtree_unsafe', '_samefile', '_unpack_tarfile', '_unpack_zipfile', '_use_fd_functions', 'chown', 'collections', 'copy', 'copy2', 'copyfile', 'copyfileobj', 'copymode', 'copystat', 'copytree', 'disk_usage', 'errno', 'fnmatch', 'get_archive_formats', 'get_terminal_size', 'get_unpack_formats', 'getgrnam', 'getpwnam', 'ignore_patterns', 'make_archive', 'move', 'nt', 'os', 'register_archive_format', 'register_unpack_format', 'rmtree', 'stat', 'sys', 'unpack_archive', 'unregister_archive_format', 'unregister_unpack_format', 'which']\n"
     ]
    }
   ],
   "source": [
    "print(dir(shutil))"
   ]
  },
  {
   "cell_type": "code",
   "execution_count": 16,
   "metadata": {},
   "outputs": [
    {
     "data": {
      "text/plain": [
       "'/users/sachin yadav/desktop/hello.txt'"
      ]
     },
     "execution_count": 16,
     "metadata": {},
     "output_type": "execute_result"
    }
   ],
   "source": [
    "shutil.copyfile('sachin.txt','/users/sachin yadav/desktop/hello.txt')"
   ]
  },
  {
   "cell_type": "code",
   "execution_count": 19,
   "metadata": {},
   "outputs": [
    {
     "data": {
      "text/plain": [
       "'/users/sachin yadav/desktop/hello'"
      ]
     },
     "execution_count": 19,
     "metadata": {},
     "output_type": "execute_result"
    }
   ],
   "source": [
    "shutil.copytree('modules_in_python','/users/sachin yadav/desktop/hello')"
   ]
  },
  {
   "cell_type": "code",
   "execution_count": 25,
   "metadata": {},
   "outputs": [
    {
     "data": {
      "text/plain": [
       "True"
      ]
     },
     "execution_count": 25,
     "metadata": {},
     "output_type": "execute_result"
    }
   ],
   "source": [
    "import os\n",
    "os.path.exists('Standard_Modules_In_Python.ipynb')"
   ]
  },
  {
   "cell_type": "code",
   "execution_count": 30,
   "metadata": {},
   "outputs": [
    {
     "data": {
      "text/plain": [
       "'/users/sachin yadav/documents/github/pythoninternbatch2018/after_noon_batch/bye'"
      ]
     },
     "execution_count": 30,
     "metadata": {},
     "output_type": "execute_result"
    }
   ],
   "source": [
    "shutil.move('/users/sachin yadav/desktop/bye','/users/sachin yadav/documents/github/pythoninternbatch2018/after_noon_batch/bye')"
   ]
  },
  {
   "cell_type": "code",
   "execution_count": 33,
   "metadata": {},
   "outputs": [
    {
     "ename": "PermissionError",
     "evalue": "[WinError 5] Access is denied: '/users/sachin yadav/documents/github/pythoninternbatch2018/after_noon_batch/bye'",
     "output_type": "error",
     "traceback": [
      "\u001b[1;31m---------------------------------------------------------------------------\u001b[0m",
      "\u001b[1;31mPermissionError\u001b[0m                           Traceback (most recent call last)",
      "\u001b[1;32m<ipython-input-33-a3114cd860fe>\u001b[0m in \u001b[0;36m<module>\u001b[1;34m()\u001b[0m\n\u001b[1;32m----> 1\u001b[1;33m \u001b[0mos\u001b[0m\u001b[1;33m.\u001b[0m\u001b[0munlink\u001b[0m\u001b[1;33m(\u001b[0m\u001b[1;34m'/users/sachin yadav/documents/github/pythoninternbatch2018/after_noon_batch/bye'\u001b[0m\u001b[1;33m)\u001b[0m\u001b[1;33m\u001b[0m\u001b[0m\n\u001b[0m",
      "\u001b[1;31mPermissionError\u001b[0m: [WinError 5] Access is denied: '/users/sachin yadav/documents/github/pythoninternbatch2018/after_noon_batch/bye'"
     ]
    }
   ],
   "source": [
    "os.unlink('/users/sachin yadav/documents/github/pythoninternbatch2018/after_noon_batch/bye')"
   ]
  },
  {
   "cell_type": "code",
   "execution_count": 34,
   "metadata": {
    "collapsed": true
   },
   "outputs": [],
   "source": [
    "import glob"
   ]
  },
  {
   "cell_type": "code",
   "execution_count": 35,
   "metadata": {},
   "outputs": [
    {
     "name": "stdout",
     "output_type": "stream",
     "text": [
      "['__all__', '__builtins__', '__cached__', '__doc__', '__file__', '__loader__', '__name__', '__package__', '__spec__', '_glob0', '_glob1', '_glob2', '_iglob', '_ishidden', '_isrecursive', '_iterdir', '_rlistdir', 'escape', 'fnmatch', 'glob', 'glob0', 'glob1', 'has_magic', 'iglob', 'magic_check', 'magic_check_bytes', 'os', 're']\n"
     ]
    }
   ],
   "source": [
    "print(dir(glob))"
   ]
  },
  {
   "cell_type": "code",
   "execution_count": 36,
   "metadata": {},
   "outputs": [
    {
     "name": "stdout",
     "output_type": "stream",
     "text": [
      "Filename matching with shell patterns.\n",
      "\n",
      "fnmatch(FILENAME, PATTERN) matches according to the local convention.\n",
      "fnmatchcase(FILENAME, PATTERN) always takes case in account.\n",
      "\n",
      "The functions operate by translating the pattern into a regular\n",
      "expression.  They cache the compiled regular expressions for speed.\n",
      "\n",
      "The function translate(PATTERN) returns a regular expression\n",
      "corresponding to PATTERN.  (It does not compile it.)\n",
      "\n"
     ]
    }
   ],
   "source": [
    "print(glob.fnmatch.__doc__)"
   ]
  },
  {
   "cell_type": "code",
   "execution_count": 40,
   "metadata": {},
   "outputs": [
    {
     "ename": "TypeError",
     "evalue": "'module' object is not callable",
     "output_type": "error",
     "traceback": [
      "\u001b[1;31m---------------------------------------------------------------------------\u001b[0m",
      "\u001b[1;31mTypeError\u001b[0m                                 Traceback (most recent call last)",
      "\u001b[1;32m<ipython-input-40-9d82b1b9d33c>\u001b[0m in \u001b[0;36m<module>\u001b[1;34m()\u001b[0m\n\u001b[1;32m----> 1\u001b[1;33m \u001b[0mglob\u001b[0m\u001b[1;33m.\u001b[0m\u001b[0mfnmatch\u001b[0m\u001b[1;33m(\u001b[0m\u001b[1;34m'./Standard_Modules_In_Python'\u001b[0m\u001b[1;33m,\u001b[0m\u001b[1;34m'shutil'\u001b[0m\u001b[1;33m)\u001b[0m\u001b[1;33m\u001b[0m\u001b[0m\n\u001b[0m",
      "\u001b[1;31mTypeError\u001b[0m: 'module' object is not callable"
     ]
    }
   ],
   "source": [
    "glob.fnmatch('./Standard_Modules_In_Python','shutil')"
   ]
  },
  {
   "cell_type": "code",
   "execution_count": 41,
   "metadata": {},
   "outputs": [
    {
     "data": {
      "text/plain": [
       "['__all__',\n",
       " '__builtins__',\n",
       " '__cached__',\n",
       " '__doc__',\n",
       " '__file__',\n",
       " '__loader__',\n",
       " '__name__',\n",
       " '__package__',\n",
       " '__spec__',\n",
       " '_compile_pattern',\n",
       " 'filter',\n",
       " 'fnmatch',\n",
       " 'fnmatchcase',\n",
       " 'functools',\n",
       " 'os',\n",
       " 'posixpath',\n",
       " 're',\n",
       " 'translate']"
      ]
     },
     "execution_count": 41,
     "metadata": {},
     "output_type": "execute_result"
    }
   ],
   "source": [
    "dir(glob.fnmatch)"
   ]
  },
  {
   "cell_type": "code",
   "execution_count": 43,
   "metadata": {},
   "outputs": [
    {
     "data": {
      "text/plain": [
       "['sachin.txt']"
      ]
     },
     "execution_count": 43,
     "metadata": {},
     "output_type": "execute_result"
    }
   ],
   "source": [
    "glob.glob(\"*.txt\")"
   ]
  },
  {
   "cell_type": "code",
   "execution_count": 45,
   "metadata": {},
   "outputs": [
    {
     "name": "stdout",
     "output_type": "stream",
     "text": [
      "(1, 5) (2, 6) (3, 7) (4, 8)\n"
     ]
    }
   ],
   "source": [
    "l = [ 1,2,3,4]\n",
    "l1 = [ 5,6,7,8]\n",
    "print(*zip(l,l1))"
   ]
  },
  {
   "cell_type": "code",
   "execution_count": 47,
   "metadata": {},
   "outputs": [
    {
     "data": {
      "text/plain": [
       "65"
      ]
     },
     "execution_count": 47,
     "metadata": {},
     "output_type": "execute_result"
    }
   ],
   "source": [
    "x = [1,2,3,5,45,4,3,2]\n",
    "sum(x)"
   ]
  },
  {
   "cell_type": "code",
   "execution_count": 48,
   "metadata": {},
   "outputs": [
    {
     "data": {
      "text/plain": [
       "45"
      ]
     },
     "execution_count": 48,
     "metadata": {},
     "output_type": "execute_result"
    }
   ],
   "source": [
    "max(x)"
   ]
  },
  {
   "cell_type": "code",
   "execution_count": 49,
   "metadata": {},
   "outputs": [
    {
     "data": {
      "text/plain": [
       "1"
      ]
     },
     "execution_count": 49,
     "metadata": {},
     "output_type": "execute_result"
    }
   ],
   "source": [
    "min(x)"
   ]
  },
  {
   "cell_type": "code",
   "execution_count": 50,
   "metadata": {},
   "outputs": [
    {
     "data": {
      "text/plain": [
       "[1, 2, 2, 3, 3, 4, 5, 45]"
      ]
     },
     "execution_count": 50,
     "metadata": {},
     "output_type": "execute_result"
    }
   ],
   "source": [
    "sorted(x)"
   ]
  },
  {
   "cell_type": "code",
   "execution_count": 51,
   "metadata": {
    "collapsed": true
   },
   "outputs": [],
   "source": [
    "s = [ 'hello','hi','good','bye','something','variable','python','java']"
   ]
  },
  {
   "cell_type": "code",
   "execution_count": 52,
   "metadata": {},
   "outputs": [
    {
     "data": {
      "text/plain": [
       "['bye', 'good', 'hello', 'hi', 'java', 'python', 'something', 'variable']"
      ]
     },
     "execution_count": 52,
     "metadata": {},
     "output_type": "execute_result"
    }
   ],
   "source": [
    "sorted(s)"
   ]
  },
  {
   "cell_type": "code",
   "execution_count": 53,
   "metadata": {},
   "outputs": [
    {
     "data": {
      "text/plain": [
       "['h', 'n', 'o', 'p', 't', 'y']"
      ]
     },
     "execution_count": 53,
     "metadata": {},
     "output_type": "execute_result"
    }
   ],
   "source": [
    "s = 'python'\n",
    "sorted(s)"
   ]
  },
  {
   "cell_type": "code",
   "execution_count": 55,
   "metadata": {},
   "outputs": [
    {
     "data": {
      "text/plain": [
       "['are', 'hello', 'how', 'world', 'you']"
      ]
     },
     "execution_count": 55,
     "metadata": {},
     "output_type": "execute_result"
    }
   ],
   "source": [
    "s = 'hello world how are you'.split()\n",
    "sorted(s)"
   ]
  },
  {
   "cell_type": "code",
   "execution_count": 56,
   "metadata": {
    "collapsed": true
   },
   "outputs": [],
   "source": [
    "import sys"
   ]
  },
  {
   "cell_type": "code",
   "execution_count": 57,
   "metadata": {},
   "outputs": [
    {
     "name": "stderr",
     "output_type": "stream",
     "text": [
      "Warning,System is Hacked"
     ]
    }
   ],
   "source": [
    "sys.stderr.write('Warning,System is Hacked')"
   ]
  },
  {
   "cell_type": "code",
   "execution_count": 58,
   "metadata": {
    "collapsed": true
   },
   "outputs": [],
   "source": [
    "import math"
   ]
  },
  {
   "cell_type": "code",
   "execution_count": 59,
   "metadata": {},
   "outputs": [
    {
     "name": "stdout",
     "output_type": "stream",
     "text": [
      "['__doc__', '__loader__', '__name__', '__package__', '__spec__', 'acos', 'acosh', 'asin', 'asinh', 'atan', 'atan2', 'atanh', 'ceil', 'copysign', 'cos', 'cosh', 'degrees', 'e', 'erf', 'erfc', 'exp', 'expm1', 'fabs', 'factorial', 'floor', 'fmod', 'frexp', 'fsum', 'gamma', 'gcd', 'hypot', 'inf', 'isclose', 'isfinite', 'isinf', 'isnan', 'ldexp', 'lgamma', 'log', 'log10', 'log1p', 'log2', 'modf', 'nan', 'pi', 'pow', 'radians', 'sin', 'sinh', 'sqrt', 'tan', 'tanh', 'tau', 'trunc']\n"
     ]
    }
   ],
   "source": [
    "print(dir(math))"
   ]
  },
  {
   "cell_type": "code",
   "execution_count": 60,
   "metadata": {},
   "outputs": [
    {
     "name": "stdout",
     "output_type": "stream",
     "text": [
      "['BPF', 'LOG4', 'NV_MAGICCONST', 'RECIP_BPF', 'Random', 'SG_MAGICCONST', 'SystemRandom', 'TWOPI', '_BuiltinMethodType', '_MethodType', '_Sequence', '_Set', '__all__', '__builtins__', '__cached__', '__doc__', '__file__', '__loader__', '__name__', '__package__', '__spec__', '_acos', '_bisect', '_ceil', '_cos', '_e', '_exp', '_inst', '_itertools', '_log', '_pi', '_random', '_sha512', '_sin', '_sqrt', '_test', '_test_generator', '_urandom', '_warn', 'betavariate', 'choice', 'choices', 'expovariate', 'gammavariate', 'gauss', 'getrandbits', 'getstate', 'lognormvariate', 'normalvariate', 'paretovariate', 'randint', 'random', 'randrange', 'sample', 'seed', 'setstate', 'shuffle', 'triangular', 'uniform', 'vonmisesvariate', 'weibullvariate']\n"
     ]
    }
   ],
   "source": [
    "import random\n",
    "print(dir(random))"
   ]
  },
  {
   "cell_type": "code",
   "execution_count": 61,
   "metadata": {
    "collapsed": true
   },
   "outputs": [],
   "source": [
    "import statistics as stats\n"
   ]
  },
  {
   "cell_type": "code",
   "execution_count": 62,
   "metadata": {
    "collapsed": true
   },
   "outputs": [],
   "source": [
    "import numpy as np\n",
    "x = np.random.randint(18,50,50)"
   ]
  },
  {
   "cell_type": "code",
   "execution_count": 63,
   "metadata": {},
   "outputs": [
    {
     "data": {
      "text/plain": [
       "array([26, 27, 26, 34, 18, 40, 19, 32, 20, 24, 29, 33, 33, 35, 44, 38, 44,\n",
       "       36, 43, 32, 45, 38, 32, 30, 21, 28, 27, 39, 22, 32, 48, 33, 47, 40,\n",
       "       33, 49, 45, 43, 41, 42, 23, 42, 45, 47, 31, 22, 32, 27, 39, 49])"
      ]
     },
     "execution_count": 63,
     "metadata": {},
     "output_type": "execute_result"
    }
   ],
   "source": [
    "x"
   ]
  },
  {
   "cell_type": "code",
   "execution_count": 65,
   "metadata": {},
   "outputs": [
    {
     "name": "stdout",
     "output_type": "stream",
     "text": [
      "[18, 19, 20, 21, 22, 22, 23, 24, 26, 26, 27, 27, 27, 28, 29, 30, 31, 32, 32, 32, 32, 32, 33, 33, 33, 33, 34, 35, 36, 38, 38, 39, 39, 40, 40, 41, 42, 42, 43, 43, 44, 44, 45, 45, 45, 47, 47, 48, 49, 49]\n"
     ]
    }
   ],
   "source": [
    "print(sorted(x))"
   ]
  },
  {
   "cell_type": "code",
   "execution_count": 66,
   "metadata": {},
   "outputs": [
    {
     "data": {
      "text/plain": [
       "34"
      ]
     },
     "execution_count": 66,
     "metadata": {},
     "output_type": "execute_result"
    }
   ],
   "source": [
    "stats.mean(x)"
   ]
  },
  {
   "cell_type": "code",
   "execution_count": 67,
   "metadata": {},
   "outputs": [
    {
     "data": {
      "text/plain": [
       "33.0"
      ]
     },
     "execution_count": 67,
     "metadata": {},
     "output_type": "execute_result"
    }
   ],
   "source": [
    "stats.median(x)"
   ]
  },
  {
   "cell_type": "code",
   "execution_count": 71,
   "metadata": {},
   "outputs": [
    {
     "data": {
      "text/plain": [
       "76"
      ]
     },
     "execution_count": 71,
     "metadata": {},
     "output_type": "execute_result"
    }
   ],
   "source": [
    "stats.variance(x)"
   ]
  },
  {
   "cell_type": "code",
   "execution_count": 72,
   "metadata": {},
   "outputs": [
    {
     "data": {
      "text/plain": [
       "8.717797887081348"
      ]
     },
     "execution_count": 72,
     "metadata": {},
     "output_type": "execute_result"
    }
   ],
   "source": [
    "stats.stdev(x)"
   ]
  },
  {
   "cell_type": "code",
   "execution_count": 73,
   "metadata": {
    "collapsed": true
   },
   "outputs": [],
   "source": [
    "from urllib.request import urlopen"
   ]
  },
  {
   "cell_type": "code",
   "execution_count": 74,
   "metadata": {
    "collapsed": true
   },
   "outputs": [],
   "source": [
    "x = urlopen('http://google.co.in')\n"
   ]
  },
  {
   "cell_type": "code",
   "execution_count": 75,
   "metadata": {},
   "outputs": [
    {
     "data": {
      "text/plain": [
       "<http.client.HTTPResponse at 0x2110c5d9390>"
      ]
     },
     "execution_count": 75,
     "metadata": {},
     "output_type": "execute_result"
    }
   ],
   "source": [
    "x"
   ]
  },
  {
   "cell_type": "code",
   "execution_count": 76,
   "metadata": {},
   "outputs": [
    {
     "name": "stdout",
     "output_type": "stream",
     "text": [
      "b'<!doctype html><html itemscope=\"\" itemtype=\"http://schema.org/WebPage\" lang=\"en-IN\"><head><meta content=\"text/html; charset=UTF-8\" http-equiv=\"Content-Type\"><meta content=\"/logos/doodles/2018/world-cup-2018-day-14-6046718054367232-5645478960037888-ssw.png\" itemprop=\"image\"><meta content=\"World Cup 2018 - Day 14\" property=\"twitter:title\"><meta content=\"Let the matches begin! Celebrate &#9917; around the &#127758;&#127757;&#127759; in today\\'s #GoogleDoodle!\" property=\"twitter:description\"><meta content=\"Let the matches begin! Celebrate &#9917; around the &#127758;&#127757;&#127759; in today\\'s #GoogleDoodle!\" property=\"og:description\"><meta content=\"summary_large_image\" property=\"twitter:card\"><meta content=\"@GoogleDoodles\" property=\"twitter:site\"><meta content=\"https://www.google.com/logos/doodles/2018/world-cup-2018-day-14-6046718054367232-2xa.gif\" property=\"twitter:image\"><meta content=\"https://www.google.com/logos/doodles/2018/world-cup-2018-day-14-6046718054367232-2xa.gif\" property=\"og:image\"><meta content=\"1067\" property=\"og:image:width\"><meta content=\"460\" property=\"og:image:height\"><meta content=\"https://www.google.com/logos/doodles/2018/world-cup-2018-day-14-6046718054367232-2xa.gif\" property=\"og:url\"><meta content=\"video.other\" property=\"og:type\"><title>Google</title><script nonce=\"xh7SEJbozO1/g/l+bEmnSQ==\">(function(){window.google={kEI:\\'QmozW-69E9GR9QOj7rSoAw\\',kEXPI:\\'0,1353746,58,1653,305,1017,281,709,900,740,196,40,371,44,4,176,28,67,2339727,232,195,32,329294,1294,12383,2349,2506,32692,15247,867,316,1264,7,649,9927,5281,621,479,854,2481,2,2,2138,4663,368,549,664,326,1776,113,1149,1052,3191,224,2218,58,72,130,1028,3600,479,444,131,1119,2,579,727,311,3,298,1820,58,2,2,2,1297,1343,369,28,849,499,505,730,377,26,1214,479,664,630,8,300,1269,222,552,94,432,706,1019,280,2,694,148,282,1701,758,28,850,392,133,22,177,422,5,2,2,152,272,233,441,1201,115,2,75,3,937,3,391,29,272,33,412,5,447,509,1236,351,213,83,447,897,38,166,475,186,14,43,15,10,172,334,116,7,7,325,25,526,98,143,122,105,386,8,806,96,182,7,3,25,27,58,378,620,29,437,233,35,189,4,4,4,4,79,406,458,63,77,139,326,292,6,871,178,326,2327802,3685997,13,1860,681,5997389,239,2800158,4,1572,549,332,445,1,2,1,1,77,1,1,900,207,1,1,1,1,1,363,17,304,1,8,1,2,1,1,1523,8,7,93,5,30,1,1,1,63,31,1,1,1,19,11,19,3,6,22,1,22310089\\',authuser:0,kscs:\\'c9c918f0_QmozW-69E9GR9QOj7rSoAw\\',kGL:\\'IN\\'};google.kHL=\\'en-IN\\';})();google.time=function(){return(new Date).getTime()};(function(){google.lc=[];google.li=0;google.getEI=function(a){for(var b;a&&(!a.getAttribute||!(b=a.getAttribute(\"eid\")));)a=a.parentNode;return b||google.kEI};google.getLEI=function(a){for(var b=null;a&&(!a.getAttribute||!(b=a.getAttribute(\"leid\")));)a=a.parentNode;return b};google.https=function(){return\"https:\"==window.location.protocol};google.ml=function(){return null};google.wl=function(a,b){try{google.ml(Error(a),!1,b)}catch(d){}};google.log=function(a,b,d,c,g){if(a=google.logUrl(a,b,d,c,g)){b=new Image;var e=google.lc,f=google.li;e[f]=b;b.onerror=b.onload=b.onabort=function(){delete e[f]};google.vel&&google.vel.lu&&google.vel.lu(a);b.src=a;google.li=f+1}};google.logUrl=function(a,b,d,c,g){var e=\"\",f=google.ls||\"\";d||-1!=b.search(\"&ei=\")||(e=\"&ei=\"+google.getEI(c),-1==b.search(\"&lei=\")&&(c=google.getLEI(c))&&(e+=\"&lei=\"+c));c=\"\";!d&&google.cshid&&-1==b.search(\"&cshid=\")&&\"slh\"!=a&&(c=\"&cshid=\"+google.cshid);a=d||\"/\"+(g||\"gen_204\")+\"?atyp=i&ct=\"+a+\"&cad=\"+b+e+f+\"&zx=\"+google.time()+c;/^http:/i.test(a)&&google.https()&&(google.ml(Error(\"a\"),!1,{src:a,glmm:1}),a=\"\");return a};}).call(this);(function(){google.y={};google.x=function(a,b){if(a)var c=a.id;else{do c=Math.random();while(google.y[c])}google.y[c]=[a,b];return!1};google.lm=[];google.plm=function(a){google.lm.push.apply(google.lm,a)};google.lq=[];google.load=function(a,b,c){google.lq.push([[a],b,c])};google.loadAll=function(a,b){google.lq.push([a,b])};}).call(this);google.f={};var a=window.location,b=a.href.indexOf(\"#\");if(0<=b){var c=a.href.substring(b+1);/(^|&)q=/.test(c)&&-1==c.indexOf(\"#\")&&a.replace(\"/search?\"+c.replace(/(^|&)fp=[^&]*/g,\"\")+\"&cad=h\")};</script><style>#gbar,#guser{font-size:13px;padding-top:1px !important;}#gbar{height:22px}#guser{padding-bottom:7px !important;text-align:right}.gbh,.gbd{border-top:1px solid #c9d7f1;font-size:1px}.gbh{height:0;position:absolute;top:24px;width:100%}@media all{.gb1{height:22px;margin-right:.5em;vertical-align:top}#gbar{float:left}}a.gb1,a.gb4{text-decoration:underline !important}a.gb1,a.gb4{color:#00c !important}.gbi .gb4{color:#dd8e27 !important}.gbf .gb4{color:#900 !important}\\n'\n",
      "b'</style><style>body,td,a,p,.h{font-family:arial,sans-serif}body{margin:0;overflow-y:scroll}#gog{padding:3px 8px 0}td{line-height:.8em}.gac_m td{line-height:17px}form{margin-bottom:20px}.h{color:#36c}.q{color:#00c}.ts td{padding:0}.ts{border-collapse:collapse}em{font-weight:bold;font-style:normal}.lst{height:25px;width:496px}.gsfi,.lst{font:18px arial,sans-serif}.gsfs{font:17px arial,sans-serif}.ds{display:inline-box;display:inline-block;margin:3px 0 4px;margin-left:4px}input{font-family:inherit}a.gb1,a.gb2,a.gb3,a.gb4{color:#11c !important}body{background:#fff;color:black}a{color:#11c;text-decoration:none}a:hover,a:active{text-decoration:underline}.fl a{color:#36c}a:visited{color:#551a8b}a.gb1,a.gb4{text-decoration:underline}a.gb3:hover{text-decoration:none}#ghead a.gb2:hover{color:#fff !important}.sblc{padding-top:5px}.sblc a{display:block;margin:2px 0;margin-left:13px;font-size:11px}.lsbb{background:#eee;border:solid 1px;border-color:#ccc #999 #999 #ccc;height:30px}.lsbb{display:block}.ftl,#fll a{display:inline-block;margin:0 12px}.lsb{background:url(/images/nav_logo229.png) 0 -261px repeat-x;border:none;color:#000;cursor:pointer;height:30px;margin:0;outline:0;font:15px arial,sans-serif;vertical-align:top}.lsb:active{background:#ccc}.lst:focus{outline:none}</style><script nonce=\"xh7SEJbozO1/g/l+bEmnSQ==\"></script><link href=\"/images/branding/product/ico/googleg_lodp.ico\" rel=\"shortcut icon\"></head><body bgcolor=\"#fff\"><script nonce=\"xh7SEJbozO1/g/l+bEmnSQ==\">(function(){var src=\\'/images/nav_logo229.png\\';var iesg=false;document.body.onload = function(){window.n && window.n();if (document.images){new Image().src=src;}\\n'\n",
      "b'if (!iesg){document.f&&document.f.q.focus();document.gbqf&&document.gbqf.q.focus();}\\n'\n",
      "b'}\\n'\n",
      "b'})();</script><div id=\"mngb\"> <div id=gbar><nobr><b class=gb1>Search</b> <a class=gb1 href=\"http://www.google.co.in/imghp?hl=en&tab=wi\">Images</a> <a class=gb1 href=\"http://maps.google.co.in/maps?hl=en&tab=wl\">Maps</a> <a class=gb1 href=\"https://play.google.com/?hl=en&tab=w8\">Play</a> <a class=gb1 href=\"http://www.youtube.com/?gl=IN&tab=w1\">YouTube</a> <a class=gb1 href=\"http://news.google.co.in/nwshp?hl=en&tab=wn\">News</a> <a class=gb1 href=\"https://mail.google.com/mail/?tab=wm\">Gmail</a> <a class=gb1 href=\"https://drive.google.com/?tab=wo\">Drive</a> <a class=gb1 style=\"text-decoration:none\" href=\"https://www.google.co.in/intl/en/options/\"><u>More</u> &raquo;</a></nobr></div><div id=guser width=100%><nobr><span id=gbn class=gbi></span><span id=gbf class=gbf></span><span id=gbe></span><a href=\"http://www.google.co.in/history/optout?hl=en\" class=gb4>Web History</a> | <a  href=\"/preferences?hl=en\" class=gb4>Settings</a> | <a target=_top id=gb_70 href=\"https://accounts.google.com/ServiceLogin?hl=en&passive=true&continue=http://www.google.co.in/\" class=gb4>Sign in</a></nobr></div><div class=gbh style=left:0></div><div class=gbh style=right:0></div> </div><center><br clear=\"all\" id=\"lgpd\"><div id=\"lga\"><a href=\"/search?site=&amp;ie=UTF-8&amp;q=World+Cup+2018&amp;oi=ddle&amp;ct=world-cup-2018-day-14-6046718054367232-lawcta&amp;hl=en&amp;sa=X&amp;ved=0ahUKEwju5onB1PPbAhXRSH0KHSM3DTUQPQgD\"><img alt=\"World Cup 2018 - Day 14\" border=\"0\" height=\"220\" src=\"/logos/doodles/2018/world-cup-2018-day-14-6046718054367232-5645478960037888-ssw.png\" title=\"World Cup 2018 - Day 14\" width=\"510\" id=\"hplogo\" onload=\"window.lol&&lol()\"><br></a><br></div><form action=\"/search\" name=\"f\"><table cellpadding=\"0\" cellspacing=\"0\"><tr valign=\"top\"><td width=\"25%\">&nbsp;</td><td align=\"center\" nowrap=\"\"><input name=\"ie\" value=\"ISO-8859-1\" type=\"hidden\"><input value=\"en-IN\" name=\"hl\" type=\"hidden\"><input name=\"source\" type=\"hidden\" value=\"hp\"><input name=\"biw\" type=\"hidden\"><input name=\"bih\" type=\"hidden\"><div class=\"ds\" style=\"height:32px;margin:4px 0\"><input style=\"color:#000;margin:0;padding:5px 8px 0 6px;vertical-align:top\" autocomplete=\"off\" class=\"lst\" value=\"\" title=\"Google Search\" maxlength=\"2048\" name=\"q\" size=\"57\"></div><br style=\"line-height:0\"><span class=\"ds\"><span class=\"lsbb\"><input class=\"lsb\" value=\"Google Search\" name=\"btnG\" type=\"submit\"></span></span><span class=\"ds\"><span class=\"lsbb\"><input class=\"lsb\" value=\"I\\'m Feeling Lucky\" name=\"btnI\" onclick=\"if(this.form.q.value)this.checked=1; else top.location=\\'/doodles/\\'\" type=\"submit\"></span></span></td><td class=\"fl sblc\" align=\"left\" nowrap=\"\" width=\"25%\"><a href=\"/advanced_search?hl=en-IN&amp;authuser=0\">Advanced search</a><a href=\"/language_tools?hl=en-IN&amp;authuser=0\">Language tools</a></td></tr></table><input id=\"gbv\" name=\"gbv\" type=\"hidden\" value=\"1\"></form><div id=\"gac_scont\"></div><div style=\"font-size:83%;min-height:3.5em\"><br><div id=\"gws-output-pages-elements-homepage_additional_languages__als\"><style>#gws-output-pages-elements-homepage_additional_languages__als{font-size:small;margin-bottom:24px}#SIvCob{display:inline-block;line-height:28px;}#SIvCob a{padding:0 3px;}.H6sW5{display:inline-block;margin:0 2px;white-space:nowrap}.z4hgWe{display:inline-block;margin:0 2px}</style><div id=\"SIvCob\">Google offered in:  <a href=\"http://www.google.co.in/setprefs?sig=0_zlaBeQAEfppaIhCgGGCYu-9QtAQ%3D&amp;hl=hi&amp;source=homepage&amp;sa=X&amp;ved=0ahUKEwju5onB1PPbAhXRSH0KHSM3DTUQ2ZgBCAU\">&#2361;&#2367;&#2344;&#2381;&#2342;&#2368;</a>    <a href=\"http://www.google.co.in/setprefs?sig=0_zlaBeQAEfppaIhCgGGCYu-9QtAQ%3D&amp;hl=bn&amp;source=homepage&amp;sa=X&amp;ved=0ahUKEwju5onB1PPbAhXRSH0KHSM3DTUQ2ZgBCAY\">&#2476;&#2494;&#2434;&#2482;&#2494;</a>    <a href=\"http://www.google.co.in/setprefs?sig=0_zlaBeQAEfppaIhCgGGCYu-9QtAQ%3D&amp;hl=te&amp;source=homepage&amp;sa=X&amp;ved=0ahUKEwju5onB1PPbAhXRSH0KHSM3DTUQ2ZgBCAc\">&#3108;&#3142;&#3122;&#3137;&#3095;&#3137;</a>    <a href=\"http://www.google.co.in/setprefs?sig=0_zlaBeQAEfppaIhCgGGCYu-9QtAQ%3D&amp;hl=mr&amp;source=homepage&amp;sa=X&amp;ved=0ahUKEwju5onB1PPbAhXRSH0KHSM3DTUQ2ZgBCAg\">&#2350;&#2352;&#2366;&#2336;&#2368;</a>    <a href=\"http://www.google.co.in/setprefs?sig=0_zlaBeQAEfppaIhCgGGCYu-9QtAQ%3D&amp;hl=ta&amp;source=homepage&amp;sa=X&amp;ved=0ahUKEwju5onB1PPbAhXRSH0KHSM3DTUQ2ZgBCAk\">&#2980;&#2990;&#3007;&#2996;&#3021;</a>    <a href=\"http://www.google.co.in/setprefs?sig=0_zlaBeQAEfppaIhCgGGCYu-9QtAQ%3D&amp;hl=gu&amp;source=homepage&amp;sa=X&amp;ved=0ahUKEwju5onB1PPbAhXRSH0KHSM3DTUQ2ZgBCAo\">&#2711;&#2753;&#2716;&#2736;&#2750;&#2724;&#2752;</a>    <a href=\"http://www.google.co.in/setprefs?sig=0_zlaBeQAEfppaIhCgGGCYu-9QtAQ%3D&amp;hl=kn&amp;source=homepage&amp;sa=X&amp;ved=0ahUKEwju5onB1PPbAhXRSH0KHSM3DTUQ2ZgBCAs\">&#3221;&#3240;&#3277;&#3240;&#3233;</a>    <a href=\"http://www.google.co.in/setprefs?sig=0_zlaBeQAEfppaIhCgGGCYu-9QtAQ%3D&amp;hl=ml&amp;source=homepage&amp;sa=X&amp;ved=0ahUKEwju5onB1PPbAhXRSH0KHSM3DTUQ2ZgBCAw\">&#3374;&#3378;&#3375;&#3390;&#3379;&#3330;</a>    <a href=\"http://www.google.co.in/setprefs?sig=0_zlaBeQAEfppaIhCgGGCYu-9QtAQ%3D&amp;hl=pa&amp;source=homepage&amp;sa=X&amp;ved=0ahUKEwju5onB1PPbAhXRSH0KHSM3DTUQ2ZgBCA0\">&#2602;&#2672;&#2588;&#2622;&#2604;&#2624;</a>  </div></div></div><span id=\"footer\"><div style=\"font-size:10pt\"><div style=\"margin:19px auto;text-align:center\" id=\"fll\"><a href=\"/intl/en/ads/\">Advertising\\xa0Programs</a><a href=\"http://www.google.co.in/services/\">Business Solutions</a><a href=\"https://plus.google.com/104205742743787718296\" rel=\"publisher\">+Google</a><a href=\"/intl/en/about.html\">About Google</a><a href=\"http://www.google.co.in/setprefdomain?prefdom=US&amp;sig=__ef8LzxDU15jzD1O-Pivs90TYLdM%3D\" id=\"fehl\">Google.com</a></div></div><p style=\"color:#767676;font-size:8pt\">&copy; 2018 - <a href=\"/intl/en/policies/privacy/\">Privacy</a> - <a href=\"/intl/en/policies/terms/\">Terms</a></p></span></center><script nonce=\"xh7SEJbozO1/g/l+bEmnSQ==\">(function(){window.google.cdo={height:0,width:0};(function(){var a=window.innerWidth,b=window.innerHeight;if(!a||!b){var c=window.document,d=\"CSS1Compat\"==c.compatMode?c.documentElement:c.body;a=d.clientWidth;b=d.clientHeight}a&&b&&(a!=google.cdo.width||b!=google.cdo.height)&&google.log(\"\",\"\",\"/client_204?&atyp=i&biw=\"+a+\"&bih=\"+b+\"&ei=\"+google.kEI);}).call(this);})();</script><div id=\"xjsd\"></div><div id=\"xjsi\"><script nonce=\"xh7SEJbozO1/g/l+bEmnSQ==\">(function(){function c(b){window.setTimeout(function(){var a=document.createElement(\"script\");a.src=b;google.timers&&google.timers.load.t&&google.tick&&google.tick(\"load\",{gen204:\"xjsls\",clearcut:31});document.getElementById(\"xjsd\").appendChild(a)},0)}google.dljp=function(b,a){google.xjsu=b;c(a)};google.dlj=c;}).call(this);if(!google.xjs){window._=window._||{};window._DumpException=window._._DumpException=function(e){throw e};window._F_installCss=window._._F_installCss=function(c){};google.dljp(\\'/xjs/_/js/k\\\\x3dxjs.hp.en.hFhMSvo1KiI.O/m\\\\x3dsb_he,d/am\\\\x3dVGFs/rt\\\\x3dj/d\\\\x3d1/rs\\\\x3dACT90oHc1vZS9qCuNv6T772cR-Fnn34nwA\\',\\'/xjs/_/js/k\\\\x3dxjs.hp.en.hFhMSvo1KiI.O/m\\\\x3dsb_he,d/am\\\\x3dVGFs/rt\\\\x3dj/d\\\\x3d1/rs\\\\x3dACT90oHc1vZS9qCuNv6T772cR-Fnn34nwA\\');google.xjs=1;}google.pmc={\"sb_he\":{\"agen\":true,\"cgen\":true,\"client\":\"heirloom-hp\",\"dh\":true,\"dhqt\":true,\"ds\":\"\",\"ffql\":\"en\",\"fl\":true,\"host\":\"google.co.in\",\"isbh\":28,\"jsonp\":true,\"msgs\":{\"cibl\":\"Clear Search\",\"dym\":\"Did you mean:\",\"lcky\":\"I\\\\u0026#39;m Feeling Lucky\",\"lml\":\"Learn more\",\"oskt\":\"Input tools\",\"psrc\":\"This search was removed from your \\\\u003Ca href=\\\\\"/history\\\\\"\\\\u003EWeb History\\\\u003C/a\\\\u003E\",\"psrl\":\"Remove\",\"sbit\":\"Search by image\",\"srch\":\"Google Search\"},\"nds\":true,\"ovr\":{},\"pq\":\"\",\"refpd\":true,\"rfs\":[],\"sbpl\":24,\"sbpr\":24,\"scd\":10,\"sce\":5,\"stok\":\"_fdGKX9--PGV4GeN1yIRaYIWI-c\"},\"d\":{},\"ZI/YVQ\":{},\"Qnk92g\":{},\"U5B21g\":{},\"DPBNMg\":{},\"YFCs/g\":{}};google.x(null,function(){});(function(){var r=[];google.plm(r);})();(function(){var m=[]\\n'\n",
      "b';google.jsc && google.jsc.m(m);})();</script></div></body></html>'\n"
     ]
    }
   ],
   "source": [
    "for var in x :\n",
    "    print(var)"
   ]
  },
  {
   "cell_type": "code",
   "execution_count": null,
   "metadata": {
    "collapsed": true
   },
   "outputs": [],
   "source": []
  }
 ],
 "metadata": {
  "kernelspec": {
   "display_name": "Python 3",
   "language": "python",
   "name": "python3"
  },
  "language_info": {
   "codemirror_mode": {
    "name": "ipython",
    "version": 3
   },
   "file_extension": ".py",
   "mimetype": "text/x-python",
   "name": "python",
   "nbconvert_exporter": "python",
   "pygments_lexer": "ipython3",
   "version": "3.6.3"
  }
 },
 "nbformat": 4,
 "nbformat_minor": 2
}
