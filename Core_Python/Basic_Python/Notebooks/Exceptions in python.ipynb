{
 "cells": [
  {
   "cell_type": "code",
   "execution_count": 22,
   "metadata": {},
   "outputs": [],
   "source": [
    "def iin():\n",
    "    try : \n",
    "        x  = int(input(\"Enter x : \"))\n",
    "        y = int(input(\"Enter y : \"))\n",
    "        r = x/y\n",
    "        print(r)\n",
    "        name = input(\"Enter file name to read : \")\n",
    "        f = open(name)\n",
    "        data = f.read()\n",
    "        print(data)\n",
    "    except Exception as err : \n",
    "        print(\"!!ERROR!!\",err)\n",
    "        iin()\n",
    "        \n",
    "        \n",
    "    \"\"\"\"except ValueError as arg : \n",
    "        print(\"You idiot only Interger.\")\n",
    "        iin()\n",
    "    except ZeroDivisionError as err : \n",
    "        print(\"You idiot nothing can be divided by zero.\")\n",
    "        iin()\n",
    "    \"\"\""
   ]
  },
  {
   "cell_type": "code",
   "execution_count": 23,
   "metadata": {},
   "outputs": [
    {
     "name": "stdout",
     "output_type": "stream",
     "text": [
      "Enter x : 3\n",
      "Enter y : 4\n",
      "0.75\n",
      "Enter file name to read : aldkfj\n",
      "!!ERROR!! [Errno 2] No such file or directory: 'aldkfj'\n",
      "Enter x : 1\n",
      "Enter y : 0\n",
      "!!ERROR!! division by zero\n",
      "Enter x : 55\n",
      "Enter y : 77\n",
      "0.7142857142857143\n",
      "Enter file name to read : abc\n",
      "\n"
     ]
    }
   ],
   "source": [
    "iin()"
   ]
  },
  {
   "cell_type": "code",
   "execution_count": 26,
   "metadata": {},
   "outputs": [
    {
     "ename": "FileNotFoundError",
     "evalue": "",
     "output_type": "error",
     "traceback": [
      "\u001b[1;31m---------------------------------------------------------------------------\u001b[0m",
      "\u001b[1;31mFileNotFoundError\u001b[0m                         Traceback (most recent call last)",
      "\u001b[1;32m<ipython-input-26-26596d5f0338>\u001b[0m in \u001b[0;36m<module>\u001b[1;34m()\u001b[0m\n\u001b[1;32m----> 1\u001b[1;33m \u001b[1;32mraise\u001b[0m \u001b[0mFileNotFoundError\u001b[0m\u001b[1;33m\u001b[0m\u001b[0m\n\u001b[0m",
      "\u001b[1;31mFileNotFoundError\u001b[0m: "
     ]
    }
   ],
   "source": [
    "raise FileNotFoundError"
   ]
  },
  {
   "cell_type": "code",
   "execution_count": 28,
   "metadata": {},
   "outputs": [
    {
     "name": "stdout",
     "output_type": "stream",
     "text": [
      "Postive : -123\n",
      "Error Bhaisaab positive matlab positive. -123 is not positive\n"
     ]
    }
   ],
   "source": [
    "try : \n",
    "    x = int(input(\"Postive : \"))\n",
    "    if x < 0 :\n",
    "        raise ValueError(\"Bhaisaab positive matlab positive. {} is not positive\".format(x))\n",
    "except ValueError as e :\n",
    "    print('Error',e)"
   ]
  },
  {
   "cell_type": "code",
   "execution_count": 31,
   "metadata": {},
   "outputs": [
    {
     "name": "stdout",
     "output_type": "stream",
     "text": [
      "Postive : -123\n",
      "Error Bhaisaab positive matlab positive. -123 is not positive\n"
     ]
    }
   ],
   "source": [
    "try : \n",
    "    x = int(input(\"Postive : \"))\n",
    "    assert x > 0 , \"Bhaisaab positive matlab positive. {} is not positive\".format(x)\n",
    "except AssertionError as e :\n",
    "    print('Error',e)"
   ]
  },
  {
   "cell_type": "code",
   "execution_count": 34,
   "metadata": {},
   "outputs": [
    {
     "name": "stdout",
     "output_type": "stream",
     "text": [
      "Enter a positive number : -123\n",
      "Error !  !!!-123!!! Not a Positive Number\n"
     ]
    }
   ],
   "source": [
    "class MyError(ValueError):\n",
    "    def __init__(self,arg):\n",
    "        ValueError.__init__(self,arg)\n",
    "        self.e = arg\n",
    "    def __str__(self):\n",
    "        return \"!!!{}!!! Not a Positive Number\".format(self.e)\n",
    "    \n",
    "try : \n",
    "    x = int(input(\"Enter a positive number : \"))\n",
    "    if x < 0 :\n",
    "        raise MyError(x)\n",
    "except MyError as e :\n",
    "    print(\"Error ! \",e)"
   ]
  },
  {
   "cell_type": "code",
   "execution_count": null,
   "metadata": {
    "collapsed": true
   },
   "outputs": [],
   "source": []
  }
 ],
 "metadata": {
  "kernelspec": {
   "display_name": "Python 3",
   "language": "python",
   "name": "python3"
  },
  "language_info": {
   "codemirror_mode": {
    "name": "ipython",
    "version": 3
   },
   "file_extension": ".py",
   "mimetype": "text/x-python",
   "name": "python",
   "nbconvert_exporter": "python",
   "pygments_lexer": "ipython3",
   "version": "3.6.3"
  }
 },
 "nbformat": 4,
 "nbformat_minor": 2
}
