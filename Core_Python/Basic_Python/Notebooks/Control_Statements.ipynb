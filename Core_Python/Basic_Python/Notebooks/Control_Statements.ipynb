{
 "cells": [
  {
   "cell_type": "markdown",
   "metadata": {},
   "source": [
    "<h1 style=\"color:red\">Control Statements</h1>"
   ]
  },
  {
   "cell_type": "code",
   "execution_count": 2,
   "metadata": {},
   "outputs": [
    {
     "name": "stdout",
     "output_type": "stream",
     "text": [
      "Enter a Number : 10\n",
      "Even\n"
     ]
    }
   ],
   "source": [
    "#Even Odd\n",
    "\n",
    "num = int(input(\"Enter a Number : \"))\n",
    "if num % 2 :\n",
    "    print(\"Odd\")\n",
    "else :\n",
    "    print(\"Even\")\n",
    "    "
   ]
  },
  {
   "cell_type": "code",
   "execution_count": 4,
   "metadata": {},
   "outputs": [
    {
     "name": "stdout",
     "output_type": "stream",
     "text": [
      "Enter your Choice : b a r\n",
      "foo|bar\n"
     ]
    }
   ],
   "source": [
    "ch = input(\"Enter your Choice : \").strip().lower()\n",
    "if ch == 'foo' :\n",
    "    print(\"bar\")\n",
    "elif ch == 'bar' :\n",
    "    print(\"foo\")\n",
    "else :\n",
    "    print(\"foo|bar\")\n",
    "    \n"
   ]
  },
  {
   "cell_type": "code",
   "execution_count": 5,
   "metadata": {},
   "outputs": [
    {
     "name": "stdout",
     "output_type": "stream",
     "text": [
      "X : 14\n",
      "Y : 14\n",
      "Z : 16\n",
      "16 is Greatest\n"
     ]
    }
   ],
   "source": [
    "#Greatest Among Three\n",
    "x = int(input(\"X : \"))\n",
    "y = int(input(\"Y : \"))\n",
    "z = int(input(\"Z : \"))\n",
    "\n",
    "#your code goes here to print greatest number among x,y,z\n",
    "\n",
    "if x >= y and x >= z :\n",
    "    print(\"{} is Greatest\".format(x))\n",
    "elif y >= x and y >= z :\n",
    "    print(\"{} is Greatest\".format(y))\n",
    "else :\n",
    "    print(\"{} is Greatest\".format(z))\n"
   ]
  },
  {
   "cell_type": "code",
   "execution_count": 9,
   "metadata": {},
   "outputs": [
    {
     "name": "stdout",
     "output_type": "stream",
     "text": [
      "X : 9\n",
      "Y : 5\n",
      "Z : 5\n",
      "9 is greatest.\n"
     ]
    }
   ],
   "source": [
    "x = int(input(\"X : \"))\n",
    "y = int(input(\"Y : \"))\n",
    "z = int(input(\"Z : \"))\n",
    "\n",
    "if x > y :\n",
    "    if x > z :\n",
    "        print(\"%d is greatest.\"%(x))\n",
    "    else :\n",
    "        print(\"%d is greatest\"%(z))\n",
    "elif y > z :\n",
    "    print(\"%d is greatest\"%(y))\n",
    "\n",
    "else :\n",
    "    print(\"%d is greatest\"%(z))\n",
    "    "
   ]
  },
  {
   "cell_type": "code",
   "execution_count": 17,
   "metadata": {},
   "outputs": [
    {
     "name": "stdout",
     "output_type": "stream",
     "text": [
      "X : 8\n",
      "Y : 9\n",
      "Operation (+,-,*,/,%,//,**) : //\n",
      "8.0 // 9.0 = 0.0\n"
     ]
    }
   ],
   "source": [
    "r = 0.0\n",
    "s = 'kuch bhi'\n",
    "x = float(input(\"X : \"))\n",
    "y = float(input(\"Y : \"))\n",
    "ch = input(\"Operation (+,-,*,/,%,//,**) : \").strip()\n",
    "if ch == '+' : \n",
    "    r = x + y\n",
    "    s = 0\n",
    "elif ch == '-' :\n",
    "    r = x - y \n",
    "    s = 0\n",
    "elif ch == '*' :\n",
    "    r = x * y\n",
    "    s = 0\n",
    "elif ch == '**' :\n",
    "    r = x ** y\n",
    "    s = 0\n",
    "else :\n",
    "    if y != 0 :\n",
    "        if ch == '/' :\n",
    "            r = x / y\n",
    "            s = 0\n",
    "        elif ch == '%' :\n",
    "            r = x % y\n",
    "            s = 0\n",
    "        elif ch == '//' :\n",
    "            r = x // y\n",
    "            s = 0\n",
    "        else :\n",
    "            s = \"Wrong Choice\"\n",
    "    else :\n",
    "        s = \"Error!! You can't divide a num by 0 \"\n",
    "\n",
    "if not ( r or s )  :    \n",
    "    print(\"{} {} {} = {}\".format(x,ch,y,r))\n",
    "else :\n",
    "    print(s)\n"
   ]
  },
  {
   "cell_type": "code",
   "execution_count": 22,
   "metadata": {},
   "outputs": [
    {
     "name": "stdout",
     "output_type": "stream",
     "text": [
      "Month Number (1-12) : 5\n",
      "Before Months are  Jan Feb Mar Apr\n",
      "The Given Month is  May\n",
      "After Months are  June July Aug Sep Oct Nov Dec\n"
     ]
    }
   ],
   "source": [
    "l = [ 'Jan', 'Feb', 'Mar', 'Apr', 'May', 'June', 'July', 'Aug', 'Sep', 'Oct', 'Nov', 'Dec' ]\n",
    "\n",
    "m = int(input(\"Month Number (1-12) : \"))\n",
    "if m >= 1 and m <= 12 :\n",
    "    print(\"Before Months are \",*l[:m-1])\n",
    "    print(\"The Given Month is \",l[m - 1])\n",
    "    print(\"After Months are \",*l[m:])\n",
    "else :\n",
    "    print(\"Invalid Input\")\n"
   ]
  },
  {
   "cell_type": "code",
   "execution_count": 38,
   "metadata": {},
   "outputs": [
    {
     "name": "stdout",
     "output_type": "stream",
     "text": [
      "Enter a year : 1900\n",
      "Not a leap Year\n"
     ]
    }
   ],
   "source": [
    "year = int(input(\"Enter a year : \"))\n",
    "if ( ( year % 100 ) and ( year % 4 == 0 ) ) or (  year % 400 == 0 ) :\n",
    "    print(\"Leap Year\")\n",
    "else :\n",
    "    print(\"Not a leap Year\")"
   ]
  },
  {
   "cell_type": "code",
   "execution_count": null,
   "metadata": {
    "collapsed": true
   },
   "outputs": [],
   "source": []
  },
  {
   "cell_type": "code",
   "execution_count": null,
   "metadata": {
    "collapsed": true
   },
   "outputs": [],
   "source": []
  }
 ],
 "metadata": {
  "kernelspec": {
   "display_name": "Python 3",
   "language": "python",
   "name": "python3"
  },
  "language_info": {
   "codemirror_mode": {
    "name": "ipython",
    "version": 3
   },
   "file_extension": ".py",
   "mimetype": "text/x-python",
   "name": "python",
   "nbconvert_exporter": "python",
   "pygments_lexer": "ipython3",
   "version": "3.6.3"
  }
 },
 "nbformat": 4,
 "nbformat_minor": 2
}
