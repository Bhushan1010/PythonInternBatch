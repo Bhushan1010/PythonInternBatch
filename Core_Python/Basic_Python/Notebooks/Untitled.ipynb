{
 "cells": [
  {
   "cell_type": "code",
   "execution_count": 12,
   "metadata": {},
   "outputs": [
    {
     "name": "stdout",
     "output_type": "stream",
     "text": [
      "Enter a num : 5\n",
      "\t------e-----\n",
      "\t-----e-d-e----\n",
      "\t----e-d-c-e-d-e---\n",
      "\t---e-d-c-b-e-d-e-c-d-e--\n",
      "\t--e-d-c-b-a-e-d-e-c-d-e-b-c-d-e-\n",
      "\t-         -\n",
      "\t--       --\n",
      "\t---     ---\n",
      "\t----   ----\n",
      "\t----- -----\n"
     ]
    }
   ],
   "source": [
    "n = int(input(\"Enter a num : \"))\n",
    "char = 96+n\n",
    "for row in range(1,n+1):\n",
    "    char = 96+n\n",
    "    print(\"\\t\",end='')\n",
    "    c = 2*row-1\n",
    "    print(\"-\"*(n-c//2),end='')\n",
    "    #print(\" \"*c,end='')\n",
    "    for var in range(c//2+1):\n",
    "        p = '-'+chr(char)\n",
    "        char -= 1\n",
    "        print(p,end='')\n",
    "    char = 96+n\n",
    "    s = ''\n",
    "    for var in range(c//2):\n",
    "        s = '-'+chr(char)+s\n",
    "        print(s,end='')\n",
    "        char -= 1\n",
    "    print(\"-\"*(n-c//2),end='')\n",
    "    print()\n",
    "for row in range(1,n+1):\n",
    "    print(\"\\t\",end='')\n",
    "    print(\"-\"*(row),end='')\n",
    "    print(\" \"*(2*n-2*row+1),end='')\n",
    "    print(\"-\"*(row),end='')\n",
    "    print()"
   ]
  },
  {
   "cell_type": "code",
   "execution_count": 65,
   "metadata": {},
   "outputs": [
    {
     "name": "stdout",
     "output_type": "stream",
     "text": [
      "6\n",
      "----------f---------\n",
      "--------f-e-f-------\n",
      "------f-e-d-e-f-----\n",
      "----f-e-d-c-d-e-f---\n",
      "--f-e-d-c-b-c-d-e-f-\n",
      "f-e-d-c-b-a-b-c-d-e-f\n"
     ]
    }
   ],
   "source": [
    "n = int(input())\n",
    "dash = 2*n - 3\n",
    "rows = 2*n -1\n",
    "char = 96+n\n",
    "for row in range(n):\n",
    "    if row < n :    \n",
    "        print('-'*(dash-(row*2)),end='')\n",
    "        char = 96+n\n",
    "        for var in  range(2*row+1):\n",
    "            s = ''\n",
    "            if var % 2 == 0 : \n",
    "                if row == n -1 and var == 0:\n",
    "                    s = chr(char)\n",
    "                else :\n",
    "                    s = '-'+chr(char)\n",
    "                print(s,end='')\n",
    "                char -= 1\n",
    "        char = 96+n-row+1\n",
    "        for var in  range(2*row-1):\n",
    "            s = ''\n",
    "            if var % 2 == 0 : \n",
    "                if row == n -1 and var == (2*row-1):\n",
    "                    s = '-'+chr(char)\n",
    "                else :\n",
    "                    s = '-'+chr(char)\n",
    "                print(s,end='')\n",
    "                char += 1\n",
    "        print('-'*(dash-(row*2)),end='')\n",
    "    print()\n"
   ]
  },
  {
   "cell_type": "code",
   "execution_count": null,
   "metadata": {
    "collapsed": true
   },
   "outputs": [],
   "source": [
    "n = int(input())\n",
    "pat = 2*n - 3\n",
    "for row in range(n-1):\n",
    "    print(\"-\"*(2*row+1),end='')\n",
    "    nat = pat-(2*row)\n",
    "    char = 96+n\n",
    "    for var in range(nat//2+1):\n",
    "        if row == 0 and var == 0 :\n",
    "            s = chr(char)\n",
    "            print(s,end='')\n",
    "            char = char-1\n",
    "        else :\n",
    "            s = '-'+chr(char)\n",
    "            char = char - 1\n",
    "            print(s,end='')\n",
    "    char = 97+row+2\n",
    "    for var in range(nat//2):\n",
    "        s = '-'+chr(char)\n",
    "        char += 1\n",
    "        print(s,end='')\n",
    "    print(\"-\"*(2*row+1),end='')\n",
    "    print("
   ]
  },
  {
   "cell_type": "markdown",
   "metadata": {
    "collapsed": true
   },
   "source": [
    "##### "
   ]
  }
 ],
 "metadata": {
  "kernelspec": {
   "display_name": "Python 3",
   "language": "python",
   "name": "python3"
  },
  "language_info": {
   "codemirror_mode": {
    "name": "ipython",
    "version": 3
   },
   "file_extension": ".py",
   "mimetype": "text/x-python",
   "name": "python",
   "nbconvert_exporter": "python",
   "pygments_lexer": "ipython3",
   "version": "3.6.3"
  }
 },
 "nbformat": 4,
 "nbformat_minor": 2
}
