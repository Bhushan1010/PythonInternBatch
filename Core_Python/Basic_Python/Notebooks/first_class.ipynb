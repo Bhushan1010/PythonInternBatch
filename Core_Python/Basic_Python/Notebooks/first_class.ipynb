{
 "cells": [
  {
   "cell_type": "markdown",
   "metadata": {},
   "source": [
    "# Printing Hello"
   ]
  },
  {
   "cell_type": "code",
   "execution_count": 1,
   "metadata": {},
   "outputs": [
    {
     "name": "stdout",
     "output_type": "stream",
     "text": [
      "Enter your name : sachin\n",
      "Welcome to jupyter notebook  sachin\n"
     ]
    }
   ],
   "source": [
    "name = input(\"Enter your name : \") #input used take input from user\n",
    "print(\"Welcome to jupyter notebook \",name) #print use to display output "
   ]
  },
  {
   "cell_type": "markdown",
   "metadata": {
    "collapsed": true
   },
   "source": [
    "# DATA TYPES in PYTHON"
   ]
  },
  {
   "cell_type": "markdown",
   "metadata": {},
   "source": [
    "1. Numbers\n",
    "2. String\n",
    "3. List\n",
    "4. Tuple\n",
    "5. Dictionary\n",
    "6. Sets"
   ]
  },
  {
   "cell_type": "code",
   "execution_count": 2,
   "metadata": {},
   "outputs": [
    {
     "name": "stdout",
     "output_type": "stream",
     "text": [
      "<class 'int'> 5\n",
      "<class 'float'> 3.14\n",
      "<class 'complex'> (3.14+5j)\n",
      "<class 'str'> Hello world\n"
     ]
    }
   ],
   "source": [
    "#1. Number \n",
    "# Integers \n",
    "x = 5 # 5 will stored in x so we can say x is a container or variable\n",
    "#float\n",
    "y = 3.14 #Float are Real Number\n",
    "#complex \n",
    "z = 3.14+5j\n",
    "print(type(x),x)\n",
    "print(type(y),y)\n",
    "print(type(z),z)\n",
    "x = 'Hello world'\n",
    "print(type(x),x)"
   ]
  },
  {
   "cell_type": "code",
   "execution_count": 6,
   "metadata": {},
   "outputs": [
    {
     "name": "stdout",
     "output_type": "stream",
     "text": [
      "Enter a Integer Number : 123\n",
      "Enter a Float Number  : 12.6\n",
      "Enter a Complex Number : 78\n",
      "<class 'int'> 123\n",
      "<class 'float'> 12.6\n",
      "<class 'complex'> (78+0j)\n"
     ]
    }
   ],
   "source": [
    "x = int(input(\"Enter a Integer Number : \"))\n",
    "y = float(input(\"Enter a Float Number  : \"))\n",
    "z = complex(input(\"Enter a Complex Number : \"))\n",
    "print(type(x),x)\n",
    "print(type(y),y)\n",
    "print(type(z),z)\n"
   ]
  },
  {
   "cell_type": "code",
   "execution_count": 8,
   "metadata": {},
   "outputs": [
    {
     "name": "stdout",
     "output_type": "stream",
     "text": [
      "Enter value of X : 10.98798789327\n",
      "Enter value of Y : 12.2873498734\n",
      "Addition of 10.98798789327 and 12.2873498734 is = 23.27533776667 \n",
      "Addition of 10.99 and 12.29 is = 23.28 \n"
     ]
    }
   ],
   "source": [
    "x = float(input(\"Enter value of X : \"))\n",
    "y = float(input(\"Enter value of Y : \"))\n",
    "z = x+y\n",
    "print(\"Addition of {} and {} is = {} \".format(x,y,z))\n",
    "print(\"Addition of %.2f and %.2f is = %.2f \"%(x,y,z))"
   ]
  },
  {
   "cell_type": "code",
   "execution_count": null,
   "metadata": {
    "collapsed": true
   },
   "outputs": [],
   "source": []
  }
 ],
 "metadata": {
  "kernelspec": {
   "display_name": "Python 3",
   "language": "python",
   "name": "python3"
  },
  "language_info": {
   "codemirror_mode": {
    "name": "ipython",
    "version": 3
   },
   "file_extension": ".py",
   "mimetype": "text/x-python",
   "name": "python",
   "nbconvert_exporter": "python",
   "pygments_lexer": "ipython3",
   "version": "3.6.3"
  }
 },
 "nbformat": 4,
 "nbformat_minor": 2
}
