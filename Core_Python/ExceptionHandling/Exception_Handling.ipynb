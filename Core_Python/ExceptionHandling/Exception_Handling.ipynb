{
 "cells": [
  {
   "cell_type": "code",
   "execution_count": 1,
   "metadata": {},
   "outputs": [
    {
     "name": "stdout",
     "output_type": "stream",
     "text": [
      "Enter a number : abcdefghij\n"
     ]
    },
    {
     "ename": "ValueError",
     "evalue": "invalid literal for int() with base 10: 'abcdefghij'",
     "output_type": "error",
     "traceback": [
      "\u001b[1;31m---------------------------------------------------------------------------\u001b[0m",
      "\u001b[1;31mValueError\u001b[0m                                Traceback (most recent call last)",
      "\u001b[1;32m<ipython-input-1-84132a1f3aab>\u001b[0m in \u001b[0;36m<module>\u001b[1;34m()\u001b[0m\n\u001b[1;32m----> 1\u001b[1;33m \u001b[0mnum\u001b[0m \u001b[1;33m=\u001b[0m \u001b[0mint\u001b[0m\u001b[1;33m(\u001b[0m\u001b[0minput\u001b[0m\u001b[1;33m(\u001b[0m\u001b[1;34m\"Enter a number : \"\u001b[0m\u001b[1;33m)\u001b[0m\u001b[1;33m)\u001b[0m\u001b[1;33m\u001b[0m\u001b[0m\n\u001b[0m",
      "\u001b[1;31mValueError\u001b[0m: invalid literal for int() with base 10: 'abcdefghij'"
     ]
    }
   ],
   "source": [
    "num = int(input(\"Enter a number : \"))"
   ]
  },
  {
   "cell_type": "code",
   "execution_count": 2,
   "metadata": {},
   "outputs": [
    {
     "ename": "FileNotFoundError",
     "evalue": "[Errno 2] No such file or directory: 'abrakadabra'",
     "output_type": "error",
     "traceback": [
      "\u001b[1;31m---------------------------------------------------------------------------\u001b[0m",
      "\u001b[1;31mFileNotFoundError\u001b[0m                         Traceback (most recent call last)",
      "\u001b[1;32m<ipython-input-2-4800f5a8e4e1>\u001b[0m in \u001b[0;36m<module>\u001b[1;34m()\u001b[0m\n\u001b[1;32m----> 1\u001b[1;33m \u001b[0mf\u001b[0m \u001b[1;33m=\u001b[0m \u001b[0mopen\u001b[0m\u001b[1;33m(\u001b[0m\u001b[1;34m'abrakadabra'\u001b[0m\u001b[1;33m)\u001b[0m\u001b[1;33m\u001b[0m\u001b[0m\n\u001b[0m",
      "\u001b[1;31mFileNotFoundError\u001b[0m: [Errno 2] No such file or directory: 'abrakadabra'"
     ]
    }
   ],
   "source": [
    "f = open('abrakadabra')"
   ]
  },
  {
   "cell_type": "code",
   "execution_count": 3,
   "metadata": {},
   "outputs": [
    {
     "ename": "NameError",
     "evalue": "name 'hello' is not defined",
     "output_type": "error",
     "traceback": [
      "\u001b[1;31m---------------------------------------------------------------------------\u001b[0m",
      "\u001b[1;31mNameError\u001b[0m                                 Traceback (most recent call last)",
      "\u001b[1;32m<ipython-input-3-a803225a2f97>\u001b[0m in \u001b[0;36m<module>\u001b[1;34m()\u001b[0m\n\u001b[1;32m----> 1\u001b[1;33m \u001b[0mhello\u001b[0m\u001b[1;33m(\u001b[0m\u001b[1;33m)\u001b[0m\u001b[1;33m\u001b[0m\u001b[0m\n\u001b[0m",
      "\u001b[1;31mNameError\u001b[0m: name 'hello' is not defined"
     ]
    }
   ],
   "source": [
    "hello()"
   ]
  },
  {
   "cell_type": "code",
   "execution_count": 4,
   "metadata": {},
   "outputs": [
    {
     "ename": "SyntaxError",
     "evalue": "invalid syntax (<ipython-input-4-6f5902ac2370>, line 1)",
     "output_type": "error",
     "traceback": [
      "\u001b[1;36m  File \u001b[1;32m\"<ipython-input-4-6f5902ac2370>\"\u001b[1;36m, line \u001b[1;32m1\u001b[0m\n\u001b[1;33m    hello world\u001b[0m\n\u001b[1;37m              ^\u001b[0m\n\u001b[1;31mSyntaxError\u001b[0m\u001b[1;31m:\u001b[0m invalid syntax\n"
     ]
    }
   ],
   "source": [
    " hello world"
   ]
  },
  {
   "cell_type": "code",
   "execution_count": 5,
   "metadata": {},
   "outputs": [
    {
     "ename": "IndentationError",
     "evalue": "expected an indented block (<ipython-input-5-150b60160f28>, line 2)",
     "output_type": "error",
     "traceback": [
      "\u001b[1;36m  File \u001b[1;32m\"<ipython-input-5-150b60160f28>\"\u001b[1;36m, line \u001b[1;32m2\u001b[0m\n\u001b[1;33m    print(\"hello\")\u001b[0m\n\u001b[1;37m        ^\u001b[0m\n\u001b[1;31mIndentationError\u001b[0m\u001b[1;31m:\u001b[0m expected an indented block\n"
     ]
    }
   ],
   "source": [
    "def hello():\n",
    "print(\"hello\")"
   ]
  },
  {
   "cell_type": "code",
   "execution_count": 6,
   "metadata": {},
   "outputs": [
    {
     "ename": "ZeroDivisionError",
     "evalue": "division by zero",
     "output_type": "error",
     "traceback": [
      "\u001b[1;31m---------------------------------------------------------------------------\u001b[0m",
      "\u001b[1;31mZeroDivisionError\u001b[0m                         Traceback (most recent call last)",
      "\u001b[1;32m<ipython-input-6-05c9758a9c21>\u001b[0m in \u001b[0;36m<module>\u001b[1;34m()\u001b[0m\n\u001b[1;32m----> 1\u001b[1;33m \u001b[1;36m1\u001b[0m\u001b[1;33m/\u001b[0m\u001b[1;36m0\u001b[0m\u001b[1;33m\u001b[0m\u001b[0m\n\u001b[0m",
      "\u001b[1;31mZeroDivisionError\u001b[0m: division by zero"
     ]
    }
   ],
   "source": [
    "1/0"
   ]
  },
  {
   "cell_type": "code",
   "execution_count": 7,
   "metadata": {},
   "outputs": [
    {
     "ename": "UnboundLocalError",
     "evalue": "local variable 'x' referenced before assignment",
     "output_type": "error",
     "traceback": [
      "\u001b[1;31m---------------------------------------------------------------------------\u001b[0m",
      "\u001b[1;31mUnboundLocalError\u001b[0m                         Traceback (most recent call last)",
      "\u001b[1;32m<ipython-input-7-0f9d4545a641>\u001b[0m in \u001b[0;36m<module>\u001b[1;34m()\u001b[0m\n\u001b[0;32m      2\u001b[0m \u001b[1;32mdef\u001b[0m \u001b[0mhello\u001b[0m\u001b[1;33m(\u001b[0m\u001b[1;33m)\u001b[0m\u001b[1;33m:\u001b[0m\u001b[1;33m\u001b[0m\u001b[0m\n\u001b[0;32m      3\u001b[0m     \u001b[0mx\u001b[0m \u001b[1;33m=\u001b[0m \u001b[0mx\u001b[0m \u001b[1;33m+\u001b[0m \u001b[1;36m5\u001b[0m\u001b[1;33m\u001b[0m\u001b[0m\n\u001b[1;32m----> 4\u001b[1;33m \u001b[0mhello\u001b[0m\u001b[1;33m(\u001b[0m\u001b[1;33m)\u001b[0m\u001b[1;33m\u001b[0m\u001b[0m\n\u001b[0m",
      "\u001b[1;32m<ipython-input-7-0f9d4545a641>\u001b[0m in \u001b[0;36mhello\u001b[1;34m()\u001b[0m\n\u001b[0;32m      1\u001b[0m \u001b[0mx\u001b[0m \u001b[1;33m=\u001b[0m \u001b[1;36m10\u001b[0m\u001b[1;33m\u001b[0m\u001b[0m\n\u001b[0;32m      2\u001b[0m \u001b[1;32mdef\u001b[0m \u001b[0mhello\u001b[0m\u001b[1;33m(\u001b[0m\u001b[1;33m)\u001b[0m\u001b[1;33m:\u001b[0m\u001b[1;33m\u001b[0m\u001b[0m\n\u001b[1;32m----> 3\u001b[1;33m     \u001b[0mx\u001b[0m \u001b[1;33m=\u001b[0m \u001b[0mx\u001b[0m \u001b[1;33m+\u001b[0m \u001b[1;36m5\u001b[0m\u001b[1;33m\u001b[0m\u001b[0m\n\u001b[0m\u001b[0;32m      4\u001b[0m \u001b[0mhello\u001b[0m\u001b[1;33m(\u001b[0m\u001b[1;33m)\u001b[0m\u001b[1;33m\u001b[0m\u001b[0m\n",
      "\u001b[1;31mUnboundLocalError\u001b[0m: local variable 'x' referenced before assignment"
     ]
    }
   ],
   "source": [
    "x = 10 \n",
    "def hello():\n",
    "    x = x + 5\n",
    "hello()"
   ]
  },
  {
   "cell_type": "code",
   "execution_count": 9,
   "metadata": {},
   "outputs": [
    {
     "name": "stdout",
     "output_type": "stream",
     "text": [
      "Enter a number : 123\n",
      "Erorr!! I Asked for an interger\n"
     ]
    }
   ],
   "source": [
    "try :\n",
    "    x = int(input(\"Enter a number : \"))\n",
    "    y = 1/0\n",
    "except :\n",
    "    print(\"Erorr!! I Asked for an interger\")"
   ]
  },
  {
   "cell_type": "code",
   "execution_count": 10,
   "metadata": {},
   "outputs": [
    {
     "ename": "IndexError",
     "evalue": "list index out of range",
     "output_type": "error",
     "traceback": [
      "\u001b[1;31m---------------------------------------------------------------------------\u001b[0m",
      "\u001b[1;31mIndexError\u001b[0m                                Traceback (most recent call last)",
      "\u001b[1;32m<ipython-input-10-f9d21a18cda9>\u001b[0m in \u001b[0;36m<module>\u001b[1;34m()\u001b[0m\n\u001b[0;32m      1\u001b[0m \u001b[0ml\u001b[0m \u001b[1;33m=\u001b[0m \u001b[1;33m[\u001b[0m \u001b[1;36m1\u001b[0m\u001b[1;33m,\u001b[0m\u001b[1;36m2\u001b[0m\u001b[1;33m,\u001b[0m\u001b[1;36m3\u001b[0m\u001b[1;33m,\u001b[0m\u001b[1;36m4\u001b[0m\u001b[1;33m]\u001b[0m\u001b[1;33m\u001b[0m\u001b[0m\n\u001b[1;32m----> 2\u001b[1;33m \u001b[0ml\u001b[0m\u001b[1;33m[\u001b[0m\u001b[1;36m10\u001b[0m\u001b[1;33m]\u001b[0m\u001b[1;33m\u001b[0m\u001b[0m\n\u001b[0m",
      "\u001b[1;31mIndexError\u001b[0m: list index out of range"
     ]
    }
   ],
   "source": [
    "l = [ 1,2,3,4]\n",
    "l[10]"
   ]
  },
  {
   "cell_type": "code",
   "execution_count": 19,
   "metadata": {},
   "outputs": [
    {
     "name": "stdout",
     "output_type": "stream",
     "text": [
      "Enter a  : 1\n",
      "Enter y : 0\n",
      "Error!! division by zero\n",
      "\n",
      "Thanks for using our services \n"
     ]
    }
   ],
   "source": [
    "try :\n",
    "    x = int(input(\"Enter a  : \")) / int(input(\"Enter y : \"))\n",
    "    f = open(input(\"Enter file name : \"))\n",
    "    f.close()\n",
    "except Exception as error :\n",
    "    print(\"Error!!\",error)\n",
    "else :\n",
    "    print(\"Hey you are a good boy\")\n",
    "finally :\n",
    "    print(\"\\nThanks for using our services \")"
   ]
  },
  {
   "cell_type": "code",
   "execution_count": 22,
   "metadata": {},
   "outputs": [
    {
     "name": "stdout",
     "output_type": "stream",
     "text": [
      "Enter Interger x  : 1\n",
      "Enter Integer y  : 2\n",
      "Enter file name : ;alkjflksjfldjlaj\n",
      "Bhaisaab File ka path to dekh lo phle\n",
      "\n",
      "Thanks for using our services \n"
     ]
    }
   ],
   "source": [
    "try :\n",
    "    x = int(input(\"Enter Interger x  : \")) / int(input(\"Enter Integer y  : \"))\n",
    "    f = open(input(\"Enter file name : \"))\n",
    "    f.close()\n",
    "except ValueError as error : \n",
    "    print(\"Gadhe Integer ka bola hai to integer hi daal\")\n",
    "except ZeroDivisionError as e :\n",
    "    print(\"Bhai Mahan hai Tu Zero se divide karega ab\")\n",
    "except FileNotFoundError as e :\n",
    "    print(\"Bhaisaab File ka path to dekh lo phle\")\n",
    "except Exception as error :\n",
    "    print(\"Error!!\",error)\n",
    "else :\n",
    "    print(\"Hey you are a good boy\")\n",
    "finally :\n",
    "    print(\"\\nThanks for using our services \")"
   ]
  },
  {
   "cell_type": "code",
   "execution_count": 32,
   "metadata": {},
   "outputs": [],
   "source": [
    "def program():\n",
    "    try : \n",
    "        x = int(input(\"Enter a positive number : \"))\n",
    "        if x <= 0 :\n",
    "            raise ZeroDivisionError(\"Number should not be negative\")\n",
    "        return None\n",
    "    except ValueError as e :\n",
    "        print(\"Please only a Interger number \")\n",
    "        return program()\n",
    "    except ZeroDivisionError as e :\n",
    "        print(\"!!Error!!\",e)\n",
    "        return program()\n",
    "    except Exception as e :\n",
    "        print(\"!!Error!!!Something Went Wrong\")\n",
    "        return program()\n",
    "    else :\n",
    "        print(\"Your work Sucessfully Done\")\n",
    "    finally :\n",
    "        print(\"\\nThanks for using This Program\")\n",
    "    "
   ]
  },
  {
   "cell_type": "code",
   "execution_count": 33,
   "metadata": {},
   "outputs": [
    {
     "name": "stdout",
     "output_type": "stream",
     "text": [
      "Enter a positive number : -123\n",
      "!!Error!! Number should not be negative\n",
      "Enter a positive number : -123\n",
      "!!Error!! Number should not be negative\n",
      "Enter a positive number : 123\n",
      "\n",
      "Thanks for using This Program\n",
      "\n",
      "Thanks for using This Program\n",
      "\n",
      "Thanks for using This Program\n"
     ]
    }
   ],
   "source": [
    "program()"
   ]
  },
  {
   "cell_type": "code",
   "execution_count": 36,
   "metadata": {
    "collapsed": true
   },
   "outputs": [],
   "source": [
    "def program():\n",
    "    try : \n",
    "        x = int(input(\"Enter a positive number : \"))\n",
    "        assert x > 0 ,\"Number should not be negative\"\n",
    "    except ValueError as e :\n",
    "        print(\"Please only a Interger number \")\n",
    "        return program()\n",
    "    except AssertionError as e :\n",
    "        print(\"!!Error!!\",e)\n",
    "        return program()\n",
    "    except Exception as e :\n",
    "        print(\"!!Error!!!Something Went Wrong\")\n",
    "        return program()\n",
    "    else :\n",
    "        print(\"Your work Sucessfully Done\")\n",
    "    finally :\n",
    "        print(\"\\nThanks for using This Program\")\n",
    "    "
   ]
  },
  {
   "cell_type": "code",
   "execution_count": 37,
   "metadata": {},
   "outputs": [
    {
     "name": "stdout",
     "output_type": "stream",
     "text": [
      "Enter a positive number : -123\n",
      "!!Error!! Number should not be negative\n",
      "Enter a positive number : -123\n",
      "!!Error!! Number should not be negative\n",
      "Enter a positive number : lkfjd\n",
      "Please only a Interger number \n",
      "Enter a positive number : 123\n",
      "Your work Sucessfully Done\n",
      "\n",
      "Thanks for using This Program\n",
      "\n",
      "Thanks for using This Program\n",
      "\n",
      "Thanks for using This Program\n",
      "\n",
      "Thanks for using This Program\n"
     ]
    }
   ],
   "source": [
    "program()"
   ]
  },
  {
   "cell_type": "code",
   "execution_count": 38,
   "metadata": {
    "collapsed": true
   },
   "outputs": [],
   "source": [
    "class MyError(ValueError):\n",
    "    def __init__(self,arg=None):\n",
    "        ValueError.__init__(self)\n",
    "        self.arg = arg\n",
    "    def __str__(self):\n",
    "        if self.arg :\n",
    "            return self.arg\n",
    "        else :\n",
    "            return \"MyError you are Trying to Do some Nesty Stuff Be in your limits\"\n",
    "        "
   ]
  },
  {
   "cell_type": "code",
   "execution_count": 39,
   "metadata": {},
   "outputs": [
    {
     "name": "stdout",
     "output_type": "stream",
     "text": [
      "Enter Positive number : -123\n",
      "!Error!! Number can not be Negative\n"
     ]
    }
   ],
   "source": [
    "try :\n",
    "    x = int(input(\"Enter Positive number : \"))\n",
    "    if x < 0 :\n",
    "        raise MyError(\"Number can not be Negative\")\n",
    "except MyError as e :\n",
    "    print(\"!Error!!\",e)\n",
    "    "
   ]
  },
  {
   "cell_type": "code",
   "execution_count": 40,
   "metadata": {},
   "outputs": [
    {
     "name": "stdout",
     "output_type": "stream",
     "text": [
      "Enter Positive number : -123\n",
      "!Error!! MyError you are Trying to Do some Nesty Stuff Be in your limits\n"
     ]
    }
   ],
   "source": [
    "try :\n",
    "    x = int(input(\"Enter Positive number : \"))\n",
    "    if x < 0 :\n",
    "        raise MyError()\n",
    "except MyError as e :\n",
    "    print(\"!Error!!\",e)\n",
    "    "
   ]
  },
  {
   "cell_type": "code",
   "execution_count": null,
   "metadata": {
    "collapsed": true
   },
   "outputs": [],
   "source": []
  }
 ],
 "metadata": {
  "kernelspec": {
   "display_name": "Python 3",
   "language": "python",
   "name": "python3"
  },
  "language_info": {
   "codemirror_mode": {
    "name": "ipython",
    "version": 3
   },
   "file_extension": ".py",
   "mimetype": "text/x-python",
   "name": "python",
   "nbconvert_exporter": "python",
   "pygments_lexer": "ipython3",
   "version": "3.6.3"
  }
 },
 "nbformat": 4,
 "nbformat_minor": 2
}
